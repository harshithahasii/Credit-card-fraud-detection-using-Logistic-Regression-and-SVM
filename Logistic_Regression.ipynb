{
  "nbformat": 4,
  "nbformat_minor": 0,
  "metadata": {
    "colab": {
      "name": "Logistic Regression.ipynb",
      "provenance": [],
      "collapsed_sections": []
    },
    "kernelspec": {
      "name": "python3",
      "display_name": "Python 3"
    }
  },
  "cells": [
    {
      "cell_type": "code",
      "metadata": {
        "id": "qYc1yfk7zW3k"
      },
      "source": [
        "import pandas as pd\n",
        "import numpy as np \n",
        "import matplotlib.pyplot as plt\n",
        "import seaborn as sns\n",
        "from scipy import stats\n",
        "from sklearn.model_selection import train_test_split\n",
        "from sklearn.metrics import confusion_matrix , roc_curve\n",
        "from sklearn.linear_model import LogisticRegression "
      ],
      "execution_count": null,
      "outputs": []
    },
    {
      "cell_type": "code",
      "metadata": {
        "id": "vSDS9h6z9HtX"
      },
      "source": [
        "df = pd.read_csv(\"/content/drive/MyDrive/Colab Notebooks/creditcard.csv\")"
      ],
      "execution_count": null,
      "outputs": []
    },
    {
      "cell_type": "code",
      "metadata": {
        "colab": {
          "base_uri": "https://localhost:8080/",
          "height": 311
        },
        "id": "l3gwFr5e9qJG",
        "outputId": "5e072448-9c47-4958-c48a-8420b9d7cc50"
      },
      "source": [
        "df.describe()"
      ],
      "execution_count": null,
      "outputs": [
        {
          "output_type": "execute_result",
          "data": {
            "text/html": [
              "<div>\n",
              "<style scoped>\n",
              "    .dataframe tbody tr th:only-of-type {\n",
              "        vertical-align: middle;\n",
              "    }\n",
              "\n",
              "    .dataframe tbody tr th {\n",
              "        vertical-align: top;\n",
              "    }\n",
              "\n",
              "    .dataframe thead th {\n",
              "        text-align: right;\n",
              "    }\n",
              "</style>\n",
              "<table border=\"1\" class=\"dataframe\">\n",
              "  <thead>\n",
              "    <tr style=\"text-align: right;\">\n",
              "      <th></th>\n",
              "      <th>Time</th>\n",
              "      <th>V1</th>\n",
              "      <th>V2</th>\n",
              "      <th>V3</th>\n",
              "      <th>V4</th>\n",
              "      <th>V5</th>\n",
              "      <th>V6</th>\n",
              "      <th>V7</th>\n",
              "      <th>V8</th>\n",
              "      <th>V9</th>\n",
              "      <th>V10</th>\n",
              "      <th>V11</th>\n",
              "      <th>V12</th>\n",
              "      <th>V13</th>\n",
              "      <th>V14</th>\n",
              "      <th>V15</th>\n",
              "      <th>V16</th>\n",
              "      <th>V17</th>\n",
              "      <th>V18</th>\n",
              "      <th>V19</th>\n",
              "      <th>V20</th>\n",
              "      <th>V21</th>\n",
              "      <th>V22</th>\n",
              "      <th>V23</th>\n",
              "      <th>V24</th>\n",
              "      <th>V25</th>\n",
              "      <th>V26</th>\n",
              "      <th>V27</th>\n",
              "      <th>V28</th>\n",
              "      <th>Amount</th>\n",
              "      <th>Class</th>\n",
              "    </tr>\n",
              "  </thead>\n",
              "  <tbody>\n",
              "    <tr>\n",
              "      <th>count</th>\n",
              "      <td>284807.000000</td>\n",
              "      <td>2.848070e+05</td>\n",
              "      <td>2.848070e+05</td>\n",
              "      <td>2.848070e+05</td>\n",
              "      <td>2.848070e+05</td>\n",
              "      <td>2.848070e+05</td>\n",
              "      <td>2.848070e+05</td>\n",
              "      <td>2.848070e+05</td>\n",
              "      <td>2.848070e+05</td>\n",
              "      <td>2.848070e+05</td>\n",
              "      <td>2.848070e+05</td>\n",
              "      <td>2.848070e+05</td>\n",
              "      <td>2.848070e+05</td>\n",
              "      <td>2.848070e+05</td>\n",
              "      <td>2.848070e+05</td>\n",
              "      <td>2.848070e+05</td>\n",
              "      <td>2.848070e+05</td>\n",
              "      <td>2.848070e+05</td>\n",
              "      <td>2.848070e+05</td>\n",
              "      <td>2.848070e+05</td>\n",
              "      <td>2.848070e+05</td>\n",
              "      <td>2.848070e+05</td>\n",
              "      <td>2.848070e+05</td>\n",
              "      <td>2.848070e+05</td>\n",
              "      <td>2.848070e+05</td>\n",
              "      <td>2.848070e+05</td>\n",
              "      <td>2.848070e+05</td>\n",
              "      <td>2.848070e+05</td>\n",
              "      <td>2.848070e+05</td>\n",
              "      <td>284807.000000</td>\n",
              "      <td>284807.000000</td>\n",
              "    </tr>\n",
              "    <tr>\n",
              "      <th>mean</th>\n",
              "      <td>94813.859575</td>\n",
              "      <td>3.919560e-15</td>\n",
              "      <td>5.688174e-16</td>\n",
              "      <td>-8.769071e-15</td>\n",
              "      <td>2.782312e-15</td>\n",
              "      <td>-1.552563e-15</td>\n",
              "      <td>2.010663e-15</td>\n",
              "      <td>-1.694249e-15</td>\n",
              "      <td>-1.927028e-16</td>\n",
              "      <td>-3.137024e-15</td>\n",
              "      <td>1.768627e-15</td>\n",
              "      <td>9.170318e-16</td>\n",
              "      <td>-1.810658e-15</td>\n",
              "      <td>1.693438e-15</td>\n",
              "      <td>1.479045e-15</td>\n",
              "      <td>3.482336e-15</td>\n",
              "      <td>1.392007e-15</td>\n",
              "      <td>-7.528491e-16</td>\n",
              "      <td>4.328772e-16</td>\n",
              "      <td>9.049732e-16</td>\n",
              "      <td>5.085503e-16</td>\n",
              "      <td>1.537294e-16</td>\n",
              "      <td>7.959909e-16</td>\n",
              "      <td>5.367590e-16</td>\n",
              "      <td>4.458112e-15</td>\n",
              "      <td>1.453003e-15</td>\n",
              "      <td>1.699104e-15</td>\n",
              "      <td>-3.660161e-16</td>\n",
              "      <td>-1.206049e-16</td>\n",
              "      <td>88.349619</td>\n",
              "      <td>0.001727</td>\n",
              "    </tr>\n",
              "    <tr>\n",
              "      <th>std</th>\n",
              "      <td>47488.145955</td>\n",
              "      <td>1.958696e+00</td>\n",
              "      <td>1.651309e+00</td>\n",
              "      <td>1.516255e+00</td>\n",
              "      <td>1.415869e+00</td>\n",
              "      <td>1.380247e+00</td>\n",
              "      <td>1.332271e+00</td>\n",
              "      <td>1.237094e+00</td>\n",
              "      <td>1.194353e+00</td>\n",
              "      <td>1.098632e+00</td>\n",
              "      <td>1.088850e+00</td>\n",
              "      <td>1.020713e+00</td>\n",
              "      <td>9.992014e-01</td>\n",
              "      <td>9.952742e-01</td>\n",
              "      <td>9.585956e-01</td>\n",
              "      <td>9.153160e-01</td>\n",
              "      <td>8.762529e-01</td>\n",
              "      <td>8.493371e-01</td>\n",
              "      <td>8.381762e-01</td>\n",
              "      <td>8.140405e-01</td>\n",
              "      <td>7.709250e-01</td>\n",
              "      <td>7.345240e-01</td>\n",
              "      <td>7.257016e-01</td>\n",
              "      <td>6.244603e-01</td>\n",
              "      <td>6.056471e-01</td>\n",
              "      <td>5.212781e-01</td>\n",
              "      <td>4.822270e-01</td>\n",
              "      <td>4.036325e-01</td>\n",
              "      <td>3.300833e-01</td>\n",
              "      <td>250.120109</td>\n",
              "      <td>0.041527</td>\n",
              "    </tr>\n",
              "    <tr>\n",
              "      <th>min</th>\n",
              "      <td>0.000000</td>\n",
              "      <td>-5.640751e+01</td>\n",
              "      <td>-7.271573e+01</td>\n",
              "      <td>-4.832559e+01</td>\n",
              "      <td>-5.683171e+00</td>\n",
              "      <td>-1.137433e+02</td>\n",
              "      <td>-2.616051e+01</td>\n",
              "      <td>-4.355724e+01</td>\n",
              "      <td>-7.321672e+01</td>\n",
              "      <td>-1.343407e+01</td>\n",
              "      <td>-2.458826e+01</td>\n",
              "      <td>-4.797473e+00</td>\n",
              "      <td>-1.868371e+01</td>\n",
              "      <td>-5.791881e+00</td>\n",
              "      <td>-1.921433e+01</td>\n",
              "      <td>-4.498945e+00</td>\n",
              "      <td>-1.412985e+01</td>\n",
              "      <td>-2.516280e+01</td>\n",
              "      <td>-9.498746e+00</td>\n",
              "      <td>-7.213527e+00</td>\n",
              "      <td>-5.449772e+01</td>\n",
              "      <td>-3.483038e+01</td>\n",
              "      <td>-1.093314e+01</td>\n",
              "      <td>-4.480774e+01</td>\n",
              "      <td>-2.836627e+00</td>\n",
              "      <td>-1.029540e+01</td>\n",
              "      <td>-2.604551e+00</td>\n",
              "      <td>-2.256568e+01</td>\n",
              "      <td>-1.543008e+01</td>\n",
              "      <td>0.000000</td>\n",
              "      <td>0.000000</td>\n",
              "    </tr>\n",
              "    <tr>\n",
              "      <th>25%</th>\n",
              "      <td>54201.500000</td>\n",
              "      <td>-9.203734e-01</td>\n",
              "      <td>-5.985499e-01</td>\n",
              "      <td>-8.903648e-01</td>\n",
              "      <td>-8.486401e-01</td>\n",
              "      <td>-6.915971e-01</td>\n",
              "      <td>-7.682956e-01</td>\n",
              "      <td>-5.540759e-01</td>\n",
              "      <td>-2.086297e-01</td>\n",
              "      <td>-6.430976e-01</td>\n",
              "      <td>-5.354257e-01</td>\n",
              "      <td>-7.624942e-01</td>\n",
              "      <td>-4.055715e-01</td>\n",
              "      <td>-6.485393e-01</td>\n",
              "      <td>-4.255740e-01</td>\n",
              "      <td>-5.828843e-01</td>\n",
              "      <td>-4.680368e-01</td>\n",
              "      <td>-4.837483e-01</td>\n",
              "      <td>-4.988498e-01</td>\n",
              "      <td>-4.562989e-01</td>\n",
              "      <td>-2.117214e-01</td>\n",
              "      <td>-2.283949e-01</td>\n",
              "      <td>-5.423504e-01</td>\n",
              "      <td>-1.618463e-01</td>\n",
              "      <td>-3.545861e-01</td>\n",
              "      <td>-3.171451e-01</td>\n",
              "      <td>-3.269839e-01</td>\n",
              "      <td>-7.083953e-02</td>\n",
              "      <td>-5.295979e-02</td>\n",
              "      <td>5.600000</td>\n",
              "      <td>0.000000</td>\n",
              "    </tr>\n",
              "    <tr>\n",
              "      <th>50%</th>\n",
              "      <td>84692.000000</td>\n",
              "      <td>1.810880e-02</td>\n",
              "      <td>6.548556e-02</td>\n",
              "      <td>1.798463e-01</td>\n",
              "      <td>-1.984653e-02</td>\n",
              "      <td>-5.433583e-02</td>\n",
              "      <td>-2.741871e-01</td>\n",
              "      <td>4.010308e-02</td>\n",
              "      <td>2.235804e-02</td>\n",
              "      <td>-5.142873e-02</td>\n",
              "      <td>-9.291738e-02</td>\n",
              "      <td>-3.275735e-02</td>\n",
              "      <td>1.400326e-01</td>\n",
              "      <td>-1.356806e-02</td>\n",
              "      <td>5.060132e-02</td>\n",
              "      <td>4.807155e-02</td>\n",
              "      <td>6.641332e-02</td>\n",
              "      <td>-6.567575e-02</td>\n",
              "      <td>-3.636312e-03</td>\n",
              "      <td>3.734823e-03</td>\n",
              "      <td>-6.248109e-02</td>\n",
              "      <td>-2.945017e-02</td>\n",
              "      <td>6.781943e-03</td>\n",
              "      <td>-1.119293e-02</td>\n",
              "      <td>4.097606e-02</td>\n",
              "      <td>1.659350e-02</td>\n",
              "      <td>-5.213911e-02</td>\n",
              "      <td>1.342146e-03</td>\n",
              "      <td>1.124383e-02</td>\n",
              "      <td>22.000000</td>\n",
              "      <td>0.000000</td>\n",
              "    </tr>\n",
              "    <tr>\n",
              "      <th>75%</th>\n",
              "      <td>139320.500000</td>\n",
              "      <td>1.315642e+00</td>\n",
              "      <td>8.037239e-01</td>\n",
              "      <td>1.027196e+00</td>\n",
              "      <td>7.433413e-01</td>\n",
              "      <td>6.119264e-01</td>\n",
              "      <td>3.985649e-01</td>\n",
              "      <td>5.704361e-01</td>\n",
              "      <td>3.273459e-01</td>\n",
              "      <td>5.971390e-01</td>\n",
              "      <td>4.539234e-01</td>\n",
              "      <td>7.395934e-01</td>\n",
              "      <td>6.182380e-01</td>\n",
              "      <td>6.625050e-01</td>\n",
              "      <td>4.931498e-01</td>\n",
              "      <td>6.488208e-01</td>\n",
              "      <td>5.232963e-01</td>\n",
              "      <td>3.996750e-01</td>\n",
              "      <td>5.008067e-01</td>\n",
              "      <td>4.589494e-01</td>\n",
              "      <td>1.330408e-01</td>\n",
              "      <td>1.863772e-01</td>\n",
              "      <td>5.285536e-01</td>\n",
              "      <td>1.476421e-01</td>\n",
              "      <td>4.395266e-01</td>\n",
              "      <td>3.507156e-01</td>\n",
              "      <td>2.409522e-01</td>\n",
              "      <td>9.104512e-02</td>\n",
              "      <td>7.827995e-02</td>\n",
              "      <td>77.165000</td>\n",
              "      <td>0.000000</td>\n",
              "    </tr>\n",
              "    <tr>\n",
              "      <th>max</th>\n",
              "      <td>172792.000000</td>\n",
              "      <td>2.454930e+00</td>\n",
              "      <td>2.205773e+01</td>\n",
              "      <td>9.382558e+00</td>\n",
              "      <td>1.687534e+01</td>\n",
              "      <td>3.480167e+01</td>\n",
              "      <td>7.330163e+01</td>\n",
              "      <td>1.205895e+02</td>\n",
              "      <td>2.000721e+01</td>\n",
              "      <td>1.559499e+01</td>\n",
              "      <td>2.374514e+01</td>\n",
              "      <td>1.201891e+01</td>\n",
              "      <td>7.848392e+00</td>\n",
              "      <td>7.126883e+00</td>\n",
              "      <td>1.052677e+01</td>\n",
              "      <td>8.877742e+00</td>\n",
              "      <td>1.731511e+01</td>\n",
              "      <td>9.253526e+00</td>\n",
              "      <td>5.041069e+00</td>\n",
              "      <td>5.591971e+00</td>\n",
              "      <td>3.942090e+01</td>\n",
              "      <td>2.720284e+01</td>\n",
              "      <td>1.050309e+01</td>\n",
              "      <td>2.252841e+01</td>\n",
              "      <td>4.584549e+00</td>\n",
              "      <td>7.519589e+00</td>\n",
              "      <td>3.517346e+00</td>\n",
              "      <td>3.161220e+01</td>\n",
              "      <td>3.384781e+01</td>\n",
              "      <td>25691.160000</td>\n",
              "      <td>1.000000</td>\n",
              "    </tr>\n",
              "  </tbody>\n",
              "</table>\n",
              "</div>"
            ],
            "text/plain": [
              "                Time            V1  ...         Amount          Class\n",
              "count  284807.000000  2.848070e+05  ...  284807.000000  284807.000000\n",
              "mean    94813.859575  3.919560e-15  ...      88.349619       0.001727\n",
              "std     47488.145955  1.958696e+00  ...     250.120109       0.041527\n",
              "min         0.000000 -5.640751e+01  ...       0.000000       0.000000\n",
              "25%     54201.500000 -9.203734e-01  ...       5.600000       0.000000\n",
              "50%     84692.000000  1.810880e-02  ...      22.000000       0.000000\n",
              "75%    139320.500000  1.315642e+00  ...      77.165000       0.000000\n",
              "max    172792.000000  2.454930e+00  ...   25691.160000       1.000000\n",
              "\n",
              "[8 rows x 31 columns]"
            ]
          },
          "metadata": {
            "tags": []
          },
          "execution_count": 3
        }
      ]
    },
    {
      "cell_type": "code",
      "metadata": {
        "colab": {
          "base_uri": "https://localhost:8080/"
        },
        "id": "A3sezCmZ-Gwe",
        "outputId": "4bc73836-fd2a-4c38-c5f5-bb575d46f46f"
      },
      "source": [
        "df.isnull().sum()"
      ],
      "execution_count": null,
      "outputs": [
        {
          "output_type": "execute_result",
          "data": {
            "text/plain": [
              "Time      0\n",
              "V1        0\n",
              "V2        0\n",
              "V3        0\n",
              "V4        0\n",
              "V5        0\n",
              "V6        0\n",
              "V7        0\n",
              "V8        0\n",
              "V9        0\n",
              "V10       0\n",
              "V11       0\n",
              "V12       0\n",
              "V13       0\n",
              "V14       0\n",
              "V15       0\n",
              "V16       0\n",
              "V17       0\n",
              "V18       0\n",
              "V19       0\n",
              "V20       0\n",
              "V21       0\n",
              "V22       0\n",
              "V23       0\n",
              "V24       0\n",
              "V25       0\n",
              "V26       0\n",
              "V27       0\n",
              "V28       0\n",
              "Amount    0\n",
              "Class     0\n",
              "dtype: int64"
            ]
          },
          "metadata": {
            "tags": []
          },
          "execution_count": 4
        }
      ]
    },
    {
      "cell_type": "code",
      "metadata": {
        "colab": {
          "base_uri": "https://localhost:8080/",
          "height": 333
        },
        "id": "d2gnq3jp9z5J",
        "outputId": "ab39e7ca-6e88-42df-d566-5968cd595e9d"
      },
      "source": [
        "df['Class'].value_counts()  #imbalanced classes\n",
        "sns.countplot(df['Class']);\n",
        "\n",
        "# three cases:\n",
        "#1. Ignoring ---- model will be biased\n",
        "#2. Undersampling -- might loss some of useful features\n",
        "#3. Oversampling ----  might result in overfitting"
      ],
      "execution_count": null,
      "outputs": [
        {
          "output_type": "stream",
          "text": [
            "/usr/local/lib/python3.6/dist-packages/seaborn/_decorators.py:43: FutureWarning: Pass the following variable as a keyword arg: x. From version 0.12, the only valid positional argument will be `data`, and passing other arguments without an explicit keyword will result in an error or misinterpretation.\n",
            "  FutureWarning\n"
          ],
          "name": "stderr"
        },
        {
          "output_type": "display_data",
          "data": {
            "image/png": "[encoded data removed]",
            "text/plain": [
              "<Figure size 432x288 with 1 Axes>"
            ]
          },
          "metadata": {
            "tags": [],
            "needs_background": "light"
          }
        }
      ]
    },
    {
      "cell_type": "code",
      "metadata": {
        "id": "QIa4LjLA-EiA"
      },
      "source": [
        "# balancing with oversampling\n",
        "diff = df['Class'].value_counts()[0] - df['Class'].value_counts()[1]\n",
        "l = diff//df['Class'].value_counts()[1]"
      ],
      "execution_count": null,
      "outputs": []
    },
    {
      "cell_type": "code",
      "metadata": {
        "colab": {
          "base_uri": "https://localhost:8080/"
        },
        "id": "1wAkFKocHsvN",
        "outputId": "a462f4ae-4dcf-48b8-8c57-252b79a3b01a"
      },
      "source": [
        "newDf =pd.DataFrame()\n",
        "new = df[df['Class']==1]\n",
        "for i in range(l):\n",
        "  newDf = pd.concat([newDf, new])\n",
        "\n",
        "df = pd.concat([newDf, df[df['Class']==0] ])\n",
        "len(df)\n"
      ],
      "execution_count": null,
      "outputs": [
        {
          "output_type": "execute_result",
          "data": {
            "text/plain": [
              "567707"
            ]
          },
          "metadata": {
            "tags": []
          },
          "execution_count": 7
        }
      ]
    },
    {
      "cell_type": "markdown",
      "metadata": {
        "id": "wacNC7vuygoU"
      },
      "source": [
        "# Over sampling by Replication\n"
      ]
    },
    {
      "cell_type": "code",
      "metadata": {
        "colab": {
          "base_uri": "https://localhost:8080/",
          "height": 333
        },
        "id": "tzXd-BgfIPgO",
        "outputId": "e7fdc3ee-0a0c-4421-d075-8f4a9ed38f77"
      },
      "source": [
        "sns.countplot(df['Class']); # now balanced."
      ],
      "execution_count": null,
      "outputs": [
        {
          "output_type": "stream",
          "text": [
            "/usr/local/lib/python3.6/dist-packages/seaborn/_decorators.py:43: FutureWarning: Pass the following variable as a keyword arg: x. From version 0.12, the only valid positional argument will be `data`, and passing other arguments without an explicit keyword will result in an error or misinterpretation.\n",
            "  FutureWarning\n"
          ],
          "name": "stderr"
        },
        {
          "output_type": "display_data",
          "data": {
            "image/png": "[encoded data removed]",
            "text/plain": [
              "<Figure size 432x288 with 1 Axes>"
            ]
          },
          "metadata": {
            "tags": [],
            "needs_background": "light"
          }
        }
      ]
    },
    {
      "cell_type": "code",
      "metadata": {
        "colab": {
          "base_uri": "https://localhost:8080/"
        },
        "id": "lTRPfTigLw7e",
        "outputId": "a89cd54b-e546-4771-a896-e4218c35e63c"
      },
      "source": [
        "col_names = df.columns\n",
        "col_names\n"
      ],
      "execution_count": null,
      "outputs": [
        {
          "output_type": "execute_result",
          "data": {
            "text/plain": [
              "Index(['Time', 'V1', 'V2', 'V3', 'V4', 'V5', 'V6', 'V7', 'V8', 'V9', 'V10',\n",
              "       'V11', 'V12', 'V13', 'V14', 'V15', 'V16', 'V17', 'V18', 'V19', 'V20',\n",
              "       'V21', 'V22', 'V23', 'V24', 'V25', 'V26', 'V27', 'V28', 'Amount',\n",
              "       'Class'],\n",
              "      dtype='object')"
            ]
          },
          "metadata": {
            "tags": []
          },
          "execution_count": 9
        }
      ]
    },
    {
      "cell_type": "code",
      "metadata": {
        "colab": {
          "base_uri": "https://localhost:8080/",
          "height": 282
        },
        "id": "8jvOQe6lNnQz",
        "outputId": "bf8190da-5e9b-4b33-c6f6-d9178636a687"
      },
      "source": [
        "plt.plot(df['Time'],df['Amount'])"
      ],
      "execution_count": null,
      "outputs": [
        {
          "output_type": "execute_result",
          "data": {
            "text/plain": [
              "[<matplotlib.lines.Line2D at 0x7f590aa62cf8>]"
            ]
          },
          "metadata": {
            "tags": []
          },
          "execution_count": 10
        },
        {
          "output_type": "display_data",
          "data": {
            "image/png": "[encoded data removed]",
            "text/plain": [
              "<Figure size 432x288 with 1 Axes>"
            ]
          },
          "metadata": {
            "tags": [],
            "needs_background": "light"
          }
        }
      ]
    },
    {
      "cell_type": "code",
      "metadata": {
        "colab": {
          "base_uri": "https://localhost:8080/",
          "height": 279
        },
        "id": "taOZcr_JOJcA",
        "outputId": "ad807449-4b3e-49c4-820d-805fa870ce70"
      },
      "source": [
        "sns.scatterplot(x = df['Time'],y = df['Amount']);"
      ],
      "execution_count": null,
      "outputs": [
        {
          "output_type": "display_data",
          "data": {
            "image/png": "[encoded data removed]",
            "text/plain": [
              "<Figure size 432x288 with 1 Axes>"
            ]
          },
          "metadata": {
            "tags": [],
            "needs_background": "light"
          }
        }
      ]
    },
    {
      "cell_type": "code",
      "metadata": {
        "colab": {
          "base_uri": "https://localhost:8080/",
          "height": 1000
        },
        "id": "9p4VZAkDRwDr",
        "outputId": "543d7765-8ac6-4b5f-e9f3-695e7769ee00"
      },
      "source": [
        "df.corr()"
      ],
      "execution_count": null,
      "outputs": [
        {
          "output_type": "execute_result",
          "data": {
            "text/html": [
              "<div>\n",
              "<style scoped>\n",
              "    .dataframe tbody tr th:only-of-type {\n",
              "        vertical-align: middle;\n",
              "    }\n",
              "\n",
              "    .dataframe tbody tr th {\n",
              "        vertical-align: top;\n",
              "    }\n",
              "\n",
              "    .dataframe thead th {\n",
              "        text-align: right;\n",
              "    }\n",
              "</style>\n",
              "<table border=\"1\" class=\"dataframe\">\n",
              "  <thead>\n",
              "    <tr style=\"text-align: right;\">\n",
              "      <th></th>\n",
              "      <th>Time</th>\n",
              "      <th>V1</th>\n",
              "      <th>V2</th>\n",
              "      <th>V3</th>\n",
              "      <th>V4</th>\n",
              "      <th>V5</th>\n",
              "      <th>V6</th>\n",
              "      <th>V7</th>\n",
              "      <th>V8</th>\n",
              "      <th>V9</th>\n",
              "      <th>V10</th>\n",
              "      <th>V11</th>\n",
              "      <th>V12</th>\n",
              "      <th>V13</th>\n",
              "      <th>V14</th>\n",
              "      <th>V15</th>\n",
              "      <th>V16</th>\n",
              "      <th>V17</th>\n",
              "      <th>V18</th>\n",
              "      <th>V19</th>\n",
              "      <th>V20</th>\n",
              "      <th>V21</th>\n",
              "      <th>V22</th>\n",
              "      <th>V23</th>\n",
              "      <th>V24</th>\n",
              "      <th>V25</th>\n",
              "      <th>V26</th>\n",
              "      <th>V27</th>\n",
              "      <th>V28</th>\n",
              "      <th>Amount</th>\n",
              "      <th>Class</th>\n",
              "    </tr>\n",
              "  </thead>\n",
              "  <tbody>\n",
              "    <tr>\n",
              "      <th>Time</th>\n",
              "      <td>1.000000</td>\n",
              "      <td>0.243504</td>\n",
              "      <td>-0.219290</td>\n",
              "      <td>0.150392</td>\n",
              "      <td>-0.213599</td>\n",
              "      <td>0.284246</td>\n",
              "      <td>0.109074</td>\n",
              "      <td>0.219083</td>\n",
              "      <td>-0.139122</td>\n",
              "      <td>0.160582</td>\n",
              "      <td>0.215843</td>\n",
              "      <td>-0.314229</td>\n",
              "      <td>0.264711</td>\n",
              "      <td>-0.108850</td>\n",
              "      <td>0.179245</td>\n",
              "      <td>-0.158370</td>\n",
              "      <td>0.239819</td>\n",
              "      <td>0.242090</td>\n",
              "      <td>0.267719</td>\n",
              "      <td>-0.082197</td>\n",
              "      <td>-0.043627</td>\n",
              "      <td>-0.059371</td>\n",
              "      <td>0.127243</td>\n",
              "      <td>0.056263</td>\n",
              "      <td>-0.006637</td>\n",
              "      <td>-0.191925</td>\n",
              "      <td>-0.049520</td>\n",
              "      <td>-0.137886</td>\n",
              "      <td>0.008257</td>\n",
              "      <td>0.009436</td>\n",
              "      <td>-0.146317</td>\n",
              "    </tr>\n",
              "    <tr>\n",
              "      <th>V1</th>\n",
              "      <td>0.243504</td>\n",
              "      <td>1.000000</td>\n",
              "      <td>-0.788514</td>\n",
              "      <td>0.878486</td>\n",
              "      <td>-0.614344</td>\n",
              "      <td>0.857656</td>\n",
              "      <td>0.316061</td>\n",
              "      <td>0.879440</td>\n",
              "      <td>-0.081298</td>\n",
              "      <td>0.656419</td>\n",
              "      <td>0.738581</td>\n",
              "      <td>-0.528174</td>\n",
              "      <td>0.592828</td>\n",
              "      <td>-0.054295</td>\n",
              "      <td>0.441607</td>\n",
              "      <td>0.124087</td>\n",
              "      <td>0.634093</td>\n",
              "      <td>0.674044</td>\n",
              "      <td>0.677005</td>\n",
              "      <td>-0.304833</td>\n",
              "      <td>-0.291710</td>\n",
              "      <td>0.015141</td>\n",
              "      <td>-0.036369</td>\n",
              "      <td>-0.044828</td>\n",
              "      <td>-0.069080</td>\n",
              "      <td>-0.078672</td>\n",
              "      <td>0.057206</td>\n",
              "      <td>0.188382</td>\n",
              "      <td>0.173845</td>\n",
              "      <td>-0.038952</td>\n",
              "      <td>-0.432759</td>\n",
              "    </tr>\n",
              "    <tr>\n",
              "      <th>V2</th>\n",
              "      <td>-0.219290</td>\n",
              "      <td>-0.788514</td>\n",
              "      <td>1.000000</td>\n",
              "      <td>-0.851641</td>\n",
              "      <td>0.669798</td>\n",
              "      <td>-0.788065</td>\n",
              "      <td>-0.274555</td>\n",
              "      <td>-0.841061</td>\n",
              "      <td>-0.019134</td>\n",
              "      <td>-0.695092</td>\n",
              "      <td>-0.764547</td>\n",
              "      <td>0.614511</td>\n",
              "      <td>-0.665133</td>\n",
              "      <td>0.030445</td>\n",
              "      <td>-0.564009</td>\n",
              "      <td>-0.176694</td>\n",
              "      <td>-0.630754</td>\n",
              "      <td>-0.638490</td>\n",
              "      <td>-0.616502</td>\n",
              "      <td>0.219866</td>\n",
              "      <td>0.302372</td>\n",
              "      <td>0.042182</td>\n",
              "      <td>-0.007126</td>\n",
              "      <td>0.142859</td>\n",
              "      <td>-0.003630</td>\n",
              "      <td>0.109868</td>\n",
              "      <td>-0.004349</td>\n",
              "      <td>-0.157267</td>\n",
              "      <td>0.001391</td>\n",
              "      <td>-0.242606</td>\n",
              "      <td>0.488436</td>\n",
              "    </tr>\n",
              "    <tr>\n",
              "      <th>V3</th>\n",
              "      <td>0.150392</td>\n",
              "      <td>0.878486</td>\n",
              "      <td>-0.851641</td>\n",
              "      <td>1.000000</td>\n",
              "      <td>-0.769852</td>\n",
              "      <td>0.851338</td>\n",
              "      <td>0.455204</td>\n",
              "      <td>0.885676</td>\n",
              "      <td>-0.171703</td>\n",
              "      <td>0.764147</td>\n",
              "      <td>0.856216</td>\n",
              "      <td>-0.715219</td>\n",
              "      <td>0.760801</td>\n",
              "      <td>-0.072463</td>\n",
              "      <td>0.654225</td>\n",
              "      <td>0.153023</td>\n",
              "      <td>0.727013</td>\n",
              "      <td>0.736747</td>\n",
              "      <td>0.703055</td>\n",
              "      <td>-0.319058</td>\n",
              "      <td>-0.339721</td>\n",
              "      <td>0.027944</td>\n",
              "      <td>-0.062999</td>\n",
              "      <td>-0.030232</td>\n",
              "      <td>0.013397</td>\n",
              "      <td>-0.086698</td>\n",
              "      <td>-0.011934</td>\n",
              "      <td>0.101431</td>\n",
              "      <td>0.122650</td>\n",
              "      <td>-0.011386</td>\n",
              "      <td>-0.566514</td>\n",
              "    </tr>\n",
              "    <tr>\n",
              "      <th>V4</th>\n",
              "      <td>-0.213599</td>\n",
              "      <td>-0.614344</td>\n",
              "      <td>0.669798</td>\n",
              "      <td>-0.769852</td>\n",
              "      <td>1.000000</td>\n",
              "      <td>-0.577226</td>\n",
              "      <td>-0.427714</td>\n",
              "      <td>-0.708569</td>\n",
              "      <td>0.103306</td>\n",
              "      <td>-0.787899</td>\n",
              "      <td>-0.793384</td>\n",
              "      <td>0.795849</td>\n",
              "      <td>-0.835326</td>\n",
              "      <td>0.055161</td>\n",
              "      <td>-0.793438</td>\n",
              "      <td>-0.134415</td>\n",
              "      <td>-0.726225</td>\n",
              "      <td>-0.711190</td>\n",
              "      <td>-0.643402</td>\n",
              "      <td>0.313963</td>\n",
              "      <td>0.284531</td>\n",
              "      <td>-0.020413</td>\n",
              "      <td>0.115651</td>\n",
              "      <td>0.021377</td>\n",
              "      <td>-0.076648</td>\n",
              "      <td>-0.023932</td>\n",
              "      <td>0.142661</td>\n",
              "      <td>-0.009659</td>\n",
              "      <td>-0.066001</td>\n",
              "      <td>0.008504</td>\n",
              "      <td>0.709918</td>\n",
              "    </tr>\n",
              "    <tr>\n",
              "      <th>V5</th>\n",
              "      <td>0.284246</td>\n",
              "      <td>0.857656</td>\n",
              "      <td>-0.788065</td>\n",
              "      <td>0.851338</td>\n",
              "      <td>-0.577226</td>\n",
              "      <td>1.000000</td>\n",
              "      <td>0.281327</td>\n",
              "      <td>0.831505</td>\n",
              "      <td>-0.205122</td>\n",
              "      <td>0.657345</td>\n",
              "      <td>0.756552</td>\n",
              "      <td>-0.527781</td>\n",
              "      <td>0.617843</td>\n",
              "      <td>-0.122747</td>\n",
              "      <td>0.431295</td>\n",
              "      <td>0.095641</td>\n",
              "      <td>0.689151</td>\n",
              "      <td>0.743908</td>\n",
              "      <td>0.743120</td>\n",
              "      <td>-0.400659</td>\n",
              "      <td>-0.303936</td>\n",
              "      <td>0.042926</td>\n",
              "      <td>-0.093331</td>\n",
              "      <td>-0.083246</td>\n",
              "      <td>-0.133260</td>\n",
              "      <td>-0.085568</td>\n",
              "      <td>0.060564</td>\n",
              "      <td>0.182926</td>\n",
              "      <td>0.161364</td>\n",
              "      <td>-0.120732</td>\n",
              "      <td>-0.374183</td>\n",
              "    </tr>\n",
              "    <tr>\n",
              "      <th>V6</th>\n",
              "      <td>0.109074</td>\n",
              "      <td>0.316061</td>\n",
              "      <td>-0.274555</td>\n",
              "      <td>0.455204</td>\n",
              "      <td>-0.427714</td>\n",
              "      <td>0.281327</td>\n",
              "      <td>1.000000</td>\n",
              "      <td>0.286383</td>\n",
              "      <td>-0.567232</td>\n",
              "      <td>0.365911</td>\n",
              "      <td>0.419737</td>\n",
              "      <td>-0.491172</td>\n",
              "      <td>0.496116</td>\n",
              "      <td>-0.110387</td>\n",
              "      <td>0.528895</td>\n",
              "      <td>-0.042235</td>\n",
              "      <td>0.429602</td>\n",
              "      <td>0.420177</td>\n",
              "      <td>0.354045</td>\n",
              "      <td>-0.221181</td>\n",
              "      <td>-0.110169</td>\n",
              "      <td>0.019672</td>\n",
              "      <td>0.000599</td>\n",
              "      <td>0.312061</td>\n",
              "      <td>-0.023623</td>\n",
              "      <td>-0.130606</td>\n",
              "      <td>-0.038421</td>\n",
              "      <td>-0.160463</td>\n",
              "      <td>-0.033421</td>\n",
              "      <td>0.175496</td>\n",
              "      <td>-0.397881</td>\n",
              "    </tr>\n",
              "    <tr>\n",
              "      <th>V7</th>\n",
              "      <td>0.219083</td>\n",
              "      <td>0.879440</td>\n",
              "      <td>-0.841061</td>\n",
              "      <td>0.885676</td>\n",
              "      <td>-0.708569</td>\n",
              "      <td>0.831505</td>\n",
              "      <td>0.286383</td>\n",
              "      <td>1.000000</td>\n",
              "      <td>0.086427</td>\n",
              "      <td>0.761852</td>\n",
              "      <td>0.864887</td>\n",
              "      <td>-0.637376</td>\n",
              "      <td>0.717517</td>\n",
              "      <td>-0.022395</td>\n",
              "      <td>0.541450</td>\n",
              "      <td>0.189152</td>\n",
              "      <td>0.745719</td>\n",
              "      <td>0.767308</td>\n",
              "      <td>0.760384</td>\n",
              "      <td>-0.349703</td>\n",
              "      <td>-0.369836</td>\n",
              "      <td>0.039759</td>\n",
              "      <td>-0.116823</td>\n",
              "      <td>-0.088185</td>\n",
              "      <td>-0.043350</td>\n",
              "      <td>0.050186</td>\n",
              "      <td>0.025646</td>\n",
              "      <td>0.231121</td>\n",
              "      <td>0.142069</td>\n",
              "      <td>0.134264</td>\n",
              "      <td>-0.475902</td>\n",
              "    </tr>\n",
              "    <tr>\n",
              "      <th>V8</th>\n",
              "      <td>-0.139122</td>\n",
              "      <td>-0.081298</td>\n",
              "      <td>-0.019134</td>\n",
              "      <td>-0.171703</td>\n",
              "      <td>0.103306</td>\n",
              "      <td>-0.205122</td>\n",
              "      <td>-0.567232</td>\n",
              "      <td>0.086427</td>\n",
              "      <td>1.000000</td>\n",
              "      <td>-0.076615</td>\n",
              "      <td>-0.052917</td>\n",
              "      <td>0.170937</td>\n",
              "      <td>-0.166496</td>\n",
              "      <td>0.272439</td>\n",
              "      <td>-0.186303</td>\n",
              "      <td>0.142204</td>\n",
              "      <td>-0.172940</td>\n",
              "      <td>-0.220014</td>\n",
              "      <td>-0.180221</td>\n",
              "      <td>0.214878</td>\n",
              "      <td>-0.033486</td>\n",
              "      <td>-0.112179</td>\n",
              "      <td>0.033949</td>\n",
              "      <td>-0.411371</td>\n",
              "      <td>0.074003</td>\n",
              "      <td>0.230876</td>\n",
              "      <td>0.046463</td>\n",
              "      <td>0.285430</td>\n",
              "      <td>-0.012403</td>\n",
              "      <td>0.016716</td>\n",
              "      <td>0.058613</td>\n",
              "    </tr>\n",
              "    <tr>\n",
              "      <th>V9</th>\n",
              "      <td>0.160582</td>\n",
              "      <td>0.656419</td>\n",
              "      <td>-0.695092</td>\n",
              "      <td>0.764147</td>\n",
              "      <td>-0.787899</td>\n",
              "      <td>0.657345</td>\n",
              "      <td>0.365911</td>\n",
              "      <td>0.761852</td>\n",
              "      <td>-0.076615</td>\n",
              "      <td>1.000000</td>\n",
              "      <td>0.848146</td>\n",
              "      <td>-0.697894</td>\n",
              "      <td>0.765619</td>\n",
              "      <td>-0.039125</td>\n",
              "      <td>0.674653</td>\n",
              "      <td>0.141495</td>\n",
              "      <td>0.726693</td>\n",
              "      <td>0.757540</td>\n",
              "      <td>0.709725</td>\n",
              "      <td>-0.331064</td>\n",
              "      <td>-0.377356</td>\n",
              "      <td>0.158310</td>\n",
              "      <td>-0.239474</td>\n",
              "      <td>-0.053021</td>\n",
              "      <td>0.013555</td>\n",
              "      <td>-0.009124</td>\n",
              "      <td>-0.123856</td>\n",
              "      <td>0.124956</td>\n",
              "      <td>0.132097</td>\n",
              "      <td>0.024225</td>\n",
              "      <td>-0.557288</td>\n",
              "    </tr>\n",
              "    <tr>\n",
              "      <th>V10</th>\n",
              "      <td>0.215843</td>\n",
              "      <td>0.738581</td>\n",
              "      <td>-0.764547</td>\n",
              "      <td>0.856216</td>\n",
              "      <td>-0.793384</td>\n",
              "      <td>0.756552</td>\n",
              "      <td>0.419737</td>\n",
              "      <td>0.864887</td>\n",
              "      <td>-0.052917</td>\n",
              "      <td>0.848146</td>\n",
              "      <td>1.000000</td>\n",
              "      <td>-0.800232</td>\n",
              "      <td>0.880828</td>\n",
              "      <td>-0.042668</td>\n",
              "      <td>0.755893</td>\n",
              "      <td>0.162890</td>\n",
              "      <td>0.853561</td>\n",
              "      <td>0.852834</td>\n",
              "      <td>0.800542</td>\n",
              "      <td>-0.412528</td>\n",
              "      <td>-0.369232</td>\n",
              "      <td>0.083027</td>\n",
              "      <td>-0.209756</td>\n",
              "      <td>-0.050829</td>\n",
              "      <td>0.002103</td>\n",
              "      <td>0.021323</td>\n",
              "      <td>-0.032456</td>\n",
              "      <td>0.148009</td>\n",
              "      <td>0.126199</td>\n",
              "      <td>0.002099</td>\n",
              "      <td>-0.626787</td>\n",
              "    </tr>\n",
              "    <tr>\n",
              "      <th>V11</th>\n",
              "      <td>-0.314229</td>\n",
              "      <td>-0.528174</td>\n",
              "      <td>0.614511</td>\n",
              "      <td>-0.715219</td>\n",
              "      <td>0.795849</td>\n",
              "      <td>-0.527781</td>\n",
              "      <td>-0.491172</td>\n",
              "      <td>-0.637376</td>\n",
              "      <td>0.170937</td>\n",
              "      <td>-0.697894</td>\n",
              "      <td>-0.800232</td>\n",
              "      <td>1.000000</td>\n",
              "      <td>-0.899905</td>\n",
              "      <td>0.062172</td>\n",
              "      <td>-0.892093</td>\n",
              "      <td>-0.069877</td>\n",
              "      <td>-0.809888</td>\n",
              "      <td>-0.776136</td>\n",
              "      <td>-0.678785</td>\n",
              "      <td>0.401256</td>\n",
              "      <td>0.187131</td>\n",
              "      <td>0.140059</td>\n",
              "      <td>0.015239</td>\n",
              "      <td>-0.028389</td>\n",
              "      <td>-0.118724</td>\n",
              "      <td>0.027557</td>\n",
              "      <td>0.158125</td>\n",
              "      <td>0.175060</td>\n",
              "      <td>0.030228</td>\n",
              "      <td>-0.019864</td>\n",
              "      <td>0.685878</td>\n",
              "    </tr>\n",
              "    <tr>\n",
              "      <th>V12</th>\n",
              "      <td>0.264711</td>\n",
              "      <td>0.592828</td>\n",
              "      <td>-0.665133</td>\n",
              "      <td>0.760801</td>\n",
              "      <td>-0.835326</td>\n",
              "      <td>0.617843</td>\n",
              "      <td>0.496116</td>\n",
              "      <td>0.717517</td>\n",
              "      <td>-0.166496</td>\n",
              "      <td>0.765619</td>\n",
              "      <td>0.880828</td>\n",
              "      <td>-0.899905</td>\n",
              "      <td>1.000000</td>\n",
              "      <td>-0.083867</td>\n",
              "      <td>0.880341</td>\n",
              "      <td>0.092359</td>\n",
              "      <td>0.899801</td>\n",
              "      <td>0.876965</td>\n",
              "      <td>0.800245</td>\n",
              "      <td>-0.453526</td>\n",
              "      <td>-0.216259</td>\n",
              "      <td>-0.076306</td>\n",
              "      <td>-0.106315</td>\n",
              "      <td>0.008305</td>\n",
              "      <td>0.042980</td>\n",
              "      <td>0.031647</td>\n",
              "      <td>-0.117351</td>\n",
              "      <td>-0.028975</td>\n",
              "      <td>0.003238</td>\n",
              "      <td>0.018905</td>\n",
              "      <td>-0.683009</td>\n",
              "    </tr>\n",
              "    <tr>\n",
              "      <th>V13</th>\n",
              "      <td>-0.108850</td>\n",
              "      <td>-0.054295</td>\n",
              "      <td>0.030445</td>\n",
              "      <td>-0.072463</td>\n",
              "      <td>0.055161</td>\n",
              "      <td>-0.122747</td>\n",
              "      <td>-0.110387</td>\n",
              "      <td>-0.022395</td>\n",
              "      <td>0.272439</td>\n",
              "      <td>-0.039125</td>\n",
              "      <td>-0.042668</td>\n",
              "      <td>0.062172</td>\n",
              "      <td>-0.083867</td>\n",
              "      <td>1.000000</td>\n",
              "      <td>-0.018517</td>\n",
              "      <td>-0.019140</td>\n",
              "      <td>-0.109086</td>\n",
              "      <td>-0.130937</td>\n",
              "      <td>-0.129859</td>\n",
              "      <td>0.162805</td>\n",
              "      <td>-0.038456</td>\n",
              "      <td>-0.001352</td>\n",
              "      <td>0.017253</td>\n",
              "      <td>-0.092751</td>\n",
              "      <td>0.046037</td>\n",
              "      <td>0.000182</td>\n",
              "      <td>0.040605</td>\n",
              "      <td>0.050585</td>\n",
              "      <td>-0.107254</td>\n",
              "      <td>0.009853</td>\n",
              "      <td>-0.052056</td>\n",
              "    </tr>\n",
              "    <tr>\n",
              "      <th>V14</th>\n",
              "      <td>0.179245</td>\n",
              "      <td>0.441607</td>\n",
              "      <td>-0.564009</td>\n",
              "      <td>0.654225</td>\n",
              "      <td>-0.793438</td>\n",
              "      <td>0.431295</td>\n",
              "      <td>0.528895</td>\n",
              "      <td>0.541450</td>\n",
              "      <td>-0.186303</td>\n",
              "      <td>0.674653</td>\n",
              "      <td>0.755893</td>\n",
              "      <td>-0.892093</td>\n",
              "      <td>0.880341</td>\n",
              "      <td>-0.018517</td>\n",
              "      <td>1.000000</td>\n",
              "      <td>0.012790</td>\n",
              "      <td>0.778754</td>\n",
              "      <td>0.731657</td>\n",
              "      <td>0.623144</td>\n",
              "      <td>-0.366378</td>\n",
              "      <td>-0.122315</td>\n",
              "      <td>-0.225108</td>\n",
              "      <td>0.066109</td>\n",
              "      <td>0.017461</td>\n",
              "      <td>0.143588</td>\n",
              "      <td>-0.082312</td>\n",
              "      <td>-0.173053</td>\n",
              "      <td>-0.204646</td>\n",
              "      <td>-0.121835</td>\n",
              "      <td>0.038656</td>\n",
              "      <td>-0.749300</td>\n",
              "    </tr>\n",
              "    <tr>\n",
              "      <th>V15</th>\n",
              "      <td>-0.158370</td>\n",
              "      <td>0.124087</td>\n",
              "      <td>-0.176694</td>\n",
              "      <td>0.153023</td>\n",
              "      <td>-0.134415</td>\n",
              "      <td>0.095641</td>\n",
              "      <td>-0.042235</td>\n",
              "      <td>0.189152</td>\n",
              "      <td>0.142204</td>\n",
              "      <td>0.141495</td>\n",
              "      <td>0.162890</td>\n",
              "      <td>-0.069877</td>\n",
              "      <td>0.092359</td>\n",
              "      <td>-0.019140</td>\n",
              "      <td>0.012790</td>\n",
              "      <td>1.000000</td>\n",
              "      <td>0.017566</td>\n",
              "      <td>0.048287</td>\n",
              "      <td>0.040981</td>\n",
              "      <td>0.216709</td>\n",
              "      <td>-0.150571</td>\n",
              "      <td>0.135684</td>\n",
              "      <td>-0.083225</td>\n",
              "      <td>-0.058577</td>\n",
              "      <td>0.020313</td>\n",
              "      <td>-0.013623</td>\n",
              "      <td>0.054701</td>\n",
              "      <td>0.171379</td>\n",
              "      <td>0.090581</td>\n",
              "      <td>0.064410</td>\n",
              "      <td>-0.047243</td>\n",
              "    </tr>\n",
              "    <tr>\n",
              "      <th>V16</th>\n",
              "      <td>0.239819</td>\n",
              "      <td>0.634093</td>\n",
              "      <td>-0.630754</td>\n",
              "      <td>0.727013</td>\n",
              "      <td>-0.726225</td>\n",
              "      <td>0.689151</td>\n",
              "      <td>0.429602</td>\n",
              "      <td>0.745719</td>\n",
              "      <td>-0.172940</td>\n",
              "      <td>0.726693</td>\n",
              "      <td>0.853561</td>\n",
              "      <td>-0.809888</td>\n",
              "      <td>0.899801</td>\n",
              "      <td>-0.109086</td>\n",
              "      <td>0.778754</td>\n",
              "      <td>0.017566</td>\n",
              "      <td>1.000000</td>\n",
              "      <td>0.951820</td>\n",
              "      <td>0.906305</td>\n",
              "      <td>-0.619475</td>\n",
              "      <td>-0.187814</td>\n",
              "      <td>-0.151761</td>\n",
              "      <td>-0.095323</td>\n",
              "      <td>-0.002226</td>\n",
              "      <td>-0.046491</td>\n",
              "      <td>0.059624</td>\n",
              "      <td>-0.056868</td>\n",
              "      <td>-0.025939</td>\n",
              "      <td>0.013255</td>\n",
              "      <td>-0.012647</td>\n",
              "      <td>-0.596130</td>\n",
              "    </tr>\n",
              "    <tr>\n",
              "      <th>V17</th>\n",
              "      <td>0.242090</td>\n",
              "      <td>0.674044</td>\n",
              "      <td>-0.638490</td>\n",
              "      <td>0.736747</td>\n",
              "      <td>-0.711190</td>\n",
              "      <td>0.743908</td>\n",
              "      <td>0.420177</td>\n",
              "      <td>0.767308</td>\n",
              "      <td>-0.220014</td>\n",
              "      <td>0.757540</td>\n",
              "      <td>0.852834</td>\n",
              "      <td>-0.776136</td>\n",
              "      <td>0.876965</td>\n",
              "      <td>-0.130937</td>\n",
              "      <td>0.731657</td>\n",
              "      <td>0.048287</td>\n",
              "      <td>0.951820</td>\n",
              "      <td>1.000000</td>\n",
              "      <td>0.940025</td>\n",
              "      <td>-0.591469</td>\n",
              "      <td>-0.207870</td>\n",
              "      <td>-0.094778</td>\n",
              "      <td>-0.120107</td>\n",
              "      <td>0.014367</td>\n",
              "      <td>-0.079999</td>\n",
              "      <td>0.035731</td>\n",
              "      <td>-0.044585</td>\n",
              "      <td>-0.001577</td>\n",
              "      <td>0.049549</td>\n",
              "      <td>-0.017260</td>\n",
              "      <td>-0.559297</td>\n",
              "    </tr>\n",
              "    <tr>\n",
              "      <th>V18</th>\n",
              "      <td>0.267719</td>\n",
              "      <td>0.677005</td>\n",
              "      <td>-0.616502</td>\n",
              "      <td>0.703055</td>\n",
              "      <td>-0.643402</td>\n",
              "      <td>0.743120</td>\n",
              "      <td>0.354045</td>\n",
              "      <td>0.760384</td>\n",
              "      <td>-0.180221</td>\n",
              "      <td>0.709725</td>\n",
              "      <td>0.800542</td>\n",
              "      <td>-0.678785</td>\n",
              "      <td>0.800245</td>\n",
              "      <td>-0.129859</td>\n",
              "      <td>0.623144</td>\n",
              "      <td>0.040981</td>\n",
              "      <td>0.906305</td>\n",
              "      <td>0.940025</td>\n",
              "      <td>1.000000</td>\n",
              "      <td>-0.553515</td>\n",
              "      <td>-0.181591</td>\n",
              "      <td>-0.080567</td>\n",
              "      <td>-0.113816</td>\n",
              "      <td>0.018605</td>\n",
              "      <td>-0.107174</td>\n",
              "      <td>0.061773</td>\n",
              "      <td>-0.019152</td>\n",
              "      <td>0.048970</td>\n",
              "      <td>0.088890</td>\n",
              "      <td>-0.010208</td>\n",
              "      <td>-0.467395</td>\n",
              "    </tr>\n",
              "    <tr>\n",
              "      <th>V19</th>\n",
              "      <td>-0.082197</td>\n",
              "      <td>-0.304833</td>\n",
              "      <td>0.219866</td>\n",
              "      <td>-0.319058</td>\n",
              "      <td>0.313963</td>\n",
              "      <td>-0.400659</td>\n",
              "      <td>-0.221181</td>\n",
              "      <td>-0.349703</td>\n",
              "      <td>0.214878</td>\n",
              "      <td>-0.331064</td>\n",
              "      <td>-0.412528</td>\n",
              "      <td>0.401256</td>\n",
              "      <td>-0.453526</td>\n",
              "      <td>0.162805</td>\n",
              "      <td>-0.366378</td>\n",
              "      <td>0.216709</td>\n",
              "      <td>-0.619475</td>\n",
              "      <td>-0.591469</td>\n",
              "      <td>-0.553515</td>\n",
              "      <td>1.000000</td>\n",
              "      <td>0.050273</td>\n",
              "      <td>0.116810</td>\n",
              "      <td>0.126350</td>\n",
              "      <td>-0.000858</td>\n",
              "      <td>0.113719</td>\n",
              "      <td>-0.156478</td>\n",
              "      <td>0.061500</td>\n",
              "      <td>0.053423</td>\n",
              "      <td>-0.035647</td>\n",
              "      <td>0.056814</td>\n",
              "      <td>0.267236</td>\n",
              "    </tr>\n",
              "    <tr>\n",
              "      <th>V20</th>\n",
              "      <td>-0.043627</td>\n",
              "      <td>-0.291710</td>\n",
              "      <td>0.302372</td>\n",
              "      <td>-0.339721</td>\n",
              "      <td>0.284531</td>\n",
              "      <td>-0.303936</td>\n",
              "      <td>-0.110169</td>\n",
              "      <td>-0.369836</td>\n",
              "      <td>-0.033486</td>\n",
              "      <td>-0.377356</td>\n",
              "      <td>-0.369232</td>\n",
              "      <td>0.187131</td>\n",
              "      <td>-0.216259</td>\n",
              "      <td>-0.038456</td>\n",
              "      <td>-0.122315</td>\n",
              "      <td>-0.150571</td>\n",
              "      <td>-0.187814</td>\n",
              "      <td>-0.207870</td>\n",
              "      <td>-0.181591</td>\n",
              "      <td>0.050273</td>\n",
              "      <td>1.000000</td>\n",
              "      <td>-0.503570</td>\n",
              "      <td>0.411941</td>\n",
              "      <td>0.127248</td>\n",
              "      <td>-0.027120</td>\n",
              "      <td>0.018472</td>\n",
              "      <td>0.007559</td>\n",
              "      <td>-0.147506</td>\n",
              "      <td>0.002412</td>\n",
              "      <td>0.155263</td>\n",
              "      <td>0.167828</td>\n",
              "    </tr>\n",
              "    <tr>\n",
              "      <th>V21</th>\n",
              "      <td>-0.059371</td>\n",
              "      <td>0.015141</td>\n",
              "      <td>0.042182</td>\n",
              "      <td>0.027944</td>\n",
              "      <td>-0.020413</td>\n",
              "      <td>0.042926</td>\n",
              "      <td>0.019672</td>\n",
              "      <td>0.039759</td>\n",
              "      <td>-0.112179</td>\n",
              "      <td>0.158310</td>\n",
              "      <td>0.083027</td>\n",
              "      <td>0.140059</td>\n",
              "      <td>-0.076306</td>\n",
              "      <td>-0.001352</td>\n",
              "      <td>-0.225108</td>\n",
              "      <td>0.135684</td>\n",
              "      <td>-0.151761</td>\n",
              "      <td>-0.094778</td>\n",
              "      <td>-0.080567</td>\n",
              "      <td>0.116810</td>\n",
              "      <td>-0.503570</td>\n",
              "      <td>1.000000</td>\n",
              "      <td>-0.745430</td>\n",
              "      <td>0.122735</td>\n",
              "      <td>-0.050955</td>\n",
              "      <td>0.128194</td>\n",
              "      <td>0.028843</td>\n",
              "      <td>0.363336</td>\n",
              "      <td>0.278829</td>\n",
              "      <td>0.021660</td>\n",
              "      <td>0.127619</td>\n",
              "    </tr>\n",
              "    <tr>\n",
              "      <th>V22</th>\n",
              "      <td>0.127243</td>\n",
              "      <td>-0.036369</td>\n",
              "      <td>-0.007126</td>\n",
              "      <td>-0.062999</td>\n",
              "      <td>0.115651</td>\n",
              "      <td>-0.093331</td>\n",
              "      <td>0.000599</td>\n",
              "      <td>-0.116823</td>\n",
              "      <td>0.033949</td>\n",
              "      <td>-0.239474</td>\n",
              "      <td>-0.209756</td>\n",
              "      <td>0.015239</td>\n",
              "      <td>-0.106315</td>\n",
              "      <td>0.017253</td>\n",
              "      <td>0.066109</td>\n",
              "      <td>-0.083225</td>\n",
              "      <td>-0.095323</td>\n",
              "      <td>-0.120107</td>\n",
              "      <td>-0.113816</td>\n",
              "      <td>0.126350</td>\n",
              "      <td>0.411941</td>\n",
              "      <td>-0.745430</td>\n",
              "      <td>1.000000</td>\n",
              "      <td>0.006605</td>\n",
              "      <td>0.070830</td>\n",
              "      <td>-0.226747</td>\n",
              "      <td>0.019277</td>\n",
              "      <td>-0.362876</td>\n",
              "      <td>-0.243879</td>\n",
              "      <td>-0.016506</td>\n",
              "      <td>0.006000</td>\n",
              "    </tr>\n",
              "    <tr>\n",
              "      <th>V23</th>\n",
              "      <td>0.056263</td>\n",
              "      <td>-0.044828</td>\n",
              "      <td>0.142859</td>\n",
              "      <td>-0.030232</td>\n",
              "      <td>0.021377</td>\n",
              "      <td>-0.083246</td>\n",
              "      <td>0.312061</td>\n",
              "      <td>-0.088185</td>\n",
              "      <td>-0.411371</td>\n",
              "      <td>-0.053021</td>\n",
              "      <td>-0.050829</td>\n",
              "      <td>-0.028389</td>\n",
              "      <td>0.008305</td>\n",
              "      <td>-0.092751</td>\n",
              "      <td>0.017461</td>\n",
              "      <td>-0.058577</td>\n",
              "      <td>-0.002226</td>\n",
              "      <td>0.014367</td>\n",
              "      <td>0.018605</td>\n",
              "      <td>-0.000858</td>\n",
              "      <td>0.127248</td>\n",
              "      <td>0.122735</td>\n",
              "      <td>0.006605</td>\n",
              "      <td>1.000000</td>\n",
              "      <td>-0.033071</td>\n",
              "      <td>0.085923</td>\n",
              "      <td>0.028293</td>\n",
              "      <td>-0.182545</td>\n",
              "      <td>0.058393</td>\n",
              "      <td>-0.140607</td>\n",
              "      <td>-0.016842</td>\n",
              "    </tr>\n",
              "    <tr>\n",
              "      <th>V24</th>\n",
              "      <td>-0.006637</td>\n",
              "      <td>-0.069080</td>\n",
              "      <td>-0.003630</td>\n",
              "      <td>0.013397</td>\n",
              "      <td>-0.076648</td>\n",
              "      <td>-0.133260</td>\n",
              "      <td>-0.023623</td>\n",
              "      <td>-0.043350</td>\n",
              "      <td>0.074003</td>\n",
              "      <td>0.013555</td>\n",
              "      <td>0.002103</td>\n",
              "      <td>-0.118724</td>\n",
              "      <td>0.042980</td>\n",
              "      <td>0.046037</td>\n",
              "      <td>0.143588</td>\n",
              "      <td>0.020313</td>\n",
              "      <td>-0.046491</td>\n",
              "      <td>-0.079999</td>\n",
              "      <td>-0.107174</td>\n",
              "      <td>0.113719</td>\n",
              "      <td>-0.027120</td>\n",
              "      <td>-0.050955</td>\n",
              "      <td>0.070830</td>\n",
              "      <td>-0.033071</td>\n",
              "      <td>1.000000</td>\n",
              "      <td>-0.072969</td>\n",
              "      <td>-0.108859</td>\n",
              "      <td>-0.189591</td>\n",
              "      <td>-0.037292</td>\n",
              "      <td>0.034672</td>\n",
              "      <td>-0.093233</td>\n",
              "    </tr>\n",
              "    <tr>\n",
              "      <th>V25</th>\n",
              "      <td>-0.191925</td>\n",
              "      <td>-0.078672</td>\n",
              "      <td>0.109868</td>\n",
              "      <td>-0.086698</td>\n",
              "      <td>-0.023932</td>\n",
              "      <td>-0.085568</td>\n",
              "      <td>-0.130606</td>\n",
              "      <td>0.050186</td>\n",
              "      <td>0.230876</td>\n",
              "      <td>-0.009124</td>\n",
              "      <td>0.021323</td>\n",
              "      <td>0.027557</td>\n",
              "      <td>0.031647</td>\n",
              "      <td>0.000182</td>\n",
              "      <td>-0.082312</td>\n",
              "      <td>-0.013623</td>\n",
              "      <td>0.059624</td>\n",
              "      <td>0.035731</td>\n",
              "      <td>0.061773</td>\n",
              "      <td>-0.156478</td>\n",
              "      <td>0.018472</td>\n",
              "      <td>0.128194</td>\n",
              "      <td>-0.226747</td>\n",
              "      <td>0.085923</td>\n",
              "      <td>-0.072969</td>\n",
              "      <td>1.000000</td>\n",
              "      <td>0.070546</td>\n",
              "      <td>0.202095</td>\n",
              "      <td>0.156364</td>\n",
              "      <td>-0.092613</td>\n",
              "      <td>0.030852</td>\n",
              "    </tr>\n",
              "    <tr>\n",
              "      <th>V26</th>\n",
              "      <td>-0.049520</td>\n",
              "      <td>0.057206</td>\n",
              "      <td>-0.004349</td>\n",
              "      <td>-0.011934</td>\n",
              "      <td>0.142661</td>\n",
              "      <td>0.060564</td>\n",
              "      <td>-0.038421</td>\n",
              "      <td>0.025646</td>\n",
              "      <td>0.046463</td>\n",
              "      <td>-0.123856</td>\n",
              "      <td>-0.032456</td>\n",
              "      <td>0.158125</td>\n",
              "      <td>-0.117351</td>\n",
              "      <td>0.040605</td>\n",
              "      <td>-0.173053</td>\n",
              "      <td>0.054701</td>\n",
              "      <td>-0.056868</td>\n",
              "      <td>-0.044585</td>\n",
              "      <td>-0.019152</td>\n",
              "      <td>0.061500</td>\n",
              "      <td>0.007559</td>\n",
              "      <td>0.028843</td>\n",
              "      <td>0.019277</td>\n",
              "      <td>0.028293</td>\n",
              "      <td>-0.108859</td>\n",
              "      <td>0.070546</td>\n",
              "      <td>1.000000</td>\n",
              "      <td>0.175334</td>\n",
              "      <td>0.023518</td>\n",
              "      <td>-0.036498</td>\n",
              "      <td>0.054180</td>\n",
              "    </tr>\n",
              "    <tr>\n",
              "      <th>V27</th>\n",
              "      <td>-0.137886</td>\n",
              "      <td>0.188382</td>\n",
              "      <td>-0.157267</td>\n",
              "      <td>0.101431</td>\n",
              "      <td>-0.009659</td>\n",
              "      <td>0.182926</td>\n",
              "      <td>-0.160463</td>\n",
              "      <td>0.231121</td>\n",
              "      <td>0.285430</td>\n",
              "      <td>0.124956</td>\n",
              "      <td>0.148009</td>\n",
              "      <td>0.175060</td>\n",
              "      <td>-0.028975</td>\n",
              "      <td>0.050585</td>\n",
              "      <td>-0.204646</td>\n",
              "      <td>0.171379</td>\n",
              "      <td>-0.025939</td>\n",
              "      <td>-0.001577</td>\n",
              "      <td>0.048970</td>\n",
              "      <td>0.053423</td>\n",
              "      <td>-0.147506</td>\n",
              "      <td>0.363336</td>\n",
              "      <td>-0.362876</td>\n",
              "      <td>-0.182545</td>\n",
              "      <td>-0.189591</td>\n",
              "      <td>0.202095</td>\n",
              "      <td>0.175334</td>\n",
              "      <td>1.000000</td>\n",
              "      <td>0.234829</td>\n",
              "      <td>0.076673</td>\n",
              "      <td>0.084114</td>\n",
              "    </tr>\n",
              "    <tr>\n",
              "      <th>V28</th>\n",
              "      <td>0.008257</td>\n",
              "      <td>0.173845</td>\n",
              "      <td>0.001391</td>\n",
              "      <td>0.122650</td>\n",
              "      <td>-0.066001</td>\n",
              "      <td>0.161364</td>\n",
              "      <td>-0.033421</td>\n",
              "      <td>0.142069</td>\n",
              "      <td>-0.012403</td>\n",
              "      <td>0.132097</td>\n",
              "      <td>0.126199</td>\n",
              "      <td>0.030228</td>\n",
              "      <td>0.003238</td>\n",
              "      <td>-0.107254</td>\n",
              "      <td>-0.121835</td>\n",
              "      <td>0.090581</td>\n",
              "      <td>0.013255</td>\n",
              "      <td>0.049549</td>\n",
              "      <td>0.088890</td>\n",
              "      <td>-0.035647</td>\n",
              "      <td>0.002412</td>\n",
              "      <td>0.278829</td>\n",
              "      <td>-0.243879</td>\n",
              "      <td>0.058393</td>\n",
              "      <td>-0.037292</td>\n",
              "      <td>0.156364</td>\n",
              "      <td>0.023518</td>\n",
              "      <td>0.234829</td>\n",
              "      <td>1.000000</td>\n",
              "      <td>-0.063006</td>\n",
              "      <td>0.083695</td>\n",
              "    </tr>\n",
              "    <tr>\n",
              "      <th>Amount</th>\n",
              "      <td>0.009436</td>\n",
              "      <td>-0.038952</td>\n",
              "      <td>-0.242606</td>\n",
              "      <td>-0.011386</td>\n",
              "      <td>0.008504</td>\n",
              "      <td>-0.120732</td>\n",
              "      <td>0.175496</td>\n",
              "      <td>0.134264</td>\n",
              "      <td>0.016716</td>\n",
              "      <td>0.024225</td>\n",
              "      <td>0.002099</td>\n",
              "      <td>-0.019864</td>\n",
              "      <td>0.018905</td>\n",
              "      <td>0.009853</td>\n",
              "      <td>0.038656</td>\n",
              "      <td>0.064410</td>\n",
              "      <td>-0.012647</td>\n",
              "      <td>-0.017260</td>\n",
              "      <td>-0.010208</td>\n",
              "      <td>0.056814</td>\n",
              "      <td>0.155263</td>\n",
              "      <td>0.021660</td>\n",
              "      <td>-0.016506</td>\n",
              "      <td>-0.140607</td>\n",
              "      <td>0.034672</td>\n",
              "      <td>-0.092613</td>\n",
              "      <td>-0.036498</td>\n",
              "      <td>0.076673</td>\n",
              "      <td>-0.063006</td>\n",
              "      <td>1.000000</td>\n",
              "      <td>0.066813</td>\n",
              "    </tr>\n",
              "    <tr>\n",
              "      <th>Class</th>\n",
              "      <td>-0.146317</td>\n",
              "      <td>-0.432759</td>\n",
              "      <td>0.488436</td>\n",
              "      <td>-0.566514</td>\n",
              "      <td>0.709918</td>\n",
              "      <td>-0.374183</td>\n",
              "      <td>-0.397881</td>\n",
              "      <td>-0.475902</td>\n",
              "      <td>0.058613</td>\n",
              "      <td>-0.557288</td>\n",
              "      <td>-0.626787</td>\n",
              "      <td>0.685878</td>\n",
              "      <td>-0.683009</td>\n",
              "      <td>-0.052056</td>\n",
              "      <td>-0.749300</td>\n",
              "      <td>-0.047243</td>\n",
              "      <td>-0.596130</td>\n",
              "      <td>-0.559297</td>\n",
              "      <td>-0.467395</td>\n",
              "      <td>0.267236</td>\n",
              "      <td>0.167828</td>\n",
              "      <td>0.127619</td>\n",
              "      <td>0.006000</td>\n",
              "      <td>-0.016842</td>\n",
              "      <td>-0.093233</td>\n",
              "      <td>0.030852</td>\n",
              "      <td>0.054180</td>\n",
              "      <td>0.084114</td>\n",
              "      <td>0.083695</td>\n",
              "      <td>0.066813</td>\n",
              "      <td>1.000000</td>\n",
              "    </tr>\n",
              "  </tbody>\n",
              "</table>\n",
              "</div>"
            ],
            "text/plain": [
              "            Time        V1        V2  ...       V28    Amount     Class\n",
              "Time    1.000000  0.243504 -0.219290  ...  0.008257  0.009436 -0.146317\n",
              "V1      0.243504  1.000000 -0.788514  ...  0.173845 -0.038952 -0.432759\n",
              "V2     -0.219290 -0.788514  1.000000  ...  0.001391 -0.242606  0.488436\n",
              "V3      0.150392  0.878486 -0.851641  ...  0.122650 -0.011386 -0.566514\n",
              "V4     -0.213599 -0.614344  0.669798  ... -0.066001  0.008504  0.709918\n",
              "V5      0.284246  0.857656 -0.788065  ...  0.161364 -0.120732 -0.374183\n",
              "V6      0.109074  0.316061 -0.274555  ... -0.033421  0.175496 -0.397881\n",
              "V7      0.219083  0.879440 -0.841061  ...  0.142069  0.134264 -0.475902\n",
              "V8     -0.139122 -0.081298 -0.019134  ... -0.012403  0.016716  0.058613\n",
              "V9      0.160582  0.656419 -0.695092  ...  0.132097  0.024225 -0.557288\n",
              "V10     0.215843  0.738581 -0.764547  ...  0.126199  0.002099 -0.626787\n",
              "V11    -0.314229 -0.528174  0.614511  ...  0.030228 -0.019864  0.685878\n",
              "V12     0.264711  0.592828 -0.665133  ...  0.003238  0.018905 -0.683009\n",
              "V13    -0.108850 -0.054295  0.030445  ... -0.107254  0.009853 -0.052056\n",
              "V14     0.179245  0.441607 -0.564009  ... -0.121835  0.038656 -0.749300\n",
              "V15    -0.158370  0.124087 -0.176694  ...  0.090581  0.064410 -0.047243\n",
              "V16     0.239819  0.634093 -0.630754  ...  0.013255 -0.012647 -0.596130\n",
              "V17     0.242090  0.674044 -0.638490  ...  0.049549 -0.017260 -0.559297\n",
              "V18     0.267719  0.677005 -0.616502  ...  0.088890 -0.010208 -0.467395\n",
              "V19    -0.082197 -0.304833  0.219866  ... -0.035647  0.056814  0.267236\n",
              "V20    -0.043627 -0.291710  0.302372  ...  0.002412  0.155263  0.167828\n",
              "V21    -0.059371  0.015141  0.042182  ...  0.278829  0.021660  0.127619\n",
              "V22     0.127243 -0.036369 -0.007126  ... -0.243879 -0.016506  0.006000\n",
              "V23     0.056263 -0.044828  0.142859  ...  0.058393 -0.140607 -0.016842\n",
              "V24    -0.006637 -0.069080 -0.003630  ... -0.037292  0.034672 -0.093233\n",
              "V25    -0.191925 -0.078672  0.109868  ...  0.156364 -0.092613  0.030852\n",
              "V26    -0.049520  0.057206 -0.004349  ...  0.023518 -0.036498  0.054180\n",
              "V27    -0.137886  0.188382 -0.157267  ...  0.234829  0.076673  0.084114\n",
              "V28     0.008257  0.173845  0.001391  ...  1.000000 -0.063006  0.083695\n",
              "Amount  0.009436 -0.038952 -0.242606  ... -0.063006  1.000000  0.066813\n",
              "Class  -0.146317 -0.432759  0.488436  ...  0.083695  0.066813  1.000000\n",
              "\n",
              "[31 rows x 31 columns]"
            ]
          },
          "metadata": {
            "tags": []
          },
          "execution_count": 12
        }
      ]
    },
    {
      "cell_type": "code",
      "metadata": {
        "colab": {
          "base_uri": "https://localhost:8080/",
          "height": 352
        },
        "id": "cUPJTfHSWb_O",
        "outputId": "4974a7dd-b58f-4c23-9365-a6d8d9a712c8"
      },
      "source": [
        "plt.figure(figsize=(10, 5))\n",
        "plt.subplot(1,2,1);\n",
        "plt.title('Positively co-related')\n",
        "sns.heatmap(df.corr()>0)\n",
        "\n",
        "plt.subplot(1,2,2); \n",
        "plt.title('Negatively co-related')\n",
        "sns.heatmap(df.corr()<0)\n",
        "\n",
        "plt.subplots_adjust(wspace=0.5, hspace=0.5)"
      ],
      "execution_count": null,
      "outputs": [
        {
          "output_type": "display_data",
          "data": {
            "image/png": "[encoded data removed]",
            "text/plain": [
              "<Figure size 720x360 with 4 Axes>"
            ]
          },
          "metadata": {
            "tags": [],
            "needs_background": "light"
          }
        }
      ]
    },
    {
      "cell_type": "code",
      "metadata": {
        "colab": {
          "base_uri": "https://localhost:8080/",
          "height": 286
        },
        "id": "ELPK9DkoaUGC",
        "outputId": "28890ac8-2cb7-491b-a466-2eadfbc6a6fc"
      },
      "source": [
        "sns.heatmap(df.corr());\n",
        "# class is negatively correlated with v1, v3, "
      ],
      "execution_count": null,
      "outputs": [
        {
          "output_type": "display_data",
          "data": {
            "image/png": "[encoded data removed]",
            "text/plain": [
              "<Figure size 432x288 with 2 Axes>"
            ]
          },
          "metadata": {
            "tags": [],
            "needs_background": "light"
          }
        }
      ]
    },
    {
      "cell_type": "code",
      "metadata": {
        "colab": {
          "base_uri": "https://localhost:8080/"
        },
        "id": "avP-PC-TeegK",
        "outputId": "ab9e5654-848e-4dbc-fc8c-990af55bcc6d"
      },
      "source": [
        "df.corr()['Class']<=-0.5 # v3 , v9, v10, v12, v14, v16, v17 (-0.5  to -1)\n",
        "df.corr()['Class']<=-0.25 # v1, v5, v6, v7, v18\n",
        "df.corr()['Class']<= -0.05 # v13, v24\n",
        "\n",
        "# 1,2,3,5,6,7,9,10,12,13,14,16,17,18,24 - negatively related\n"
      ],
      "execution_count": null,
      "outputs": [
        {
          "output_type": "execute_result",
          "data": {
            "text/plain": [
              "Time       True\n",
              "V1         True\n",
              "V2        False\n",
              "V3         True\n",
              "V4        False\n",
              "V5         True\n",
              "V6         True\n",
              "V7         True\n",
              "V8        False\n",
              "V9         True\n",
              "V10        True\n",
              "V11       False\n",
              "V12        True\n",
              "V13        True\n",
              "V14        True\n",
              "V15       False\n",
              "V16        True\n",
              "V17        True\n",
              "V18        True\n",
              "V19       False\n",
              "V20       False\n",
              "V21       False\n",
              "V22       False\n",
              "V23       False\n",
              "V24        True\n",
              "V25       False\n",
              "V26       False\n",
              "V27       False\n",
              "V28       False\n",
              "Amount    False\n",
              "Class     False\n",
              "Name: Class, dtype: bool"
            ]
          },
          "metadata": {
            "tags": []
          },
          "execution_count": 15
        }
      ]
    },
    {
      "cell_type": "code",
      "metadata": {
        "id": "vFCnn_vwnaR9"
      },
      "source": [
        "# Create correlation matrix\n",
        "corr_matrix = df.corr().abs()\n",
        "\n",
        "# Select upper triangle of correlation matrix\n",
        "upper = corr_matrix.where(np.triu(np.ones(corr_matrix.shape), k=1).astype(np.bool)) #tril --lower triangular \n",
        "#k=0 for diagnol ele as well ..... k=-n displays n diagnol rows below diagnol \n",
        "#where expects bool so astype(np.bool)\n"
      ],
      "execution_count": null,
      "outputs": []
    },
    {
      "cell_type": "code",
      "metadata": {
        "colab": {
          "base_uri": "https://localhost:8080/"
        },
        "id": "WKSYFzQ3nc3P",
        "outputId": "b53e7a62-6abb-4b26-f725-aaad26bb3bc0"
      },
      "source": [
        "upper\n",
        "need = [column for column in upper.columns if any(upper[column]>0.3)]\n",
        "need"
      ],
      "execution_count": null,
      "outputs": [
        {
          "output_type": "execute_result",
          "data": {
            "text/plain": [
              "['V2',\n",
              " 'V3',\n",
              " 'V4',\n",
              " 'V5',\n",
              " 'V6',\n",
              " 'V7',\n",
              " 'V8',\n",
              " 'V9',\n",
              " 'V10',\n",
              " 'V11',\n",
              " 'V12',\n",
              " 'V14',\n",
              " 'V16',\n",
              " 'V17',\n",
              " 'V18',\n",
              " 'V19',\n",
              " 'V20',\n",
              " 'V21',\n",
              " 'V22',\n",
              " 'V23',\n",
              " 'V27',\n",
              " 'Class']"
            ]
          },
          "metadata": {
            "tags": []
          },
          "execution_count": 17
        }
      ]
    },
    {
      "cell_type": "code",
      "metadata": {
        "id": "m-frVAdKvyu_"
      },
      "source": [
        "new_df = df[need] #considering only features with corr > 30%"
      ],
      "execution_count": null,
      "outputs": []
    },
    {
      "cell_type": "code",
      "metadata": {
        "id": "rFpaeZNtfxXX"
      },
      "source": [
        "Y = new_df['Class']\n",
        "X = new_df.drop(['Class'], axis=1)\n"
      ],
      "execution_count": null,
      "outputs": []
    },
    {
      "cell_type": "code",
      "metadata": {
        "colab": {
          "base_uri": "https://localhost:8080/",
          "height": 427
        },
        "id": "lvNGbvvahBeR",
        "outputId": "65429db9-42b2-4f92-b1d3-6a3e87f0a9b2"
      },
      "source": [
        "# sns.boxplot(x=X['V2'])\n",
        "plt.figure(figsize=(15, 10))\n",
        "\n",
        "for i in range(0,len(need)-1):\n",
        "  plt.subplot(5,5,i+1)\n",
        "  sns.histplot(x= X[X.columns[i]]);\n",
        "\n",
        "plt.subplots_adjust(wspace=0.7, hspace=0.4)"
      ],
      "execution_count": null,
      "outputs": [
        {
          "output_type": "display_data",
          "data": {
            "image/png": "[encoded data removed]",
            "text/plain": [
              "<Figure size 1080x720 with 21 Axes>"
            ]
          },
          "metadata": {
            "tags": [],
            "needs_background": "light"
          }
        }
      ]
    },
    {
      "cell_type": "code",
      "metadata": {
        "colab": {
          "base_uri": "https://localhost:8080/",
          "height": 484
        },
        "id": "zm2HBsNH6bbw",
        "outputId": "5399135c-21d8-4728-db8f-e3ec4df5e4b6"
      },
      "source": [
        "#Identifying Outliers --boxplot\n",
        "\n",
        "plt.figure(figsize=(20, 15))\n",
        "\n",
        "for i in range(0,len(need)-1):\n",
        "  plt.title(X.columns[i])\n",
        "  plt.subplot(5,5,i+1)\n",
        "  plt.boxplot(x= X[X.columns[i]]);\n",
        "\n",
        "plt.subplots_adjust(wspace=0.4, hspace=0.4)"
      ],
      "execution_count": null,
      "outputs": [
        {
          "output_type": "display_data",
          "data": {
            "image/png": "[encoded data removed]",
            "text/plain": [
              "<Figure size 1440x1080 with 21 Axes>"
            ]
          },
          "metadata": {
            "tags": [],
            "needs_background": "light"
          }
        }
      ]
    },
    {
      "cell_type": "code",
      "metadata": {
        "id": "3TeGNzRzjYai"
      },
      "source": [
        "# outliers for v2\n",
        "# dropped = pd.DataFrame()\n",
        "def outliers(threshold = 5, col= new_df['V2']):\n",
        "  \n",
        "  q25, q75 = np.percentile(col, 25) , np.percentile(col, 75)\n",
        "  inter_quartile = q75- q25\n",
        "  cutoff = inter_quartile*threshold\n",
        "  outliers = [x for x in col if x<q25 -cutoff or x>q75 +cutoff]\n",
        "  print(\"no of outliers are\", len(outliers))\n",
        "  # dropped = new_df.drop((new_df[(col > q75 +cutoff) | (col < q25 -cutoff)].index))\n",
        "#here we drop based on just one column value which might loss other column values"
      ],
      "execution_count": null,
      "outputs": []
    },
    {
      "cell_type": "code",
      "metadata": {
        "id": "BJmd7iwQ_OgZ",
        "colab": {
          "base_uri": "https://localhost:8080/"
        },
        "outputId": "24c23107-14db-4d88-bdba-8e56fc80857c"
      },
      "source": [
        "#Outlier counts for other as well\n",
        "for each_name in new_df.columns:\n",
        "  outliers(5, new_df[each_name])"
      ],
      "execution_count": null,
      "outputs": [
        {
          "output_type": "stream",
          "text": [
            "no of outliers are 2025\n",
            "no of outliers are 4\n",
            "no of outliers are 0\n",
            "no of outliers are 22076\n",
            "no of outliers are 149\n",
            "no of outliers are 12160\n",
            "no of outliers are 41640\n",
            "no of outliers are 1\n",
            "no of outliers are 1\n",
            "no of outliers are 0\n",
            "no of outliers are 0\n",
            "no of outliers are 0\n",
            "no of outliers are 0\n",
            "no of outliers are 0\n",
            "no of outliers are 0\n",
            "no of outliers are 0\n",
            "no of outliers are 11214\n",
            "no of outliers are 18459\n",
            "no of outliers are 4632\n",
            "no of outliers are 14348\n",
            "no of outliers are 14164\n",
            "no of outliers are 0\n"
          ],
          "name": "stdout"
        }
      ]
    },
    {
      "cell_type": "code",
      "metadata": {
        "id": "VgEtD_8t_ORY",
        "colab": {
          "base_uri": "https://localhost:8080/"
        },
        "outputId": "b262a0bc-9ba3-43c9-9e36-4f656c1a3442"
      },
      "source": [
        "#Removing outliers based on z score x-mean/std\n",
        "\n",
        "nn =new_df[(abs(stats.zscore(new_df)) < 3).all(axis=1)] #calculates mean and std dev for each col.... then it retains all the rows which satisfy that criteria\n",
        "print(\"no of outlier rows removed \",len(new_df)- len(nn))"
      ],
      "execution_count": null,
      "outputs": [
        {
          "output_type": "stream",
          "text": [
            "no of outlier rows removed  66416\n"
          ],
          "name": "stdout"
        }
      ]
    },
    {
      "cell_type": "code",
      "metadata": {
        "colab": {
          "base_uri": "https://localhost:8080/",
          "height": 485
        },
        "id": "qBKziJdSkYzH",
        "outputId": "60f0000c-e3dd-4670-d0d0-99e6d8b58597"
      },
      "source": [
        "plt.figure(figsize=(20, 15))\n",
        "\n",
        "for i in range(0,len(nn.columns)-1):\n",
        "  plt.title(nn.columns[i])\n",
        "  plt.subplot(5,5,i+1)\n",
        "  plt.boxplot(x= nn[nn.columns[i]]);\n",
        "\n",
        "plt.subplots_adjust(wspace=0.4, hspace=0.4)"
      ],
      "execution_count": null,
      "outputs": [
        {
          "output_type": "display_data",
          "data": {
            "image/png": "[encoded data removed]",
            "text/plain": [
              "<Figure size 1440x1080 with 21 Axes>"
            ]
          },
          "metadata": {
            "tags": [],
            "needs_background": "light"
          }
        }
      ]
    },
    {
      "cell_type": "code",
      "metadata": {
        "colab": {
          "base_uri": "https://localhost:8080/"
        },
        "id": "zShtGeOqpCJy",
        "outputId": "651750cf-751d-4478-e7e6-f31524e96cc6"
      },
      "source": [
        "index = range(0, len(nn), 1)\n",
        "nn['index'] = index\n",
        "nn.set_index('index')\n",
        "\n",
        "Y = nn[['Class']]\n",
        "X = nn.drop(['Class'], axis=1)"
      ],
      "execution_count": null,
      "outputs": [
        {
          "output_type": "stream",
          "text": [
            "/usr/local/lib/python3.6/dist-packages/ipykernel_launcher.py:2: SettingWithCopyWarning: \n",
            "A value is trying to be set on a copy of a slice from a DataFrame.\n",
            "Try using .loc[row_indexer,col_indexer] = value instead\n",
            "\n",
            "See the caveats in the documentation: https://pandas.pydata.org/pandas-docs/stable/user_guide/indexing.html#returning-a-view-versus-a-copy\n",
            "  \n"
          ],
          "name": "stderr"
        }
      ]
    },
    {
      "cell_type": "code",
      "metadata": {
        "id": "38lN_1fYpXLr"
      },
      "source": [
        "Xmean = np.mean(X)\n",
        "Xmin = np.min(X)\n",
        "Xmax = np.max(X)\n",
        "Xscaled = (X-Xmin)/(Xmax-Xmin) #normalizing"
      ],
      "execution_count": null,
      "outputs": []
    },
    {
      "cell_type": "code",
      "metadata": {
        "colab": {
          "base_uri": "https://localhost:8080/"
        },
        "id": "ydPp9rSO1OtS",
        "outputId": "3a43751f-9887-4935-a7e5-258343b5c726"
      },
      "source": [
        "Xscaled.shape"
      ],
      "execution_count": null,
      "outputs": [
        {
          "output_type": "execute_result",
          "data": {
            "text/plain": [
              "(501291, 22)"
            ]
          },
          "metadata": {
            "tags": []
          },
          "execution_count": 28
        }
      ]
    },
    {
      "cell_type": "code",
      "metadata": {
        "colab": {
          "base_uri": "https://localhost:8080/"
        },
        "id": "7Z2bUygL2Ry9",
        "outputId": "993b3ffa-621a-425e-f856-935c6f0b2055"
      },
      "source": [
        "# Remove Highly correlated columns\n",
        "corr_matrix = Xscaled.corr().abs()\n",
        "\n",
        "# Select upper triangle of correlation matrix\n",
        "upper = corr_matrix.where(np.triu(np.ones(corr_matrix.shape), k=1).astype(np.bool)) #tril --lower triangular \n",
        "\n",
        "highly_correlated = [column for column in upper.columns if any(upper[column]>0.7)]\n",
        "highly_correlated"
      ],
      "execution_count": null,
      "outputs": [
        {
          "output_type": "execute_result",
          "data": {
            "text/plain": [
              "['V3', 'V4', 'V7', 'V10', 'V11', 'V12', 'V14', 'V16', 'V17', 'V18']"
            ]
          },
          "metadata": {
            "tags": []
          },
          "execution_count": 30
        }
      ]
    },
    {
      "cell_type": "code",
      "metadata": {
        "id": "TnUQB3cTP-Qm"
      },
      "source": [
        "s = set(Xscaled.columns)- set(highly_correlated)\n",
        "log_df = Xscaled[list(s)]\n",
        "# log_df\n",
        "xtrain, xtest, ytrain, ytest = train_test_split(log_df, Y, test_size = 0.25, random_state = 0) "
      ],
      "execution_count": null,
      "outputs": []
    },
    {
      "cell_type": "code",
      "metadata": {
        "colab": {
          "base_uri": "https://localhost:8080/"
        },
        "id": "uX_b2kZgVEzs",
        "outputId": "f30e8859-a464-441c-973f-61e120dcea01"
      },
      "source": [
        "classifier = LogisticRegression(random_state = 0) \n",
        "classifier.fit(xtrain, ytrain) "
      ],
      "execution_count": null,
      "outputs": [
        {
          "output_type": "stream",
          "text": [
            "/usr/local/lib/python3.6/dist-packages/sklearn/utils/validation.py:760: DataConversionWarning: A column-vector y was passed when a 1d array was expected. Please change the shape of y to (n_samples, ), for example using ravel().\n",
            "  y = column_or_1d(y, warn=True)\n"
          ],
          "name": "stderr"
        },
        {
          "output_type": "execute_result",
          "data": {
            "text/plain": [
              "LogisticRegression(C=1.0, class_weight=None, dual=False, fit_intercept=True,\n",
              "                   intercept_scaling=1, l1_ratio=None, max_iter=100,\n",
              "                   multi_class='auto', n_jobs=None, penalty='l2',\n",
              "                   random_state=0, solver='lbfgs', tol=0.0001, verbose=0,\n",
              "                   warm_start=False)"
            ]
          },
          "metadata": {
            "tags": []
          },
          "execution_count": 32
        }
      ]
    },
    {
      "cell_type": "code",
      "metadata": {
        "id": "OSVMxypHVPeN"
      },
      "source": [
        "y_pred = classifier.predict(xtest) "
      ],
      "execution_count": null,
      "outputs": []
    },
    {
      "cell_type": "code",
      "metadata": {
        "colab": {
          "base_uri": "https://localhost:8080/"
        },
        "id": "eO_hnyuSVT_7",
        "outputId": "3b231629-623b-409f-a505-5d352f7c12f5"
      },
      "source": [
        "\n",
        "cm = confusion_matrix(ytest, y_pred) \n",
        "  \n",
        "print (\"Confusion Matrix : \\n\", cm)\n",
        "print(\"\\nAccuracy is \",(cm[0][0] +cm[1][1])/(cm[0][1]+cm[1][0]+cm[0][0]+cm[1][1]))  #TRUE/ALL\n",
        "print(\"\\nPrecision is\", cm[0][0]/(cm[0][0]+cm[0][1]))  # Precision = TP/ (TP + FP)\n",
        "print(\"\\nRecall is \",cm[0][0]/(cm[0][0]+cm[1][0]) ) #RECALL = TP/(TP + FN)\n"
      ],
      "execution_count": null,
      "outputs": [
        {
          "output_type": "stream",
          "text": [
            "Confusion Matrix : \n",
            " [[69855   127]\n",
            " [  243 55098]]\n",
            "\n",
            "Accuracy is  0.9970476289268531\n",
            "\n",
            "Precision is 0.9981852476351062\n",
            "\n",
            "Recall is  0.9965334246340837\n"
          ],
          "name": "stdout"
        }
      ]
    },
    {
      "cell_type": "code",
      "metadata": {
        "colab": {
          "base_uri": "https://localhost:8080/",
          "height": 282
        },
        "id": "CfpGvU6-hr6N",
        "outputId": "7303ff5a-0c3b-4bf8-f37c-57bfd4838900"
      },
      "source": [
        "### ROC\n",
        "fpr,tpr,threshold = roc_curve(ytest, y_pred, pos_label =1 )\n",
        "plt.plot(fpr,tpr)"
      ],
      "execution_count": null,
      "outputs": [
        {
          "output_type": "execute_result",
          "data": {
            "text/plain": [
              "[<matplotlib.lines.Line2D at 0x7f58f223c2e8>]"
            ]
          },
          "metadata": {
            "tags": []
          },
          "execution_count": 35
        },
        {
          "output_type": "display_data",
          "data": {
            "image/png": "[encoded data removed]",
            "text/plain": [
              "<Figure size 432x288 with 1 Axes>"
            ]
          },
          "metadata": {
            "tags": [],
            "needs_background": "light"
          }
        }
      ]
    },
    {
      "cell_type": "code",
      "metadata": {
        "id": "oWfumamgjEF9"
      },
      "source": [
        "#testing with original dataset\n",
        "Ydata = df['Class']\n",
        "df['index']=[x for x in range(len(df))]\n",
        "Xdata = df.drop(['Class'], axis=1)\n",
        "XData = Xdata[list(s)]\n",
        "\n",
        "test_pred = classifier.predict(XData)"
      ],
      "execution_count": null,
      "outputs": []
    },
    {
      "cell_type": "code",
      "metadata": {
        "colab": {
          "base_uri": "https://localhost:8080/"
        },
        "id": "J1rHHUZ-l2kH",
        "outputId": "9b151e20-b441-4933-df48-c5f9be3f9561"
      },
      "source": [
        "cm = confusion_matrix(Ydata, test_pred) \n",
        "  \n",
        "print (\"Confusion Matrix : \\n\", cm)\n",
        "print(\"\\nAccuracy is \",(cm[0][0] +cm[1][1])/(cm[0][1]+cm[1][0]+cm[0][0]+cm[1][1])) \n",
        "print(\"\\nPrecision is\", cm[0][0]/(cm[0][0]+cm[0][1]))\n",
        "print(\"\\nRecall is \",cm[0][0]/(cm[0][0]+cm[1][0]) )"
      ],
      "execution_count": null,
      "outputs": [
        {
          "output_type": "stream",
          "text": [
            "Confusion Matrix : \n",
            " [[284315      0]\n",
            " [283391      1]]\n",
            "\n",
            "Accuracy is  0.5008146808124614\n",
            "\n",
            "Precision is 1.0\n",
            "\n",
            "Recall is  0.5008138015099365\n"
          ],
          "name": "stdout"
        }
      ]
    },
    {
      "cell_type": "code",
      "metadata": {
        "colab": {
          "base_uri": "https://localhost:8080/",
          "height": 312
        },
        "id": "TYsSL9A2mmk5",
        "outputId": "cd2ffe9f-9bb7-45fc-81ee-4cbcc32363dd"
      },
      "source": [
        "### ROC\n",
        "plt.title(\"ROC CURVES\")\n",
        "fpr1,tpr1,threshold1 = roc_curve(Ydata, test_pred, pos_label =1 )\n",
        "plt.plot(fpr1,tpr1, color='red', label = 'entire dataset without preprocessing')\n",
        "plt.plot(fpr, tpr, color='green', label = 'preprocessed data')\n",
        "plt.xlabel(\"False Positive Rate\")  #FPR = FP/N\n",
        "plt.ylabel(\"True Positive Rate\")  #TPR = TP/P #PRECISION\n",
        "plt.legend(loc='lower right')"
      ],
      "execution_count": null,
      "outputs": [
        {
          "output_type": "execute_result",
          "data": {
            "text/plain": [
              "<matplotlib.legend.Legend at 0x7f58fe8c4d68>"
            ]
          },
          "metadata": {
            "tags": []
          },
          "execution_count": 38
        },
        {
          "output_type": "display_data",
          "data": {
            "image/png": "[encoded data removed]",
            "text/plain": [
              "<Figure size 432x288 with 1 Axes>"
            ]
          },
          "metadata": {
            "tags": [],
            "needs_background": "light"
          }
        }
      ]
    },
    {
      "cell_type": "markdown",
      "metadata": {
        "id": "CgGVnSsqoPuo"
      },
      "source": [
        "# With SMOTE\n",
        "\n"
      ]
    },
    {
      "cell_type": "code",
      "metadata": {
        "colab": {
          "base_uri": "https://localhost:8080/",
          "height": 350
        },
        "id": "kh1iWsGPoLgC",
        "outputId": "9a594fd7-3c1f-4840-e801-7a7f11adcc33"
      },
      "source": [
        "df2 = pd.read_csv(\"/content/drive/MyDrive/Colab Notebooks/creditcard.csv\")\n",
        "sns.countplot(df2['Class'])"
      ],
      "execution_count": null,
      "outputs": [
        {
          "output_type": "stream",
          "text": [
            "/usr/local/lib/python3.6/dist-packages/seaborn/_decorators.py:43: FutureWarning: Pass the following variable as a keyword arg: x. From version 0.12, the only valid positional argument will be `data`, and passing other arguments without an explicit keyword will result in an error or misinterpretation.\n",
            "  FutureWarning\n"
          ],
          "name": "stderr"
        },
        {
          "output_type": "execute_result",
          "data": {
            "text/plain": [
              "<matplotlib.axes._subplots.AxesSubplot at 0x7f58feee1080>"
            ]
          },
          "metadata": {
            "tags": []
          },
          "execution_count": 39
        },
        {
          "output_type": "display_data",
          "data": {
            "image/png": "[encoded data removed]",
            "text/plain": [
              "<Figure size 432x288 with 1 Axes>"
            ]
          },
          "metadata": {
            "tags": [],
            "needs_background": "light"
          }
        }
      ]
    },
    {
      "cell_type": "code",
      "metadata": {
        "id": "3aqXxg-Szi4i",
        "colab": {
          "base_uri": "https://localhost:8080/"
        },
        "outputId": "a11815b0-584c-436b-ef29-62fbed53cd76"
      },
      "source": [
        "from imblearn.over_sampling import SMOTE #Synthetic Minority Oversampling Technique\n",
        "from imblearn.under_sampling import RandomUnderSampler\n",
        "from imblearn.pipeline import Pipeline\n",
        "\n",
        "over = SMOTE(sampling_strategy=0.4)\n",
        "under = RandomUnderSampler(sampling_strategy=0.8)"
      ],
      "execution_count": null,
      "outputs": [
        {
          "output_type": "stream",
          "text": [
            "/usr/local/lib/python3.6/dist-packages/sklearn/externals/six.py:31: FutureWarning: The module is deprecated in version 0.21 and will be removed in version 0.23 since we've dropped support for Python 2.7. Please rely on the official version of six (https://pypi.org/project/six/).\n",
            "  \"(https://pypi.org/project/six/).\", FutureWarning)\n",
            "/usr/local/lib/python3.6/dist-packages/sklearn/utils/deprecation.py:144: FutureWarning: The sklearn.neighbors.base module is  deprecated in version 0.22 and will be removed in version 0.24. The corresponding classes / functions should instead be imported from sklearn.neighbors. Anything that cannot be imported from sklearn.neighbors is now part of the private API.\n",
            "  warnings.warn(message, FutureWarning)\n"
          ],
          "name": "stderr"
        }
      ]
    },
    {
      "cell_type": "code",
      "metadata": {
        "colab": {
          "base_uri": "https://localhost:8080/"
        },
        "id": "m2a7Z546zi76",
        "outputId": "c9891ab2-8d6e-43d5-8724-0c0728c2f2f7"
      },
      "source": [
        "steps = [('o', over), ('u', under)]\n",
        "pipeline = Pipeline(steps=steps)\n",
        "X, y = pipeline.fit_resample(df2[df2.columns[:-1]], df2['Class'])"
      ],
      "execution_count": null,
      "outputs": [
        {
          "output_type": "stream",
          "text": [
            "/usr/local/lib/python3.6/dist-packages/sklearn/utils/deprecation.py:87: FutureWarning: Function safe_indexing is deprecated; safe_indexing is deprecated in version 0.22 and will be removed in version 0.24.\n",
            "  warnings.warn(msg, category=FutureWarning)\n",
            "/usr/local/lib/python3.6/dist-packages/sklearn/utils/deprecation.py:87: FutureWarning: Function safe_indexing is deprecated; safe_indexing is deprecated in version 0.22 and will be removed in version 0.24.\n",
            "  warnings.warn(msg, category=FutureWarning)\n"
          ],
          "name": "stderr"
        }
      ]
    },
    {
      "cell_type": "code",
      "metadata": {
        "colab": {
          "base_uri": "https://localhost:8080/",
          "height": 282
        },
        "id": "N0Lim6L5dC2V",
        "outputId": "1f467e8a-3ff3-4b61-cc62-5528cc9a835f"
      },
      "source": [
        "sns.countplot(x=y)"
      ],
      "execution_count": null,
      "outputs": [
        {
          "output_type": "execute_result",
          "data": {
            "text/plain": [
              "<matplotlib.axes._subplots.AxesSubplot at 0x7f58f22f2c88>"
            ]
          },
          "metadata": {
            "tags": []
          },
          "execution_count": 42
        },
        {
          "output_type": "display_data",
          "data": {
            "image/png": "[encoded data removed]",
            "text/plain": [
              "<Figure size 432x288 with 1 Axes>"
            ]
          },
          "metadata": {
            "tags": [],
            "needs_background": "light"
          }
        }
      ]
    },
    {
      "cell_type": "code",
      "metadata": {
        "id": "_psqWLENfOgf"
      },
      "source": [
        "Xtrain, Xtest, Ytrain, Ytest = train_test_split(X, y, test_size = 0.25, random_state = 0) "
      ],
      "execution_count": null,
      "outputs": []
    },
    {
      "cell_type": "code",
      "metadata": {
        "id": "Uil6azipggfS",
        "colab": {
          "base_uri": "https://localhost:8080/"
        },
        "outputId": "1c725ca9-b250-4749-9ba8-ae7773ff6b5e"
      },
      "source": [
        "classifier2 = LogisticRegression(random_state = 0) \n",
        "classifier2.fit(Xtrain, Ytrain) \n",
        "pred = classifier2.predict(Xtest)"
      ],
      "execution_count": null,
      "outputs": [
        {
          "output_type": "stream",
          "text": [
            "/usr/local/lib/python3.6/dist-packages/sklearn/linear_model/_logistic.py:940: ConvergenceWarning: lbfgs failed to converge (status=1):\n",
            "STOP: TOTAL NO. of ITERATIONS REACHED LIMIT.\n",
            "\n",
            "Increase the number of iterations (max_iter) or scale the data as shown in:\n",
            "    https://scikit-learn.org/stable/modules/preprocessing.html\n",
            "Please also refer to the documentation for alternative solver options:\n",
            "    https://scikit-learn.org/stable/modules/linear_model.html#logistic-regression\n",
            "  extra_warning_msg=_LOGISTIC_SOLVER_CONVERGENCE_MSG)\n"
          ],
          "name": "stderr"
        }
      ]
    },
    {
      "cell_type": "code",
      "metadata": {
        "colab": {
          "base_uri": "https://localhost:8080/"
        },
        "id": "dqFypskThLkJ",
        "outputId": "b972e840-bc10-4c7f-d526-f69a9f831611"
      },
      "source": [
        "cm = confusion_matrix(Ytest, pred) \n",
        "  \n",
        "print (\"Confusion Matrix : \\n\", cm)\n",
        "print(\"\\nAccuracy is \",(cm[0][0] +cm[1][1])/(cm[0][1]+cm[1][0]+cm[0][0]+cm[1][1])) \n",
        "print(\"\\nPrecision is\", cm[0][0]/(cm[0][0]+cm[0][1]))\n",
        "print(\"\\nRecall is \",cm[0][0]/(cm[0][0]+cm[1][0]) )"
      ],
      "execution_count": null,
      "outputs": [
        {
          "output_type": "stream",
          "text": [
            "Confusion Matrix : \n",
            " [[34893   624]\n",
            " [ 1147 27307]]\n",
            "\n",
            "Accuracy is  0.9723155804974128\n",
            "\n",
            "Precision is 0.9824309485598446\n",
            "\n",
            "Recall is  0.9681742508324085\n"
          ],
          "name": "stdout"
        }
      ]
    },
    {
      "cell_type": "markdown",
      "metadata": {
        "id": "VopHktirl3Tl"
      },
      "source": [
        "Estimating for entire original dataset"
      ]
    },
    {
      "cell_type": "code",
      "metadata": {
        "id": "kyN68A4QhbEY"
      },
      "source": [
        "p=classifier2.predict(df2[df2.columns[:-1]])"
      ],
      "execution_count": null,
      "outputs": []
    },
    {
      "cell_type": "code",
      "metadata": {
        "colab": {
          "base_uri": "https://localhost:8080/"
        },
        "id": "Lccj-c2JiEaU",
        "outputId": "b057eb13-34b3-4fac-bde6-cd948761aa99"
      },
      "source": [
        "cm = confusion_matrix(df2['Class'], p) \n",
        "  \n",
        "print (\"Confusion Matrix : \\n\", cm)\n",
        "print(\"\\nAccuracy is \",(cm[0][0] +cm[1][1])/(cm[0][1]+cm[1][0]+cm[0][0]+cm[1][1])) \n",
        "print(\"\\nPrecision is\", cm[0][0]/(cm[0][0]+cm[0][1]))\n",
        "print(\"\\nRecall is \",cm[0][0]/(cm[0][0]+cm[1][0]) )"
      ],
      "execution_count": null,
      "outputs": [
        {
          "output_type": "stream",
          "text": [
            "Confusion Matrix : \n",
            " [[279269   5046]\n",
            " [    54    438]]\n",
            "\n",
            "Accuracy is  0.9820931367557679\n",
            "\n",
            "Precision is 0.9822520795596433\n",
            "\n",
            "Recall is  0.9998066754259406\n"
          ],
          "name": "stdout"
        }
      ]
    },
    {
      "cell_type": "code",
      "metadata": {
        "colab": {
          "base_uri": "https://localhost:8080/",
          "height": 312
        },
        "id": "kZxYdMorifzC",
        "outputId": "6a8bea92-f037-4b0d-ded9-57bc6d6b5cf7"
      },
      "source": [
        "### ROC\n",
        "plt.title(\"ROC CURVES\")\n",
        "fpr2,tpr2,threshold2 = roc_curve(df2['Class'], p, pos_label =1 )\n",
        "fpr3, tpr3, threshold3 = roc_curve(Ytest, pred, pos_label = 1)\n",
        "plt.plot(fpr3, tpr3, color='cyan', linestyle='dashed', linewidth= 5, label = '(C2) with SMOTE on test dataset')\n",
        "plt.plot(fpr1,tpr1, color='red', label = '(C) Entire dataset without preprocessing')\n",
        "plt.plot(fpr, tpr, color='green', label = '(C) Improper oversampling')\n",
        "plt.plot(fpr2, tpr2,color ='orange',linewidth=4,linestyle='dashed',label='(C2) with SMOTE on original dataset')\n",
        "\n",
        "plt.xlabel(\"False Positive Rate\")  #FPR = FP/N\n",
        "plt.ylabel(\"True Positive Rate\")  #TPR = TP/P #PRECISION\n",
        "plt.legend(loc='lower right');"
      ],
      "execution_count": null,
      "outputs": [
        {
          "output_type": "execute_result",
          "data": {
            "text/plain": [
              "<matplotlib.legend.Legend at 0x7f58f27ab2b0>"
            ]
          },
          "metadata": {
            "tags": []
          },
          "execution_count": 48
        },
        {
          "output_type": "display_data",
          "data": {
            "image/png": "[encoded data removed]",
            "text/plain": [
              "<Figure size 432x288 with 1 Axes>"
            ]
          },
          "metadata": {
            "tags": [],
            "needs_background": "light"
          }
        }
      ]
    },
    {
      "cell_type": "markdown",
      "metadata": {
        "id": "ovpUQx4YD2rd"
      },
      "source": [
        "Dropping highly correlated columns and outliers"
      ]
    },
    {
      "cell_type": "code",
      "metadata": {
        "colab": {
          "base_uri": "https://localhost:8080/"
        },
        "id": "uQnG5MqrooLo",
        "outputId": "222677b9-b27d-448e-c9e9-c414a7c3d850"
      },
      "source": [
        "data = pd.DataFrame( data = X)\n",
        "data.columns = df.columns[:-2]\n",
        "data = data.drop(highly_correlated,axis=1)\n",
        "data['Class'] = y\n",
        "data0 = data[data['Class']==0]\n",
        "data1 = data[data['Class']==1]\n",
        "out0 = data0[(abs(stats.zscore(data0[data.columns[:-1]]))<3).all(axis=1)]\n",
        "out1 = data1[(abs(stats.zscore(data1[data.columns[:-1]]))<3).all(axis=1)]\n",
        "print(len(out1) + len(out0))\n",
        "no_outliers_df = data[(abs(stats.zscore(data)) < 3).all(axis=1)] \n",
        "print(len(no_outliers_df))\n",
        "\n",
        "\n",
        "class_no_noise = pd.concat([out1, out0])\n"
      ],
      "execution_count": null,
      "outputs": [
        {
          "output_type": "stream",
          "text": [
            "228163\n",
            "224954\n"
          ],
          "name": "stdout"
        }
      ]
    },
    {
      "cell_type": "code",
      "metadata": {
        "colab": {
          "base_uri": "https://localhost:8080/"
        },
        "id": "OiXHGAbauSVh",
        "outputId": "1a897391-80d3-4a3e-be26-465a909b93d1"
      },
      "source": [
        "stats.zscore(data0)"
      ],
      "execution_count": null,
      "outputs": [
        {
          "output_type": "stream",
          "text": [
            "/usr/local/lib/python3.6/dist-packages/scipy/stats/stats.py:2419: RuntimeWarning: invalid value encountered in true_divide\n",
            "  return (a - mns) / sstd\n"
          ],
          "name": "stderr"
        },
        {
          "output_type": "execute_result",
          "data": {
            "text/plain": [
              "array([[-0.56119896,  0.74022066, -0.57468395, ...,  0.01247505,\n",
              "        -0.13186398,         nan],\n",
              "       [-0.89221509, -0.43017862,  0.50711698, ..., -0.36831931,\n",
              "        -0.3258277 ,         nan],\n",
              "       [-0.2155333 ,  0.67719577, -0.45356052, ...,  0.02282799,\n",
              "        -0.14645582,         nan],\n",
              "       ...,\n",
              "       [ 0.7210459 ,  0.96041563, -0.38929862, ..., -0.04940702,\n",
              "        -0.10442137,         nan],\n",
              "       [ 1.48912389,  1.08332483, -0.11767033, ..., -0.24290503,\n",
              "        -0.35281432,         nan],\n",
              "       [-0.38222176, -0.41624672,  0.42713726, ...,  0.13357737,\n",
              "        -0.33909302,         nan]])"
            ]
          },
          "metadata": {
            "tags": []
          },
          "execution_count": 50
        }
      ]
    },
    {
      "cell_type": "code",
      "metadata": {
        "colab": {
          "base_uri": "https://localhost:8080/"
        },
        "id": "gz4mvkWR6bhC",
        "outputId": "134f6ab8-f624-467e-f713-50e4fd460ea3"
      },
      "source": [
        "Xtrai, Xtes, Ytrai, Ytes = train_test_split(class_no_noise[class_no_noise.columns[:-1]], class_no_noise[class_no_noise.columns[-1]], test_size = 0.25, random_state = 0)\n",
        "classifier4 = LogisticRegression(random_state = 0) \n",
        "classifier4.fit(Xtrai, Ytrai) \n",
        "predi = classifier4.predict(Xtes)\n",
        "cc = confusion_matrix(Ytes, predi)\n",
        "print(cc)\n",
        "print(\"\\nAccuracy is \",(cc[0][0] +cc[1][1])/(cc[0][1]+cc[1][0]+cc[0][0]+cc[1][1])) \n",
        "print(\"\\nPrecision is\", cc[0][0]/(cc[0][0]+cc[0][1]))\n",
        "print(\"\\nRecall is \",cc[0][0]/(cc[0][0]+cc[1][0]) )\n",
        "\n",
        "fpr6, tpr6, threshold6 = roc_curve(Ytes, predi, pos_label = 1)\n"
      ],
      "execution_count": null,
      "outputs": [
        {
          "output_type": "stream",
          "text": [
            "[[28266  3820]\n",
            " [ 3339 21616]]\n",
            "\n",
            "Accuracy is  0.8744937851720692\n",
            "\n",
            "Precision is 0.8809449604188743\n",
            "\n",
            "Recall is  0.8943521594684385\n"
          ],
          "name": "stdout"
        }
      ]
    },
    {
      "cell_type": "code",
      "metadata": {
        "id": "HOUg03Eron7A"
      },
      "source": [
        "Xtrain, Xtest, Ytrain, Ytest = train_test_split(no_outliers_df[no_outliers_df.columns[:-1]], no_outliers_df[no_outliers_df.columns[-1]], test_size = 0.25, random_state = 0)\n",
        "classifier3 = LogisticRegression(random_state = 0) \n",
        "classifier3.fit(Xtrain, Ytrain) \n",
        "pred = classifier3.predict(Xtest)"
      ],
      "execution_count": null,
      "outputs": []
    },
    {
      "cell_type": "code",
      "metadata": {
        "id": "BDhYCKc4_b-R",
        "colab": {
          "base_uri": "https://localhost:8080/"
        },
        "outputId": "f44b0a9f-a022-41c2-f35a-c3625c0c243c"
      },
      "source": [
        "CM = confusion_matrix(Ytest,pred)\n",
        "print(CM)\n",
        "print(\"\\nAccuracy is \",(CM[0][0] +CM[1][1])/(CM[0][1]+CM[1][0]+CM[0][0]+CM[1][1])) \n",
        "print(\"\\nPrecision is\", CM[0][0]/(CM[0][0]+CM[0][1]))\n",
        "print(\"\\nRecall is \",CM[0][0]/(CM[0][0]+CM[1][0]) )"
      ],
      "execution_count": null,
      "outputs": [
        {
          "output_type": "stream",
          "text": [
            "[[27914  5431]\n",
            " [ 5123 17771]]\n",
            "\n",
            "Accuracy is  0.8123366347196785\n",
            "\n",
            "Precision is 0.8371270055480582\n",
            "\n",
            "Recall is  0.8449314405060993\n"
          ],
          "name": "stdout"
        }
      ]
    },
    {
      "cell_type": "code",
      "metadata": {
        "colab": {
          "base_uri": "https://localhost:8080/"
        },
        "id": "SmdcICBQAGpP",
        "outputId": "feb05a9e-dffa-4759-bc6e-fff0d16b5dad"
      },
      "source": [
        "train_pred = classifier3.predict(Xtrain)\n",
        "CM = confusion_matrix(Ytrain,train_pred)\n",
        "print(CM)\n",
        "print(\"\\nAccuracy is \",(CM[0][0] +CM[1][1])/(CM[0][1]+CM[1][0]+CM[0][0]+CM[1][1])) \n",
        "print(\"\\nPrecision is\", CM[0][0]/(CM[0][0]+CM[0][1]))\n",
        "print(\"\\nRecall is \",CM[0][0]/(CM[0][0]+CM[1][0]) )"
      ],
      "execution_count": null,
      "outputs": [
        {
          "output_type": "stream",
          "text": [
            "[[84247 16151]\n",
            " [15295 53022]]\n",
            "\n",
            "Accuracy is  0.8136146756364283\n",
            "\n",
            "Precision is 0.8391302615589952\n",
            "\n",
            "Recall is  0.846346265897812\n"
          ],
          "name": "stdout"
        }
      ]
    },
    {
      "cell_type": "code",
      "metadata": {
        "colab": {
          "base_uri": "https://localhost:8080/",
          "height": 530
        },
        "id": "Ga-eNnfMAgrN",
        "outputId": "5dfffcec-e47a-43b0-8e34-065d1feaedfa"
      },
      "source": [
        "plt.figure(figsize=(7,8))\n",
        "plt.title(\"ROC CURVES with SMOTE\")\n",
        "\n",
        "fpr4, tpr4, threshold4 = roc_curve(Ytrain, train_pred, pos_label = 1)\n",
        "fpr5, tpr5, threshold5 = roc_curve(Ytest, pred, pos_label = 1)\n",
        "plt.plot(fpr3, tpr3, color='cyan', linestyle='dashed', linewidth= 5, label = '(C2) with SMOTE on test dataset')\n",
        "# plt.plot(fpr1,tpr1, color='red', label = '(C) Entire dataset without preprocessing')\n",
        "# plt.plot(fpr, tpr, color='green', label = '(C) Improper oversampling')\n",
        "plt.plot(fpr2, tpr2,color ='orange',linewidth=4,linestyle='dashed',label='(C2) with SMOTE on original dataset')\n",
        "plt.plot(fpr4, tpr4,color='purple',linewidth=3, label=\"(C3) train dataset with no outlier & no highly corr\" )\n",
        "plt.plot(fpr5, tpr5, color='green',label=\"(C3) test dataset with no outlier & no highly corr\")\n",
        "plt.plot(fpr6, tpr6, color= 'yellow', label='(c4) on test data for outliers based on cls labels' )\n",
        "\n",
        "plt.xlabel(\"False Positive Rate\")  #FPR = FP/N\n",
        "plt.ylabel(\"True Positive Rate\")  #TPR = TP/P #PRECISION\n",
        "plt.legend(loc='lower right')"
      ],
      "execution_count": null,
      "outputs": [
        {
          "output_type": "execute_result",
          "data": {
            "text/plain": [
              "<matplotlib.legend.Legend at 0x7f58f22e0c88>"
            ]
          },
          "metadata": {
            "tags": []
          },
          "execution_count": 55
        },
        {
          "output_type": "display_data",
          "data": {
            "image/png": "[encoded data removed]",
            "text/plain": [
              "<Figure size 504x576 with 1 Axes>"
            ]
          },
          "metadata": {
            "tags": [],
            "needs_background": "light"
          }
        }
      ]
    }
  ]
}