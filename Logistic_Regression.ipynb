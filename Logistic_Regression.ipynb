{
 "cells": [
  {
   "cell_type": "code",
   "execution_count": 1,
   "metadata": {
    "id": "qYc1yfk7zW3k"
   },
   "outputs": [],
   "source": [
    "import pandas as pd\n",
    "import numpy as np \n",
    "import matplotlib.pyplot as plt\n",
    "import seaborn as sns\n",
    "from scipy import stats\n",
    "from sklearn.model_selection import train_test_split\n",
    "from sklearn.metrics import confusion_matrix , roc_curve\n",
    "from sklearn.linear_model import LogisticRegression "
   ]
  },
  {
   "cell_type": "code",
   "execution_count": 2,
   "metadata": {
    "id": "vSDS9h6z9HtX"
   },
   "outputs": [],
   "source": [
    "df = pd.read_csv(\"creditcard.csv\")"
   ]
  },
  {
   "cell_type": "code",
   "execution_count": 3,
   "metadata": {
    "colab": {
     "base_uri": "https://localhost:8080/",
     "height": 311
    },
    "id": "l3gwFr5e9qJG",
    "outputId": "01758370-b954-4b6f-dc8d-bfbbed00fcf0"
   },
   "outputs": [
    {
     "data": {
      "text/html": [
       "<div>\n",
       "<style scoped>\n",
       "    .dataframe tbody tr th:only-of-type {\n",
       "        vertical-align: middle;\n",
       "    }\n",
       "\n",
       "    .dataframe tbody tr th {\n",
       "        vertical-align: top;\n",
       "    }\n",
       "\n",
       "    .dataframe thead th {\n",
       "        text-align: right;\n",
       "    }\n",
       "</style>\n",
       "<table border=\"1\" class=\"dataframe\">\n",
       "  <thead>\n",
       "    <tr style=\"text-align: right;\">\n",
       "      <th></th>\n",
       "      <th>Time</th>\n",
       "      <th>V1</th>\n",
       "      <th>V2</th>\n",
       "      <th>V3</th>\n",
       "      <th>V4</th>\n",
       "      <th>V5</th>\n",
       "      <th>V6</th>\n",
       "      <th>V7</th>\n",
       "      <th>V8</th>\n",
       "      <th>V9</th>\n",
       "      <th>...</th>\n",
       "      <th>V21</th>\n",
       "      <th>V22</th>\n",
       "      <th>V23</th>\n",
       "      <th>V24</th>\n",
       "      <th>V25</th>\n",
       "      <th>V26</th>\n",
       "      <th>V27</th>\n",
       "      <th>V28</th>\n",
       "      <th>Amount</th>\n",
       "      <th>Class</th>\n",
       "    </tr>\n",
       "  </thead>\n",
       "  <tbody>\n",
       "    <tr>\n",
       "      <th>count</th>\n",
       "      <td>284807.000000</td>\n",
       "      <td>2.848070e+05</td>\n",
       "      <td>2.848070e+05</td>\n",
       "      <td>2.848070e+05</td>\n",
       "      <td>2.848070e+05</td>\n",
       "      <td>2.848070e+05</td>\n",
       "      <td>2.848070e+05</td>\n",
       "      <td>2.848070e+05</td>\n",
       "      <td>2.848070e+05</td>\n",
       "      <td>2.848070e+05</td>\n",
       "      <td>...</td>\n",
       "      <td>2.848070e+05</td>\n",
       "      <td>2.848070e+05</td>\n",
       "      <td>2.848070e+05</td>\n",
       "      <td>2.848070e+05</td>\n",
       "      <td>2.848070e+05</td>\n",
       "      <td>2.848070e+05</td>\n",
       "      <td>2.848070e+05</td>\n",
       "      <td>2.848070e+05</td>\n",
       "      <td>284807.000000</td>\n",
       "      <td>284807.000000</td>\n",
       "    </tr>\n",
       "    <tr>\n",
       "      <th>mean</th>\n",
       "      <td>94813.859575</td>\n",
       "      <td>3.919560e-15</td>\n",
       "      <td>5.688174e-16</td>\n",
       "      <td>-8.769071e-15</td>\n",
       "      <td>2.782312e-15</td>\n",
       "      <td>-1.552563e-15</td>\n",
       "      <td>2.010663e-15</td>\n",
       "      <td>-1.694249e-15</td>\n",
       "      <td>-1.927028e-16</td>\n",
       "      <td>-3.137024e-15</td>\n",
       "      <td>...</td>\n",
       "      <td>1.537294e-16</td>\n",
       "      <td>7.959909e-16</td>\n",
       "      <td>5.367590e-16</td>\n",
       "      <td>4.458112e-15</td>\n",
       "      <td>1.453003e-15</td>\n",
       "      <td>1.699104e-15</td>\n",
       "      <td>-3.660161e-16</td>\n",
       "      <td>-1.206049e-16</td>\n",
       "      <td>88.349619</td>\n",
       "      <td>0.001727</td>\n",
       "    </tr>\n",
       "    <tr>\n",
       "      <th>std</th>\n",
       "      <td>47488.145955</td>\n",
       "      <td>1.958696e+00</td>\n",
       "      <td>1.651309e+00</td>\n",
       "      <td>1.516255e+00</td>\n",
       "      <td>1.415869e+00</td>\n",
       "      <td>1.380247e+00</td>\n",
       "      <td>1.332271e+00</td>\n",
       "      <td>1.237094e+00</td>\n",
       "      <td>1.194353e+00</td>\n",
       "      <td>1.098632e+00</td>\n",
       "      <td>...</td>\n",
       "      <td>7.345240e-01</td>\n",
       "      <td>7.257016e-01</td>\n",
       "      <td>6.244603e-01</td>\n",
       "      <td>6.056471e-01</td>\n",
       "      <td>5.212781e-01</td>\n",
       "      <td>4.822270e-01</td>\n",
       "      <td>4.036325e-01</td>\n",
       "      <td>3.300833e-01</td>\n",
       "      <td>250.120109</td>\n",
       "      <td>0.041527</td>\n",
       "    </tr>\n",
       "    <tr>\n",
       "      <th>min</th>\n",
       "      <td>0.000000</td>\n",
       "      <td>-5.640751e+01</td>\n",
       "      <td>-7.271573e+01</td>\n",
       "      <td>-4.832559e+01</td>\n",
       "      <td>-5.683171e+00</td>\n",
       "      <td>-1.137433e+02</td>\n",
       "      <td>-2.616051e+01</td>\n",
       "      <td>-4.355724e+01</td>\n",
       "      <td>-7.321672e+01</td>\n",
       "      <td>-1.343407e+01</td>\n",
       "      <td>...</td>\n",
       "      <td>-3.483038e+01</td>\n",
       "      <td>-1.093314e+01</td>\n",
       "      <td>-4.480774e+01</td>\n",
       "      <td>-2.836627e+00</td>\n",
       "      <td>-1.029540e+01</td>\n",
       "      <td>-2.604551e+00</td>\n",
       "      <td>-2.256568e+01</td>\n",
       "      <td>-1.543008e+01</td>\n",
       "      <td>0.000000</td>\n",
       "      <td>0.000000</td>\n",
       "    </tr>\n",
       "    <tr>\n",
       "      <th>25%</th>\n",
       "      <td>54201.500000</td>\n",
       "      <td>-9.203734e-01</td>\n",
       "      <td>-5.985499e-01</td>\n",
       "      <td>-8.903648e-01</td>\n",
       "      <td>-8.486401e-01</td>\n",
       "      <td>-6.915971e-01</td>\n",
       "      <td>-7.682956e-01</td>\n",
       "      <td>-5.540759e-01</td>\n",
       "      <td>-2.086297e-01</td>\n",
       "      <td>-6.430976e-01</td>\n",
       "      <td>...</td>\n",
       "      <td>-2.283949e-01</td>\n",
       "      <td>-5.423504e-01</td>\n",
       "      <td>-1.618463e-01</td>\n",
       "      <td>-3.545861e-01</td>\n",
       "      <td>-3.171451e-01</td>\n",
       "      <td>-3.269839e-01</td>\n",
       "      <td>-7.083953e-02</td>\n",
       "      <td>-5.295979e-02</td>\n",
       "      <td>5.600000</td>\n",
       "      <td>0.000000</td>\n",
       "    </tr>\n",
       "    <tr>\n",
       "      <th>50%</th>\n",
       "      <td>84692.000000</td>\n",
       "      <td>1.810880e-02</td>\n",
       "      <td>6.548556e-02</td>\n",
       "      <td>1.798463e-01</td>\n",
       "      <td>-1.984653e-02</td>\n",
       "      <td>-5.433583e-02</td>\n",
       "      <td>-2.741871e-01</td>\n",
       "      <td>4.010308e-02</td>\n",
       "      <td>2.235804e-02</td>\n",
       "      <td>-5.142873e-02</td>\n",
       "      <td>...</td>\n",
       "      <td>-2.945017e-02</td>\n",
       "      <td>6.781943e-03</td>\n",
       "      <td>-1.119293e-02</td>\n",
       "      <td>4.097606e-02</td>\n",
       "      <td>1.659350e-02</td>\n",
       "      <td>-5.213911e-02</td>\n",
       "      <td>1.342146e-03</td>\n",
       "      <td>1.124383e-02</td>\n",
       "      <td>22.000000</td>\n",
       "      <td>0.000000</td>\n",
       "    </tr>\n",
       "    <tr>\n",
       "      <th>75%</th>\n",
       "      <td>139320.500000</td>\n",
       "      <td>1.315642e+00</td>\n",
       "      <td>8.037239e-01</td>\n",
       "      <td>1.027196e+00</td>\n",
       "      <td>7.433413e-01</td>\n",
       "      <td>6.119264e-01</td>\n",
       "      <td>3.985649e-01</td>\n",
       "      <td>5.704361e-01</td>\n",
       "      <td>3.273459e-01</td>\n",
       "      <td>5.971390e-01</td>\n",
       "      <td>...</td>\n",
       "      <td>1.863772e-01</td>\n",
       "      <td>5.285536e-01</td>\n",
       "      <td>1.476421e-01</td>\n",
       "      <td>4.395266e-01</td>\n",
       "      <td>3.507156e-01</td>\n",
       "      <td>2.409522e-01</td>\n",
       "      <td>9.104512e-02</td>\n",
       "      <td>7.827995e-02</td>\n",
       "      <td>77.165000</td>\n",
       "      <td>0.000000</td>\n",
       "    </tr>\n",
       "    <tr>\n",
       "      <th>max</th>\n",
       "      <td>172792.000000</td>\n",
       "      <td>2.454930e+00</td>\n",
       "      <td>2.205773e+01</td>\n",
       "      <td>9.382558e+00</td>\n",
       "      <td>1.687534e+01</td>\n",
       "      <td>3.480167e+01</td>\n",
       "      <td>7.330163e+01</td>\n",
       "      <td>1.205895e+02</td>\n",
       "      <td>2.000721e+01</td>\n",
       "      <td>1.559499e+01</td>\n",
       "      <td>...</td>\n",
       "      <td>2.720284e+01</td>\n",
       "      <td>1.050309e+01</td>\n",
       "      <td>2.252841e+01</td>\n",
       "      <td>4.584549e+00</td>\n",
       "      <td>7.519589e+00</td>\n",
       "      <td>3.517346e+00</td>\n",
       "      <td>3.161220e+01</td>\n",
       "      <td>3.384781e+01</td>\n",
       "      <td>25691.160000</td>\n",
       "      <td>1.000000</td>\n",
       "    </tr>\n",
       "  </tbody>\n",
       "</table>\n",
       "<p>8 rows × 31 columns</p>\n",
       "</div>"
      ],
      "text/plain": [
       "                Time            V1            V2            V3            V4  \\\n",
       "count  284807.000000  2.848070e+05  2.848070e+05  2.848070e+05  2.848070e+05   \n",
       "mean    94813.859575  3.919560e-15  5.688174e-16 -8.769071e-15  2.782312e-15   \n",
       "std     47488.145955  1.958696e+00  1.651309e+00  1.516255e+00  1.415869e+00   \n",
       "min         0.000000 -5.640751e+01 -7.271573e+01 -4.832559e+01 -5.683171e+00   \n",
       "25%     54201.500000 -9.203734e-01 -5.985499e-01 -8.903648e-01 -8.486401e-01   \n",
       "50%     84692.000000  1.810880e-02  6.548556e-02  1.798463e-01 -1.984653e-02   \n",
       "75%    139320.500000  1.315642e+00  8.037239e-01  1.027196e+00  7.433413e-01   \n",
       "max    172792.000000  2.454930e+00  2.205773e+01  9.382558e+00  1.687534e+01   \n",
       "\n",
       "                 V5            V6            V7            V8            V9  \\\n",
       "count  2.848070e+05  2.848070e+05  2.848070e+05  2.848070e+05  2.848070e+05   \n",
       "mean  -1.552563e-15  2.010663e-15 -1.694249e-15 -1.927028e-16 -3.137024e-15   \n",
       "std    1.380247e+00  1.332271e+00  1.237094e+00  1.194353e+00  1.098632e+00   \n",
       "min   -1.137433e+02 -2.616051e+01 -4.355724e+01 -7.321672e+01 -1.343407e+01   \n",
       "25%   -6.915971e-01 -7.682956e-01 -5.540759e-01 -2.086297e-01 -6.430976e-01   \n",
       "50%   -5.433583e-02 -2.741871e-01  4.010308e-02  2.235804e-02 -5.142873e-02   \n",
       "75%    6.119264e-01  3.985649e-01  5.704361e-01  3.273459e-01  5.971390e-01   \n",
       "max    3.480167e+01  7.330163e+01  1.205895e+02  2.000721e+01  1.559499e+01   \n",
       "\n",
       "       ...           V21           V22           V23           V24  \\\n",
       "count  ...  2.848070e+05  2.848070e+05  2.848070e+05  2.848070e+05   \n",
       "mean   ...  1.537294e-16  7.959909e-16  5.367590e-16  4.458112e-15   \n",
       "std    ...  7.345240e-01  7.257016e-01  6.244603e-01  6.056471e-01   \n",
       "min    ... -3.483038e+01 -1.093314e+01 -4.480774e+01 -2.836627e+00   \n",
       "25%    ... -2.283949e-01 -5.423504e-01 -1.618463e-01 -3.545861e-01   \n",
       "50%    ... -2.945017e-02  6.781943e-03 -1.119293e-02  4.097606e-02   \n",
       "75%    ...  1.863772e-01  5.285536e-01  1.476421e-01  4.395266e-01   \n",
       "max    ...  2.720284e+01  1.050309e+01  2.252841e+01  4.584549e+00   \n",
       "\n",
       "                V25           V26           V27           V28         Amount  \\\n",
       "count  2.848070e+05  2.848070e+05  2.848070e+05  2.848070e+05  284807.000000   \n",
       "mean   1.453003e-15  1.699104e-15 -3.660161e-16 -1.206049e-16      88.349619   \n",
       "std    5.212781e-01  4.822270e-01  4.036325e-01  3.300833e-01     250.120109   \n",
       "min   -1.029540e+01 -2.604551e+00 -2.256568e+01 -1.543008e+01       0.000000   \n",
       "25%   -3.171451e-01 -3.269839e-01 -7.083953e-02 -5.295979e-02       5.600000   \n",
       "50%    1.659350e-02 -5.213911e-02  1.342146e-03  1.124383e-02      22.000000   \n",
       "75%    3.507156e-01  2.409522e-01  9.104512e-02  7.827995e-02      77.165000   \n",
       "max    7.519589e+00  3.517346e+00  3.161220e+01  3.384781e+01   25691.160000   \n",
       "\n",
       "               Class  \n",
       "count  284807.000000  \n",
       "mean        0.001727  \n",
       "std         0.041527  \n",
       "min         0.000000  \n",
       "25%         0.000000  \n",
       "50%         0.000000  \n",
       "75%         0.000000  \n",
       "max         1.000000  \n",
       "\n",
       "[8 rows x 31 columns]"
      ]
     },
     "execution_count": 3,
     "metadata": {},
     "output_type": "execute_result"
    }
   ],
   "source": [
    "df.describe()"
   ]
  },
  {
   "cell_type": "code",
   "execution_count": 4,
   "metadata": {
    "colab": {
     "base_uri": "https://localhost:8080/"
    },
    "id": "A3sezCmZ-Gwe",
    "outputId": "93b45ee8-a3d0-4e60-ea05-9f9b448d2214"
   },
   "outputs": [
    {
     "data": {
      "text/plain": [
       "Time      0\n",
       "V1        0\n",
       "V2        0\n",
       "V3        0\n",
       "V4        0\n",
       "V5        0\n",
       "V6        0\n",
       "V7        0\n",
       "V8        0\n",
       "V9        0\n",
       "V10       0\n",
       "V11       0\n",
       "V12       0\n",
       "V13       0\n",
       "V14       0\n",
       "V15       0\n",
       "V16       0\n",
       "V17       0\n",
       "V18       0\n",
       "V19       0\n",
       "V20       0\n",
       "V21       0\n",
       "V22       0\n",
       "V23       0\n",
       "V24       0\n",
       "V25       0\n",
       "V26       0\n",
       "V27       0\n",
       "V28       0\n",
       "Amount    0\n",
       "Class     0\n",
       "dtype: int64"
      ]
     },
     "execution_count": 4,
     "metadata": {},
     "output_type": "execute_result"
    }
   ],
   "source": [
    "df.isnull().sum()"
   ]
  },
  {
   "cell_type": "code",
   "execution_count": 5,
   "metadata": {
    "colab": {
     "base_uri": "https://localhost:8080/",
     "height": 333
    },
    "id": "d2gnq3jp9z5J",
    "outputId": "10165965-e098-4b51-cc9e-b94fd799648a"
   },
   "outputs": [
    {
     "data": {
      "image/png": "[encoded data removed]",
      "text/plain": [
       "<Figure size 432x288 with 1 Axes>"
      ]
     },
     "metadata": {
      "needs_background": "light"
     },
     "output_type": "display_data"
    }
   ],
   "source": [
    "df['Class'].value_counts()  #imbalanced classes\n",
    "sns.countplot(df['Class']);\n",
    "\n",
    "# three cases:\n",
    "#1. Ignoring ---- model will be biased\n",
    "#2. Undersampling -- might loss some of useful features\n",
    "#3. Oversampling ----  might result in overfitting"
   ]
  },
  {
   "cell_type": "code",
   "execution_count": 6,
   "metadata": {
    "id": "QIa4LjLA-EiA"
   },
   "outputs": [],
   "source": [
    "# balancing with oversampling\n",
    "diff = df['Class'].value_counts()[0] - df['Class'].value_counts()[1]\n",
    "l = diff//df['Class'].value_counts()[1]"
   ]
  },
  {
   "cell_type": "code",
   "execution_count": 7,
   "metadata": {
    "colab": {
     "base_uri": "https://localhost:8080/"
    },
    "id": "1wAkFKocHsvN",
    "outputId": "aa7331b6-f682-4b04-bcd3-3304e5df80b3"
   },
   "outputs": [
    {
     "data": {
      "text/plain": [
       "567707"
      ]
     },
     "execution_count": 7,
     "metadata": {},
     "output_type": "execute_result"
    }
   ],
   "source": [
    "newDf =pd.DataFrame()\n",
    "new = df[df['Class']==1]\n",
    "for i in range(l):\n",
    "  newDf = pd.concat([newDf, new])\n",
    "\n",
    "df = pd.concat([newDf, df[df['Class']==0] ])\n",
    "len(df)\n"
   ]
  },
  {
   "cell_type": "markdown",
   "metadata": {
    "id": "wacNC7vuygoU"
   },
   "source": [
    "# Over sampling before Validation - Improper way.\n"
   ]
  },
  {
   "cell_type": "code",
   "execution_count": 8,
   "metadata": {
    "colab": {
     "base_uri": "https://localhost:8080/",
     "height": 333
    },
    "id": "tzXd-BgfIPgO",
    "outputId": "0ea99f7d-c3c9-4591-c36c-c91406342d31"
   },
   "outputs": [
    {
     "data": {
      "image/png": "[encoded data removed]",
      "text/plain": [
       "<Figure size 432x288 with 1 Axes>"
      ]
     },
     "metadata": {
      "needs_background": "light"
     },
     "output_type": "display_data"
    }
   ],
   "source": [
    "sns.countplot(df['Class']); # now balanced."
   ]
  },
  {
   "cell_type": "code",
   "execution_count": 9,
   "metadata": {
    "colab": {
     "base_uri": "https://localhost:8080/"
    },
    "id": "lTRPfTigLw7e",
    "outputId": "8978e841-0c4e-4868-e5e9-255dcfac4eaa"
   },
   "outputs": [
    {
     "data": {
      "text/plain": [
       "Index(['Time', 'V1', 'V2', 'V3', 'V4', 'V5', 'V6', 'V7', 'V8', 'V9', 'V10',\n",
       "       'V11', 'V12', 'V13', 'V14', 'V15', 'V16', 'V17', 'V18', 'V19', 'V20',\n",
       "       'V21', 'V22', 'V23', 'V24', 'V25', 'V26', 'V27', 'V28', 'Amount',\n",
       "       'Class'],\n",
       "      dtype='object')"
      ]
     },
     "execution_count": 9,
     "metadata": {},
     "output_type": "execute_result"
    }
   ],
   "source": [
    "col_names = df.columns\n",
    "col_names\n"
   ]
  },
  {
   "cell_type": "code",
   "execution_count": 10,
   "metadata": {
    "colab": {
     "base_uri": "https://localhost:8080/",
     "height": 282
    },
    "id": "8jvOQe6lNnQz",
    "outputId": "5c690b7e-08cd-463d-dd80-5d856198311e"
   },
   "outputs": [
    {
     "data": {
      "text/plain": [
       "[<matplotlib.lines.Line2D at 0x2a781012dc8>]"
      ]
     },
     "execution_count": 10,
     "metadata": {},
     "output_type": "execute_result"
    },
    {
     "data": {
      "image/png": "[encoded data removed]",
      "text/plain": [
       "<Figure size 432x288 with 1 Axes>"
      ]
     },
     "metadata": {
      "needs_background": "light"
     },
     "output_type": "display_data"
    }
   ],
   "source": [
    "plt.plot(df['Time'],df['Amount'])"
   ]
  },
  {
   "cell_type": "code",
   "execution_count": 11,
   "metadata": {
    "colab": {
     "base_uri": "https://localhost:8080/",
     "height": 279
    },
    "id": "taOZcr_JOJcA",
    "outputId": "e16feea6-971c-4b24-a5fc-63116767ba8d"
   },
   "outputs": [
    {
     "data": {
      "image/png": "[encoded data removed]",
      "text/plain": [
       "<Figure size 432x288 with 1 Axes>"
      ]
     },
     "metadata": {
      "needs_background": "light"
     },
     "output_type": "display_data"
    }
   ],
   "source": [
    "sns.scatterplot(x = df['Time'],y = df['Amount']);"
   ]
  },
  {
   "cell_type": "code",
   "execution_count": 12,
   "metadata": {
    "colab": {
     "base_uri": "https://localhost:8080/",
     "height": 1000
    },
    "id": "9p4VZAkDRwDr",
    "outputId": "3a34d3ff-02c4-42b4-d071-747aae0ac3b4"
   },
   "outputs": [
    {
     "data": {
      "text/html": [
       "<div>\n",
       "<style scoped>\n",
       "    .dataframe tbody tr th:only-of-type {\n",
       "        vertical-align: middle;\n",
       "    }\n",
       "\n",
       "    .dataframe tbody tr th {\n",
       "        vertical-align: top;\n",
       "    }\n",
       "\n",
       "    .dataframe thead th {\n",
       "        text-align: right;\n",
       "    }\n",
       "</style>\n",
       "<table border=\"1\" class=\"dataframe\">\n",
       "  <thead>\n",
       "    <tr style=\"text-align: right;\">\n",
       "      <th></th>\n",
       "      <th>Time</th>\n",
       "      <th>V1</th>\n",
       "      <th>V2</th>\n",
       "      <th>V3</th>\n",
       "      <th>V4</th>\n",
       "      <th>V5</th>\n",
       "      <th>V6</th>\n",
       "      <th>V7</th>\n",
       "      <th>V8</th>\n",
       "      <th>V9</th>\n",
       "      <th>...</th>\n",
       "      <th>V21</th>\n",
       "      <th>V22</th>\n",
       "      <th>V23</th>\n",
       "      <th>V24</th>\n",
       "      <th>V25</th>\n",
       "      <th>V26</th>\n",
       "      <th>V27</th>\n",
       "      <th>V28</th>\n",
       "      <th>Amount</th>\n",
       "      <th>Class</th>\n",
       "    </tr>\n",
       "  </thead>\n",
       "  <tbody>\n",
       "    <tr>\n",
       "      <th>Time</th>\n",
       "      <td>1.000000</td>\n",
       "      <td>0.243504</td>\n",
       "      <td>-0.219290</td>\n",
       "      <td>0.150392</td>\n",
       "      <td>-0.213599</td>\n",
       "      <td>0.284246</td>\n",
       "      <td>0.109074</td>\n",
       "      <td>0.219083</td>\n",
       "      <td>-0.139122</td>\n",
       "      <td>0.160582</td>\n",
       "      <td>...</td>\n",
       "      <td>-0.059371</td>\n",
       "      <td>0.127243</td>\n",
       "      <td>0.056263</td>\n",
       "      <td>-0.006637</td>\n",
       "      <td>-0.191925</td>\n",
       "      <td>-0.049520</td>\n",
       "      <td>-0.137886</td>\n",
       "      <td>0.008257</td>\n",
       "      <td>0.009436</td>\n",
       "      <td>-0.146317</td>\n",
       "    </tr>\n",
       "    <tr>\n",
       "      <th>V1</th>\n",
       "      <td>0.243504</td>\n",
       "      <td>1.000000</td>\n",
       "      <td>-0.788514</td>\n",
       "      <td>0.878486</td>\n",
       "      <td>-0.614344</td>\n",
       "      <td>0.857656</td>\n",
       "      <td>0.316061</td>\n",
       "      <td>0.879440</td>\n",
       "      <td>-0.081298</td>\n",
       "      <td>0.656419</td>\n",
       "      <td>...</td>\n",
       "      <td>0.015141</td>\n",
       "      <td>-0.036369</td>\n",
       "      <td>-0.044828</td>\n",
       "      <td>-0.069080</td>\n",
       "      <td>-0.078672</td>\n",
       "      <td>0.057206</td>\n",
       "      <td>0.188382</td>\n",
       "      <td>0.173845</td>\n",
       "      <td>-0.038952</td>\n",
       "      <td>-0.432759</td>\n",
       "    </tr>\n",
       "    <tr>\n",
       "      <th>V2</th>\n",
       "      <td>-0.219290</td>\n",
       "      <td>-0.788514</td>\n",
       "      <td>1.000000</td>\n",
       "      <td>-0.851641</td>\n",
       "      <td>0.669798</td>\n",
       "      <td>-0.788065</td>\n",
       "      <td>-0.274555</td>\n",
       "      <td>-0.841061</td>\n",
       "      <td>-0.019134</td>\n",
       "      <td>-0.695092</td>\n",
       "      <td>...</td>\n",
       "      <td>0.042182</td>\n",
       "      <td>-0.007126</td>\n",
       "      <td>0.142859</td>\n",
       "      <td>-0.003630</td>\n",
       "      <td>0.109868</td>\n",
       "      <td>-0.004349</td>\n",
       "      <td>-0.157267</td>\n",
       "      <td>0.001391</td>\n",
       "      <td>-0.242606</td>\n",
       "      <td>0.488436</td>\n",
       "    </tr>\n",
       "    <tr>\n",
       "      <th>V3</th>\n",
       "      <td>0.150392</td>\n",
       "      <td>0.878486</td>\n",
       "      <td>-0.851641</td>\n",
       "      <td>1.000000</td>\n",
       "      <td>-0.769852</td>\n",
       "      <td>0.851338</td>\n",
       "      <td>0.455204</td>\n",
       "      <td>0.885676</td>\n",
       "      <td>-0.171703</td>\n",
       "      <td>0.764147</td>\n",
       "      <td>...</td>\n",
       "      <td>0.027944</td>\n",
       "      <td>-0.062999</td>\n",
       "      <td>-0.030232</td>\n",
       "      <td>0.013397</td>\n",
       "      <td>-0.086698</td>\n",
       "      <td>-0.011934</td>\n",
       "      <td>0.101431</td>\n",
       "      <td>0.122650</td>\n",
       "      <td>-0.011386</td>\n",
       "      <td>-0.566514</td>\n",
       "    </tr>\n",
       "    <tr>\n",
       "      <th>V4</th>\n",
       "      <td>-0.213599</td>\n",
       "      <td>-0.614344</td>\n",
       "      <td>0.669798</td>\n",
       "      <td>-0.769852</td>\n",
       "      <td>1.000000</td>\n",
       "      <td>-0.577226</td>\n",
       "      <td>-0.427714</td>\n",
       "      <td>-0.708569</td>\n",
       "      <td>0.103306</td>\n",
       "      <td>-0.787899</td>\n",
       "      <td>...</td>\n",
       "      <td>-0.020413</td>\n",
       "      <td>0.115651</td>\n",
       "      <td>0.021377</td>\n",
       "      <td>-0.076648</td>\n",
       "      <td>-0.023932</td>\n",
       "      <td>0.142661</td>\n",
       "      <td>-0.009659</td>\n",
       "      <td>-0.066001</td>\n",
       "      <td>0.008504</td>\n",
       "      <td>0.709918</td>\n",
       "    </tr>\n",
       "    <tr>\n",
       "      <th>V5</th>\n",
       "      <td>0.284246</td>\n",
       "      <td>0.857656</td>\n",
       "      <td>-0.788065</td>\n",
       "      <td>0.851338</td>\n",
       "      <td>-0.577226</td>\n",
       "      <td>1.000000</td>\n",
       "      <td>0.281327</td>\n",
       "      <td>0.831505</td>\n",
       "      <td>-0.205122</td>\n",
       "      <td>0.657345</td>\n",
       "      <td>...</td>\n",
       "      <td>0.042926</td>\n",
       "      <td>-0.093331</td>\n",
       "      <td>-0.083246</td>\n",
       "      <td>-0.133260</td>\n",
       "      <td>-0.085568</td>\n",
       "      <td>0.060564</td>\n",
       "      <td>0.182926</td>\n",
       "      <td>0.161364</td>\n",
       "      <td>-0.120732</td>\n",
       "      <td>-0.374183</td>\n",
       "    </tr>\n",
       "    <tr>\n",
       "      <th>V6</th>\n",
       "      <td>0.109074</td>\n",
       "      <td>0.316061</td>\n",
       "      <td>-0.274555</td>\n",
       "      <td>0.455204</td>\n",
       "      <td>-0.427714</td>\n",
       "      <td>0.281327</td>\n",
       "      <td>1.000000</td>\n",
       "      <td>0.286383</td>\n",
       "      <td>-0.567232</td>\n",
       "      <td>0.365911</td>\n",
       "      <td>...</td>\n",
       "      <td>0.019672</td>\n",
       "      <td>0.000599</td>\n",
       "      <td>0.312061</td>\n",
       "      <td>-0.023623</td>\n",
       "      <td>-0.130606</td>\n",
       "      <td>-0.038421</td>\n",
       "      <td>-0.160463</td>\n",
       "      <td>-0.033421</td>\n",
       "      <td>0.175496</td>\n",
       "      <td>-0.397881</td>\n",
       "    </tr>\n",
       "    <tr>\n",
       "      <th>V7</th>\n",
       "      <td>0.219083</td>\n",
       "      <td>0.879440</td>\n",
       "      <td>-0.841061</td>\n",
       "      <td>0.885676</td>\n",
       "      <td>-0.708569</td>\n",
       "      <td>0.831505</td>\n",
       "      <td>0.286383</td>\n",
       "      <td>1.000000</td>\n",
       "      <td>0.086427</td>\n",
       "      <td>0.761852</td>\n",
       "      <td>...</td>\n",
       "      <td>0.039759</td>\n",
       "      <td>-0.116823</td>\n",
       "      <td>-0.088185</td>\n",
       "      <td>-0.043350</td>\n",
       "      <td>0.050186</td>\n",
       "      <td>0.025646</td>\n",
       "      <td>0.231121</td>\n",
       "      <td>0.142069</td>\n",
       "      <td>0.134264</td>\n",
       "      <td>-0.475902</td>\n",
       "    </tr>\n",
       "    <tr>\n",
       "      <th>V8</th>\n",
       "      <td>-0.139122</td>\n",
       "      <td>-0.081298</td>\n",
       "      <td>-0.019134</td>\n",
       "      <td>-0.171703</td>\n",
       "      <td>0.103306</td>\n",
       "      <td>-0.205122</td>\n",
       "      <td>-0.567232</td>\n",
       "      <td>0.086427</td>\n",
       "      <td>1.000000</td>\n",
       "      <td>-0.076615</td>\n",
       "      <td>...</td>\n",
       "      <td>-0.112179</td>\n",
       "      <td>0.033949</td>\n",
       "      <td>-0.411371</td>\n",
       "      <td>0.074003</td>\n",
       "      <td>0.230876</td>\n",
       "      <td>0.046463</td>\n",
       "      <td>0.285430</td>\n",
       "      <td>-0.012403</td>\n",
       "      <td>0.016716</td>\n",
       "      <td>0.058613</td>\n",
       "    </tr>\n",
       "    <tr>\n",
       "      <th>V9</th>\n",
       "      <td>0.160582</td>\n",
       "      <td>0.656419</td>\n",
       "      <td>-0.695092</td>\n",
       "      <td>0.764147</td>\n",
       "      <td>-0.787899</td>\n",
       "      <td>0.657345</td>\n",
       "      <td>0.365911</td>\n",
       "      <td>0.761852</td>\n",
       "      <td>-0.076615</td>\n",
       "      <td>1.000000</td>\n",
       "      <td>...</td>\n",
       "      <td>0.158310</td>\n",
       "      <td>-0.239474</td>\n",
       "      <td>-0.053021</td>\n",
       "      <td>0.013555</td>\n",
       "      <td>-0.009124</td>\n",
       "      <td>-0.123856</td>\n",
       "      <td>0.124956</td>\n",
       "      <td>0.132097</td>\n",
       "      <td>0.024225</td>\n",
       "      <td>-0.557288</td>\n",
       "    </tr>\n",
       "    <tr>\n",
       "      <th>V10</th>\n",
       "      <td>0.215843</td>\n",
       "      <td>0.738581</td>\n",
       "      <td>-0.764547</td>\n",
       "      <td>0.856216</td>\n",
       "      <td>-0.793384</td>\n",
       "      <td>0.756552</td>\n",
       "      <td>0.419737</td>\n",
       "      <td>0.864887</td>\n",
       "      <td>-0.052917</td>\n",
       "      <td>0.848146</td>\n",
       "      <td>...</td>\n",
       "      <td>0.083027</td>\n",
       "      <td>-0.209756</td>\n",
       "      <td>-0.050829</td>\n",
       "      <td>0.002103</td>\n",
       "      <td>0.021323</td>\n",
       "      <td>-0.032456</td>\n",
       "      <td>0.148009</td>\n",
       "      <td>0.126199</td>\n",
       "      <td>0.002099</td>\n",
       "      <td>-0.626787</td>\n",
       "    </tr>\n",
       "    <tr>\n",
       "      <th>V11</th>\n",
       "      <td>-0.314229</td>\n",
       "      <td>-0.528174</td>\n",
       "      <td>0.614511</td>\n",
       "      <td>-0.715219</td>\n",
       "      <td>0.795849</td>\n",
       "      <td>-0.527781</td>\n",
       "      <td>-0.491172</td>\n",
       "      <td>-0.637376</td>\n",
       "      <td>0.170937</td>\n",
       "      <td>-0.697894</td>\n",
       "      <td>...</td>\n",
       "      <td>0.140059</td>\n",
       "      <td>0.015239</td>\n",
       "      <td>-0.028389</td>\n",
       "      <td>-0.118724</td>\n",
       "      <td>0.027557</td>\n",
       "      <td>0.158125</td>\n",
       "      <td>0.175060</td>\n",
       "      <td>0.030228</td>\n",
       "      <td>-0.019864</td>\n",
       "      <td>0.685878</td>\n",
       "    </tr>\n",
       "    <tr>\n",
       "      <th>V12</th>\n",
       "      <td>0.264711</td>\n",
       "      <td>0.592828</td>\n",
       "      <td>-0.665133</td>\n",
       "      <td>0.760801</td>\n",
       "      <td>-0.835326</td>\n",
       "      <td>0.617843</td>\n",
       "      <td>0.496116</td>\n",
       "      <td>0.717517</td>\n",
       "      <td>-0.166496</td>\n",
       "      <td>0.765619</td>\n",
       "      <td>...</td>\n",
       "      <td>-0.076306</td>\n",
       "      <td>-0.106315</td>\n",
       "      <td>0.008305</td>\n",
       "      <td>0.042980</td>\n",
       "      <td>0.031647</td>\n",
       "      <td>-0.117351</td>\n",
       "      <td>-0.028975</td>\n",
       "      <td>0.003238</td>\n",
       "      <td>0.018905</td>\n",
       "      <td>-0.683009</td>\n",
       "    </tr>\n",
       "    <tr>\n",
       "      <th>V13</th>\n",
       "      <td>-0.108850</td>\n",
       "      <td>-0.054295</td>\n",
       "      <td>0.030445</td>\n",
       "      <td>-0.072463</td>\n",
       "      <td>0.055161</td>\n",
       "      <td>-0.122747</td>\n",
       "      <td>-0.110387</td>\n",
       "      <td>-0.022395</td>\n",
       "      <td>0.272439</td>\n",
       "      <td>-0.039125</td>\n",
       "      <td>...</td>\n",
       "      <td>-0.001352</td>\n",
       "      <td>0.017253</td>\n",
       "      <td>-0.092751</td>\n",
       "      <td>0.046037</td>\n",
       "      <td>0.000182</td>\n",
       "      <td>0.040605</td>\n",
       "      <td>0.050585</td>\n",
       "      <td>-0.107254</td>\n",
       "      <td>0.009853</td>\n",
       "      <td>-0.052056</td>\n",
       "    </tr>\n",
       "    <tr>\n",
       "      <th>V14</th>\n",
       "      <td>0.179245</td>\n",
       "      <td>0.441607</td>\n",
       "      <td>-0.564009</td>\n",
       "      <td>0.654225</td>\n",
       "      <td>-0.793438</td>\n",
       "      <td>0.431295</td>\n",
       "      <td>0.528895</td>\n",
       "      <td>0.541450</td>\n",
       "      <td>-0.186303</td>\n",
       "      <td>0.674653</td>\n",
       "      <td>...</td>\n",
       "      <td>-0.225108</td>\n",
       "      <td>0.066109</td>\n",
       "      <td>0.017461</td>\n",
       "      <td>0.143588</td>\n",
       "      <td>-0.082312</td>\n",
       "      <td>-0.173053</td>\n",
       "      <td>-0.204646</td>\n",
       "      <td>-0.121835</td>\n",
       "      <td>0.038656</td>\n",
       "      <td>-0.749300</td>\n",
       "    </tr>\n",
       "    <tr>\n",
       "      <th>V15</th>\n",
       "      <td>-0.158370</td>\n",
       "      <td>0.124087</td>\n",
       "      <td>-0.176694</td>\n",
       "      <td>0.153023</td>\n",
       "      <td>-0.134415</td>\n",
       "      <td>0.095641</td>\n",
       "      <td>-0.042235</td>\n",
       "      <td>0.189152</td>\n",
       "      <td>0.142204</td>\n",
       "      <td>0.141495</td>\n",
       "      <td>...</td>\n",
       "      <td>0.135684</td>\n",
       "      <td>-0.083225</td>\n",
       "      <td>-0.058577</td>\n",
       "      <td>0.020313</td>\n",
       "      <td>-0.013623</td>\n",
       "      <td>0.054701</td>\n",
       "      <td>0.171379</td>\n",
       "      <td>0.090581</td>\n",
       "      <td>0.064410</td>\n",
       "      <td>-0.047243</td>\n",
       "    </tr>\n",
       "    <tr>\n",
       "      <th>V16</th>\n",
       "      <td>0.239819</td>\n",
       "      <td>0.634093</td>\n",
       "      <td>-0.630754</td>\n",
       "      <td>0.727013</td>\n",
       "      <td>-0.726225</td>\n",
       "      <td>0.689151</td>\n",
       "      <td>0.429602</td>\n",
       "      <td>0.745719</td>\n",
       "      <td>-0.172940</td>\n",
       "      <td>0.726693</td>\n",
       "      <td>...</td>\n",
       "      <td>-0.151761</td>\n",
       "      <td>-0.095323</td>\n",
       "      <td>-0.002226</td>\n",
       "      <td>-0.046491</td>\n",
       "      <td>0.059624</td>\n",
       "      <td>-0.056868</td>\n",
       "      <td>-0.025939</td>\n",
       "      <td>0.013255</td>\n",
       "      <td>-0.012647</td>\n",
       "      <td>-0.596130</td>\n",
       "    </tr>\n",
       "    <tr>\n",
       "      <th>V17</th>\n",
       "      <td>0.242090</td>\n",
       "      <td>0.674044</td>\n",
       "      <td>-0.638490</td>\n",
       "      <td>0.736747</td>\n",
       "      <td>-0.711190</td>\n",
       "      <td>0.743908</td>\n",
       "      <td>0.420177</td>\n",
       "      <td>0.767308</td>\n",
       "      <td>-0.220014</td>\n",
       "      <td>0.757540</td>\n",
       "      <td>...</td>\n",
       "      <td>-0.094778</td>\n",
       "      <td>-0.120107</td>\n",
       "      <td>0.014367</td>\n",
       "      <td>-0.079999</td>\n",
       "      <td>0.035731</td>\n",
       "      <td>-0.044585</td>\n",
       "      <td>-0.001577</td>\n",
       "      <td>0.049549</td>\n",
       "      <td>-0.017260</td>\n",
       "      <td>-0.559297</td>\n",
       "    </tr>\n",
       "    <tr>\n",
       "      <th>V18</th>\n",
       "      <td>0.267719</td>\n",
       "      <td>0.677005</td>\n",
       "      <td>-0.616502</td>\n",
       "      <td>0.703055</td>\n",
       "      <td>-0.643402</td>\n",
       "      <td>0.743120</td>\n",
       "      <td>0.354045</td>\n",
       "      <td>0.760384</td>\n",
       "      <td>-0.180221</td>\n",
       "      <td>0.709725</td>\n",
       "      <td>...</td>\n",
       "      <td>-0.080567</td>\n",
       "      <td>-0.113816</td>\n",
       "      <td>0.018605</td>\n",
       "      <td>-0.107174</td>\n",
       "      <td>0.061773</td>\n",
       "      <td>-0.019152</td>\n",
       "      <td>0.048970</td>\n",
       "      <td>0.088890</td>\n",
       "      <td>-0.010208</td>\n",
       "      <td>-0.467395</td>\n",
       "    </tr>\n",
       "    <tr>\n",
       "      <th>V19</th>\n",
       "      <td>-0.082197</td>\n",
       "      <td>-0.304833</td>\n",
       "      <td>0.219866</td>\n",
       "      <td>-0.319058</td>\n",
       "      <td>0.313963</td>\n",
       "      <td>-0.400659</td>\n",
       "      <td>-0.221181</td>\n",
       "      <td>-0.349703</td>\n",
       "      <td>0.214878</td>\n",
       "      <td>-0.331064</td>\n",
       "      <td>...</td>\n",
       "      <td>0.116810</td>\n",
       "      <td>0.126350</td>\n",
       "      <td>-0.000858</td>\n",
       "      <td>0.113719</td>\n",
       "      <td>-0.156478</td>\n",
       "      <td>0.061500</td>\n",
       "      <td>0.053423</td>\n",
       "      <td>-0.035647</td>\n",
       "      <td>0.056814</td>\n",
       "      <td>0.267236</td>\n",
       "    </tr>\n",
       "    <tr>\n",
       "      <th>V20</th>\n",
       "      <td>-0.043627</td>\n",
       "      <td>-0.291710</td>\n",
       "      <td>0.302372</td>\n",
       "      <td>-0.339721</td>\n",
       "      <td>0.284531</td>\n",
       "      <td>-0.303936</td>\n",
       "      <td>-0.110169</td>\n",
       "      <td>-0.369836</td>\n",
       "      <td>-0.033486</td>\n",
       "      <td>-0.377356</td>\n",
       "      <td>...</td>\n",
       "      <td>-0.503570</td>\n",
       "      <td>0.411941</td>\n",
       "      <td>0.127248</td>\n",
       "      <td>-0.027120</td>\n",
       "      <td>0.018472</td>\n",
       "      <td>0.007559</td>\n",
       "      <td>-0.147506</td>\n",
       "      <td>0.002412</td>\n",
       "      <td>0.155263</td>\n",
       "      <td>0.167828</td>\n",
       "    </tr>\n",
       "    <tr>\n",
       "      <th>V21</th>\n",
       "      <td>-0.059371</td>\n",
       "      <td>0.015141</td>\n",
       "      <td>0.042182</td>\n",
       "      <td>0.027944</td>\n",
       "      <td>-0.020413</td>\n",
       "      <td>0.042926</td>\n",
       "      <td>0.019672</td>\n",
       "      <td>0.039759</td>\n",
       "      <td>-0.112179</td>\n",
       "      <td>0.158310</td>\n",
       "      <td>...</td>\n",
       "      <td>1.000000</td>\n",
       "      <td>-0.745430</td>\n",
       "      <td>0.122735</td>\n",
       "      <td>-0.050955</td>\n",
       "      <td>0.128194</td>\n",
       "      <td>0.028843</td>\n",
       "      <td>0.363336</td>\n",
       "      <td>0.278829</td>\n",
       "      <td>0.021660</td>\n",
       "      <td>0.127619</td>\n",
       "    </tr>\n",
       "    <tr>\n",
       "      <th>V22</th>\n",
       "      <td>0.127243</td>\n",
       "      <td>-0.036369</td>\n",
       "      <td>-0.007126</td>\n",
       "      <td>-0.062999</td>\n",
       "      <td>0.115651</td>\n",
       "      <td>-0.093331</td>\n",
       "      <td>0.000599</td>\n",
       "      <td>-0.116823</td>\n",
       "      <td>0.033949</td>\n",
       "      <td>-0.239474</td>\n",
       "      <td>...</td>\n",
       "      <td>-0.745430</td>\n",
       "      <td>1.000000</td>\n",
       "      <td>0.006605</td>\n",
       "      <td>0.070830</td>\n",
       "      <td>-0.226747</td>\n",
       "      <td>0.019277</td>\n",
       "      <td>-0.362876</td>\n",
       "      <td>-0.243879</td>\n",
       "      <td>-0.016506</td>\n",
       "      <td>0.006000</td>\n",
       "    </tr>\n",
       "    <tr>\n",
       "      <th>V23</th>\n",
       "      <td>0.056263</td>\n",
       "      <td>-0.044828</td>\n",
       "      <td>0.142859</td>\n",
       "      <td>-0.030232</td>\n",
       "      <td>0.021377</td>\n",
       "      <td>-0.083246</td>\n",
       "      <td>0.312061</td>\n",
       "      <td>-0.088185</td>\n",
       "      <td>-0.411371</td>\n",
       "      <td>-0.053021</td>\n",
       "      <td>...</td>\n",
       "      <td>0.122735</td>\n",
       "      <td>0.006605</td>\n",
       "      <td>1.000000</td>\n",
       "      <td>-0.033071</td>\n",
       "      <td>0.085923</td>\n",
       "      <td>0.028293</td>\n",
       "      <td>-0.182545</td>\n",
       "      <td>0.058393</td>\n",
       "      <td>-0.140607</td>\n",
       "      <td>-0.016842</td>\n",
       "    </tr>\n",
       "    <tr>\n",
       "      <th>V24</th>\n",
       "      <td>-0.006637</td>\n",
       "      <td>-0.069080</td>\n",
       "      <td>-0.003630</td>\n",
       "      <td>0.013397</td>\n",
       "      <td>-0.076648</td>\n",
       "      <td>-0.133260</td>\n",
       "      <td>-0.023623</td>\n",
       "      <td>-0.043350</td>\n",
       "      <td>0.074003</td>\n",
       "      <td>0.013555</td>\n",
       "      <td>...</td>\n",
       "      <td>-0.050955</td>\n",
       "      <td>0.070830</td>\n",
       "      <td>-0.033071</td>\n",
       "      <td>1.000000</td>\n",
       "      <td>-0.072969</td>\n",
       "      <td>-0.108859</td>\n",
       "      <td>-0.189591</td>\n",
       "      <td>-0.037292</td>\n",
       "      <td>0.034672</td>\n",
       "      <td>-0.093233</td>\n",
       "    </tr>\n",
       "    <tr>\n",
       "      <th>V25</th>\n",
       "      <td>-0.191925</td>\n",
       "      <td>-0.078672</td>\n",
       "      <td>0.109868</td>\n",
       "      <td>-0.086698</td>\n",
       "      <td>-0.023932</td>\n",
       "      <td>-0.085568</td>\n",
       "      <td>-0.130606</td>\n",
       "      <td>0.050186</td>\n",
       "      <td>0.230876</td>\n",
       "      <td>-0.009124</td>\n",
       "      <td>...</td>\n",
       "      <td>0.128194</td>\n",
       "      <td>-0.226747</td>\n",
       "      <td>0.085923</td>\n",
       "      <td>-0.072969</td>\n",
       "      <td>1.000000</td>\n",
       "      <td>0.070546</td>\n",
       "      <td>0.202095</td>\n",
       "      <td>0.156364</td>\n",
       "      <td>-0.092613</td>\n",
       "      <td>0.030852</td>\n",
       "    </tr>\n",
       "    <tr>\n",
       "      <th>V26</th>\n",
       "      <td>-0.049520</td>\n",
       "      <td>0.057206</td>\n",
       "      <td>-0.004349</td>\n",
       "      <td>-0.011934</td>\n",
       "      <td>0.142661</td>\n",
       "      <td>0.060564</td>\n",
       "      <td>-0.038421</td>\n",
       "      <td>0.025646</td>\n",
       "      <td>0.046463</td>\n",
       "      <td>-0.123856</td>\n",
       "      <td>...</td>\n",
       "      <td>0.028843</td>\n",
       "      <td>0.019277</td>\n",
       "      <td>0.028293</td>\n",
       "      <td>-0.108859</td>\n",
       "      <td>0.070546</td>\n",
       "      <td>1.000000</td>\n",
       "      <td>0.175334</td>\n",
       "      <td>0.023518</td>\n",
       "      <td>-0.036498</td>\n",
       "      <td>0.054180</td>\n",
       "    </tr>\n",
       "    <tr>\n",
       "      <th>V27</th>\n",
       "      <td>-0.137886</td>\n",
       "      <td>0.188382</td>\n",
       "      <td>-0.157267</td>\n",
       "      <td>0.101431</td>\n",
       "      <td>-0.009659</td>\n",
       "      <td>0.182926</td>\n",
       "      <td>-0.160463</td>\n",
       "      <td>0.231121</td>\n",
       "      <td>0.285430</td>\n",
       "      <td>0.124956</td>\n",
       "      <td>...</td>\n",
       "      <td>0.363336</td>\n",
       "      <td>-0.362876</td>\n",
       "      <td>-0.182545</td>\n",
       "      <td>-0.189591</td>\n",
       "      <td>0.202095</td>\n",
       "      <td>0.175334</td>\n",
       "      <td>1.000000</td>\n",
       "      <td>0.234829</td>\n",
       "      <td>0.076673</td>\n",
       "      <td>0.084114</td>\n",
       "    </tr>\n",
       "    <tr>\n",
       "      <th>V28</th>\n",
       "      <td>0.008257</td>\n",
       "      <td>0.173845</td>\n",
       "      <td>0.001391</td>\n",
       "      <td>0.122650</td>\n",
       "      <td>-0.066001</td>\n",
       "      <td>0.161364</td>\n",
       "      <td>-0.033421</td>\n",
       "      <td>0.142069</td>\n",
       "      <td>-0.012403</td>\n",
       "      <td>0.132097</td>\n",
       "      <td>...</td>\n",
       "      <td>0.278829</td>\n",
       "      <td>-0.243879</td>\n",
       "      <td>0.058393</td>\n",
       "      <td>-0.037292</td>\n",
       "      <td>0.156364</td>\n",
       "      <td>0.023518</td>\n",
       "      <td>0.234829</td>\n",
       "      <td>1.000000</td>\n",
       "      <td>-0.063006</td>\n",
       "      <td>0.083695</td>\n",
       "    </tr>\n",
       "    <tr>\n",
       "      <th>Amount</th>\n",
       "      <td>0.009436</td>\n",
       "      <td>-0.038952</td>\n",
       "      <td>-0.242606</td>\n",
       "      <td>-0.011386</td>\n",
       "      <td>0.008504</td>\n",
       "      <td>-0.120732</td>\n",
       "      <td>0.175496</td>\n",
       "      <td>0.134264</td>\n",
       "      <td>0.016716</td>\n",
       "      <td>0.024225</td>\n",
       "      <td>...</td>\n",
       "      <td>0.021660</td>\n",
       "      <td>-0.016506</td>\n",
       "      <td>-0.140607</td>\n",
       "      <td>0.034672</td>\n",
       "      <td>-0.092613</td>\n",
       "      <td>-0.036498</td>\n",
       "      <td>0.076673</td>\n",
       "      <td>-0.063006</td>\n",
       "      <td>1.000000</td>\n",
       "      <td>0.066813</td>\n",
       "    </tr>\n",
       "    <tr>\n",
       "      <th>Class</th>\n",
       "      <td>-0.146317</td>\n",
       "      <td>-0.432759</td>\n",
       "      <td>0.488436</td>\n",
       "      <td>-0.566514</td>\n",
       "      <td>0.709918</td>\n",
       "      <td>-0.374183</td>\n",
       "      <td>-0.397881</td>\n",
       "      <td>-0.475902</td>\n",
       "      <td>0.058613</td>\n",
       "      <td>-0.557288</td>\n",
       "      <td>...</td>\n",
       "      <td>0.127619</td>\n",
       "      <td>0.006000</td>\n",
       "      <td>-0.016842</td>\n",
       "      <td>-0.093233</td>\n",
       "      <td>0.030852</td>\n",
       "      <td>0.054180</td>\n",
       "      <td>0.084114</td>\n",
       "      <td>0.083695</td>\n",
       "      <td>0.066813</td>\n",
       "      <td>1.000000</td>\n",
       "    </tr>\n",
       "  </tbody>\n",
       "</table>\n",
       "<p>31 rows × 31 columns</p>\n",
       "</div>"
      ],
      "text/plain": [
       "            Time        V1        V2        V3        V4        V5        V6  \\\n",
       "Time    1.000000  0.243504 -0.219290  0.150392 -0.213599  0.284246  0.109074   \n",
       "V1      0.243504  1.000000 -0.788514  0.878486 -0.614344  0.857656  0.316061   \n",
       "V2     -0.219290 -0.788514  1.000000 -0.851641  0.669798 -0.788065 -0.274555   \n",
       "V3      0.150392  0.878486 -0.851641  1.000000 -0.769852  0.851338  0.455204   \n",
       "V4     -0.213599 -0.614344  0.669798 -0.769852  1.000000 -0.577226 -0.427714   \n",
       "V5      0.284246  0.857656 -0.788065  0.851338 -0.577226  1.000000  0.281327   \n",
       "V6      0.109074  0.316061 -0.274555  0.455204 -0.427714  0.281327  1.000000   \n",
       "V7      0.219083  0.879440 -0.841061  0.885676 -0.708569  0.831505  0.286383   \n",
       "V8     -0.139122 -0.081298 -0.019134 -0.171703  0.103306 -0.205122 -0.567232   \n",
       "V9      0.160582  0.656419 -0.695092  0.764147 -0.787899  0.657345  0.365911   \n",
       "V10     0.215843  0.738581 -0.764547  0.856216 -0.793384  0.756552  0.419737   \n",
       "V11    -0.314229 -0.528174  0.614511 -0.715219  0.795849 -0.527781 -0.491172   \n",
       "V12     0.264711  0.592828 -0.665133  0.760801 -0.835326  0.617843  0.496116   \n",
       "V13    -0.108850 -0.054295  0.030445 -0.072463  0.055161 -0.122747 -0.110387   \n",
       "V14     0.179245  0.441607 -0.564009  0.654225 -0.793438  0.431295  0.528895   \n",
       "V15    -0.158370  0.124087 -0.176694  0.153023 -0.134415  0.095641 -0.042235   \n",
       "V16     0.239819  0.634093 -0.630754  0.727013 -0.726225  0.689151  0.429602   \n",
       "V17     0.242090  0.674044 -0.638490  0.736747 -0.711190  0.743908  0.420177   \n",
       "V18     0.267719  0.677005 -0.616502  0.703055 -0.643402  0.743120  0.354045   \n",
       "V19    -0.082197 -0.304833  0.219866 -0.319058  0.313963 -0.400659 -0.221181   \n",
       "V20    -0.043627 -0.291710  0.302372 -0.339721  0.284531 -0.303936 -0.110169   \n",
       "V21    -0.059371  0.015141  0.042182  0.027944 -0.020413  0.042926  0.019672   \n",
       "V22     0.127243 -0.036369 -0.007126 -0.062999  0.115651 -0.093331  0.000599   \n",
       "V23     0.056263 -0.044828  0.142859 -0.030232  0.021377 -0.083246  0.312061   \n",
       "V24    -0.006637 -0.069080 -0.003630  0.013397 -0.076648 -0.133260 -0.023623   \n",
       "V25    -0.191925 -0.078672  0.109868 -0.086698 -0.023932 -0.085568 -0.130606   \n",
       "V26    -0.049520  0.057206 -0.004349 -0.011934  0.142661  0.060564 -0.038421   \n",
       "V27    -0.137886  0.188382 -0.157267  0.101431 -0.009659  0.182926 -0.160463   \n",
       "V28     0.008257  0.173845  0.001391  0.122650 -0.066001  0.161364 -0.033421   \n",
       "Amount  0.009436 -0.038952 -0.242606 -0.011386  0.008504 -0.120732  0.175496   \n",
       "Class  -0.146317 -0.432759  0.488436 -0.566514  0.709918 -0.374183 -0.397881   \n",
       "\n",
       "              V7        V8        V9  ...       V21       V22       V23  \\\n",
       "Time    0.219083 -0.139122  0.160582  ... -0.059371  0.127243  0.056263   \n",
       "V1      0.879440 -0.081298  0.656419  ...  0.015141 -0.036369 -0.044828   \n",
       "V2     -0.841061 -0.019134 -0.695092  ...  0.042182 -0.007126  0.142859   \n",
       "V3      0.885676 -0.171703  0.764147  ...  0.027944 -0.062999 -0.030232   \n",
       "V4     -0.708569  0.103306 -0.787899  ... -0.020413  0.115651  0.021377   \n",
       "V5      0.831505 -0.205122  0.657345  ...  0.042926 -0.093331 -0.083246   \n",
       "V6      0.286383 -0.567232  0.365911  ...  0.019672  0.000599  0.312061   \n",
       "V7      1.000000  0.086427  0.761852  ...  0.039759 -0.116823 -0.088185   \n",
       "V8      0.086427  1.000000 -0.076615  ... -0.112179  0.033949 -0.411371   \n",
       "V9      0.761852 -0.076615  1.000000  ...  0.158310 -0.239474 -0.053021   \n",
       "V10     0.864887 -0.052917  0.848146  ...  0.083027 -0.209756 -0.050829   \n",
       "V11    -0.637376  0.170937 -0.697894  ...  0.140059  0.015239 -0.028389   \n",
       "V12     0.717517 -0.166496  0.765619  ... -0.076306 -0.106315  0.008305   \n",
       "V13    -0.022395  0.272439 -0.039125  ... -0.001352  0.017253 -0.092751   \n",
       "V14     0.541450 -0.186303  0.674653  ... -0.225108  0.066109  0.017461   \n",
       "V15     0.189152  0.142204  0.141495  ...  0.135684 -0.083225 -0.058577   \n",
       "V16     0.745719 -0.172940  0.726693  ... -0.151761 -0.095323 -0.002226   \n",
       "V17     0.767308 -0.220014  0.757540  ... -0.094778 -0.120107  0.014367   \n",
       "V18     0.760384 -0.180221  0.709725  ... -0.080567 -0.113816  0.018605   \n",
       "V19    -0.349703  0.214878 -0.331064  ...  0.116810  0.126350 -0.000858   \n",
       "V20    -0.369836 -0.033486 -0.377356  ... -0.503570  0.411941  0.127248   \n",
       "V21     0.039759 -0.112179  0.158310  ...  1.000000 -0.745430  0.122735   \n",
       "V22    -0.116823  0.033949 -0.239474  ... -0.745430  1.000000  0.006605   \n",
       "V23    -0.088185 -0.411371 -0.053021  ...  0.122735  0.006605  1.000000   \n",
       "V24    -0.043350  0.074003  0.013555  ... -0.050955  0.070830 -0.033071   \n",
       "V25     0.050186  0.230876 -0.009124  ...  0.128194 -0.226747  0.085923   \n",
       "V26     0.025646  0.046463 -0.123856  ...  0.028843  0.019277  0.028293   \n",
       "V27     0.231121  0.285430  0.124956  ...  0.363336 -0.362876 -0.182545   \n",
       "V28     0.142069 -0.012403  0.132097  ...  0.278829 -0.243879  0.058393   \n",
       "Amount  0.134264  0.016716  0.024225  ...  0.021660 -0.016506 -0.140607   \n",
       "Class  -0.475902  0.058613 -0.557288  ...  0.127619  0.006000 -0.016842   \n",
       "\n",
       "             V24       V25       V26       V27       V28    Amount     Class  \n",
       "Time   -0.006637 -0.191925 -0.049520 -0.137886  0.008257  0.009436 -0.146317  \n",
       "V1     -0.069080 -0.078672  0.057206  0.188382  0.173845 -0.038952 -0.432759  \n",
       "V2     -0.003630  0.109868 -0.004349 -0.157267  0.001391 -0.242606  0.488436  \n",
       "V3      0.013397 -0.086698 -0.011934  0.101431  0.122650 -0.011386 -0.566514  \n",
       "V4     -0.076648 -0.023932  0.142661 -0.009659 -0.066001  0.008504  0.709918  \n",
       "V5     -0.133260 -0.085568  0.060564  0.182926  0.161364 -0.120732 -0.374183  \n",
       "V6     -0.023623 -0.130606 -0.038421 -0.160463 -0.033421  0.175496 -0.397881  \n",
       "V7     -0.043350  0.050186  0.025646  0.231121  0.142069  0.134264 -0.475902  \n",
       "V8      0.074003  0.230876  0.046463  0.285430 -0.012403  0.016716  0.058613  \n",
       "V9      0.013555 -0.009124 -0.123856  0.124956  0.132097  0.024225 -0.557288  \n",
       "V10     0.002103  0.021323 -0.032456  0.148009  0.126199  0.002099 -0.626787  \n",
       "V11    -0.118724  0.027557  0.158125  0.175060  0.030228 -0.019864  0.685878  \n",
       "V12     0.042980  0.031647 -0.117351 -0.028975  0.003238  0.018905 -0.683009  \n",
       "V13     0.046037  0.000182  0.040605  0.050585 -0.107254  0.009853 -0.052056  \n",
       "V14     0.143588 -0.082312 -0.173053 -0.204646 -0.121835  0.038656 -0.749300  \n",
       "V15     0.020313 -0.013623  0.054701  0.171379  0.090581  0.064410 -0.047243  \n",
       "V16    -0.046491  0.059624 -0.056868 -0.025939  0.013255 -0.012647 -0.596130  \n",
       "V17    -0.079999  0.035731 -0.044585 -0.001577  0.049549 -0.017260 -0.559297  \n",
       "V18    -0.107174  0.061773 -0.019152  0.048970  0.088890 -0.010208 -0.467395  \n",
       "V19     0.113719 -0.156478  0.061500  0.053423 -0.035647  0.056814  0.267236  \n",
       "V20    -0.027120  0.018472  0.007559 -0.147506  0.002412  0.155263  0.167828  \n",
       "V21    -0.050955  0.128194  0.028843  0.363336  0.278829  0.021660  0.127619  \n",
       "V22     0.070830 -0.226747  0.019277 -0.362876 -0.243879 -0.016506  0.006000  \n",
       "V23    -0.033071  0.085923  0.028293 -0.182545  0.058393 -0.140607 -0.016842  \n",
       "V24     1.000000 -0.072969 -0.108859 -0.189591 -0.037292  0.034672 -0.093233  \n",
       "V25    -0.072969  1.000000  0.070546  0.202095  0.156364 -0.092613  0.030852  \n",
       "V26    -0.108859  0.070546  1.000000  0.175334  0.023518 -0.036498  0.054180  \n",
       "V27    -0.189591  0.202095  0.175334  1.000000  0.234829  0.076673  0.084114  \n",
       "V28    -0.037292  0.156364  0.023518  0.234829  1.000000 -0.063006  0.083695  \n",
       "Amount  0.034672 -0.092613 -0.036498  0.076673 -0.063006  1.000000  0.066813  \n",
       "Class  -0.093233  0.030852  0.054180  0.084114  0.083695  0.066813  1.000000  \n",
       "\n",
       "[31 rows x 31 columns]"
      ]
     },
     "execution_count": 12,
     "metadata": {},
     "output_type": "execute_result"
    }
   ],
   "source": [
    "df.corr()"
   ]
  },
  {
   "cell_type": "code",
   "execution_count": 13,
   "metadata": {
    "colab": {
     "base_uri": "https://localhost:8080/",
     "height": 352
    },
    "id": "cUPJTfHSWb_O",
    "outputId": "eda30643-8a04-4e00-a3b7-0869e7e6ca67"
   },
   "outputs": [
    {
     "data": {
      "image/png": "[encoded data removed]",
      "text/plain": [
       "<Figure size 720x360 with 4 Axes>"
      ]
     },
     "metadata": {
      "needs_background": "light"
     },
     "output_type": "display_data"
    }
   ],
   "source": [
    "plt.figure(figsize=(10, 5))\n",
    "plt.subplot(1,2,1);\n",
    "plt.title('Positively co-related')\n",
    "sns.heatmap(df.corr()>0)\n",
    "\n",
    "plt.subplot(1,2,2); \n",
    "plt.title('Negatively co-related')\n",
    "sns.heatmap(df.corr()<0)\n",
    "\n",
    "plt.subplots_adjust(wspace=0.5, hspace=0.5)"
   ]
  },
  {
   "cell_type": "code",
   "execution_count": 14,
   "metadata": {
    "colab": {
     "base_uri": "https://localhost:8080/",
     "height": 286
    },
    "id": "ELPK9DkoaUGC",
    "outputId": "ac30004e-8cd9-4fa3-bb66-8913776ea431"
   },
   "outputs": [
    {
     "data": {
      "image/png": "[encoded data removed]",
      "text/plain": [
       "<Figure size 432x288 with 2 Axes>"
      ]
     },
     "metadata": {
      "needs_background": "light"
     },
     "output_type": "display_data"
    }
   ],
   "source": [
    "sns.heatmap(df.corr());\n",
    "# class is negatively correlated with v1, v3, "
   ]
  },
  {
   "cell_type": "code",
   "execution_count": 15,
   "metadata": {
    "colab": {
     "base_uri": "https://localhost:8080/"
    },
    "id": "avP-PC-TeegK",
    "outputId": "0784fe4f-3cb1-4b4a-a3f6-caa7e65de51b"
   },
   "outputs": [
    {
     "data": {
      "text/plain": [
       "Time       True\n",
       "V1         True\n",
       "V2        False\n",
       "V3         True\n",
       "V4        False\n",
       "V5         True\n",
       "V6         True\n",
       "V7         True\n",
       "V8        False\n",
       "V9         True\n",
       "V10        True\n",
       "V11       False\n",
       "V12        True\n",
       "V13        True\n",
       "V14        True\n",
       "V15       False\n",
       "V16        True\n",
       "V17        True\n",
       "V18        True\n",
       "V19       False\n",
       "V20       False\n",
       "V21       False\n",
       "V22       False\n",
       "V23       False\n",
       "V24        True\n",
       "V25       False\n",
       "V26       False\n",
       "V27       False\n",
       "V28       False\n",
       "Amount    False\n",
       "Class     False\n",
       "Name: Class, dtype: bool"
      ]
     },
     "execution_count": 15,
     "metadata": {},
     "output_type": "execute_result"
    }
   ],
   "source": [
    "df.corr()['Class']<=-0.5 # v3 , v9, v10, v12, v14, v16, v17 (-0.5  to -1)\n",
    "df.corr()['Class']<=-0.25 # v1, v5, v6, v7, v18\n",
    "df.corr()['Class']<= -0.05 # v13, v24\n",
    "\n",
    "# 1,2,3,5,6,7,9,10,12,13,14,16,17,18,24 - negatively related\n"
   ]
  },
  {
   "cell_type": "code",
   "execution_count": 16,
   "metadata": {
    "id": "vFCnn_vwnaR9"
   },
   "outputs": [],
   "source": [
    "# Create correlation matrix\n",
    "corr_matrix = df.corr().abs()\n",
    "\n",
    "# Select upper triangle of correlation matrix\n",
    "upper = corr_matrix.where(np.triu(np.ones(corr_matrix.shape), k=1).astype(np.bool)) #tril --lower triangular \n",
    "#k=0 for diagnol ele as well ..... k=-n displays n diagnol rows below diagnol \n",
    "#where expects bool so astype(np.bool)\n"
   ]
  },
  {
   "cell_type": "code",
   "execution_count": 17,
   "metadata": {
    "colab": {
     "base_uri": "https://localhost:8080/"
    },
    "id": "WKSYFzQ3nc3P",
    "outputId": "54d35a8c-6a0c-43df-d137-9f5ca15bbd9a"
   },
   "outputs": [
    {
     "data": {
      "text/plain": [
       "['V2',\n",
       " 'V3',\n",
       " 'V4',\n",
       " 'V5',\n",
       " 'V6',\n",
       " 'V7',\n",
       " 'V8',\n",
       " 'V9',\n",
       " 'V10',\n",
       " 'V11',\n",
       " 'V12',\n",
       " 'V14',\n",
       " 'V16',\n",
       " 'V17',\n",
       " 'V18',\n",
       " 'V19',\n",
       " 'V20',\n",
       " 'V21',\n",
       " 'V22',\n",
       " 'V23',\n",
       " 'V27',\n",
       " 'Class']"
      ]
     },
     "execution_count": 17,
     "metadata": {},
     "output_type": "execute_result"
    }
   ],
   "source": [
    "upper\n",
    "need = [column for column in upper.columns if any(upper[column]>0.3)]\n",
    "need"
   ]
  },
  {
   "cell_type": "code",
   "execution_count": 18,
   "metadata": {
    "id": "m-frVAdKvyu_"
   },
   "outputs": [],
   "source": [
    "new_df = df[need] #considering only features with corr > 30%"
   ]
  },
  {
   "cell_type": "code",
   "execution_count": 19,
   "metadata": {
    "id": "rFpaeZNtfxXX"
   },
   "outputs": [],
   "source": [
    "Y = new_df['Class']\n",
    "X = new_df.drop(['Class'], axis=1)\n"
   ]
  },
  {
   "cell_type": "code",
   "execution_count": 22,
   "metadata": {
    "colab": {
     "base_uri": "https://localhost:8080/",
     "height": 427
    },
    "id": "lvNGbvvahBeR",
    "outputId": "a63d7e08-c61a-4e99-8d86-3b96594fe884"
   },
   "outputs": [
    {
     "data": {
      "image/png": "[encoded data removed]",
      "text/plain": [
       "<Figure size 1080x720 with 21 Axes>"
      ]
     },
     "metadata": {
      "needs_background": "light"
     },
     "output_type": "display_data"
    }
   ],
   "source": [
    "# sns.boxplot(x=X['V2'])\n",
    "plt.figure(figsize=(15, 10))\n",
    "\n",
    "for i in range(0,len(need)-1):\n",
    "  plt.subplot(5,5,i+1)\n",
    "  sns.distplot(X[X.columns[i]]);\n",
    "\n",
    "plt.subplots_adjust(wspace=0.7, hspace=0.4)"
   ]
  },
  {
   "cell_type": "code",
   "execution_count": 23,
   "metadata": {
    "colab": {
     "base_uri": "https://localhost:8080/",
     "height": 484
    },
    "id": "zm2HBsNH6bbw",
    "outputId": "f47224b9-2cea-4ca5-f211-b3909784356a"
   },
   "outputs": [
    {
     "data": {
      "image/png": "[encoded data removed]",
      "text/plain": [
       "<Figure size 1440x1080 with 21 Axes>"
      ]
     },
     "metadata": {
      "needs_background": "light"
     },
     "output_type": "display_data"
    }
   ],
   "source": [
    "#Identifying Outliers --boxplot\n",
    "\n",
    "plt.figure(figsize=(20, 15))\n",
    "\n",
    "for i in range(0,len(need)-1):\n",
    "  plt.title(X.columns[i])\n",
    "  plt.subplot(5,5,i+1)\n",
    "  plt.boxplot(x= X[X.columns[i]]);\n",
    "\n",
    "plt.subplots_adjust(wspace=0.4, hspace=0.4)"
   ]
  },
  {
   "cell_type": "code",
   "execution_count": 24,
   "metadata": {
    "id": "3TeGNzRzjYai"
   },
   "outputs": [],
   "source": [
    "# outliers for v2\n",
    "# dropped = pd.DataFrame()\n",
    "def outliers(threshold = 5, col= new_df['V2']):\n",
    "  \n",
    "  q25, q75 = np.percentile(col, 25) , np.percentile(col, 75)\n",
    "  inter_quartile = q75- q25\n",
    "  cutoff = inter_quartile*threshold\n",
    "  outliers = [x for x in col if x<q25 -cutoff or x>q75 +cutoff]\n",
    "  print(\"no of outliers are\", len(outliers))\n",
    "  # dropped = new_df.drop((new_df[(col > q75 +cutoff) | (col < q25 -cutoff)].index))\n",
    "#here we drop based on just one column value which might loss other column values"
   ]
  },
  {
   "cell_type": "code",
   "execution_count": 25,
   "metadata": {
    "colab": {
     "base_uri": "https://localhost:8080/"
    },
    "id": "BJmd7iwQ_OgZ",
    "outputId": "9da2e8f9-9a6d-4c1d-c8c8-ce2cb7ac3945"
   },
   "outputs": [
    {
     "name": "stdout",
     "output_type": "stream",
     "text": [
      "no of outliers are 2025\n",
      "no of outliers are 4\n",
      "no of outliers are 0\n",
      "no of outliers are 22076\n",
      "no of outliers are 149\n",
      "no of outliers are 12160\n",
      "no of outliers are 41640\n",
      "no of outliers are 1\n",
      "no of outliers are 1\n",
      "no of outliers are 0\n",
      "no of outliers are 0\n",
      "no of outliers are 0\n",
      "no of outliers are 0\n",
      "no of outliers are 0\n",
      "no of outliers are 0\n",
      "no of outliers are 0\n",
      "no of outliers are 11214\n",
      "no of outliers are 18459\n",
      "no of outliers are 4632\n",
      "no of outliers are 14348\n",
      "no of outliers are 14164\n",
      "no of outliers are 0\n"
     ]
    }
   ],
   "source": [
    "#Outlier counts for other as well\n",
    "for each_name in new_df.columns:\n",
    "  outliers(5, new_df[each_name])"
   ]
  },
  {
   "cell_type": "code",
   "execution_count": 26,
   "metadata": {
    "colab": {
     "base_uri": "https://localhost:8080/"
    },
    "id": "VgEtD_8t_ORY",
    "outputId": "88483131-4b45-4a0d-ecec-0b1d905fc826"
   },
   "outputs": [
    {
     "name": "stdout",
     "output_type": "stream",
     "text": [
      "no of outlier rows removed  66416\n"
     ]
    }
   ],
   "source": [
    "#Removing outliers based on z score x-mean/std\n",
    "\n",
    "nn =new_df[(abs(stats.zscore(new_df)) < 3).all(axis=1)] #calculates mean and std dev for each col.... then it retains all the rows which satisfy that criteria\n",
    "print(\"no of outlier rows removed \",len(new_df)- len(nn))"
   ]
  },
  {
   "cell_type": "code",
   "execution_count": 27,
   "metadata": {
    "colab": {
     "base_uri": "https://localhost:8080/",
     "height": 485
    },
    "id": "qBKziJdSkYzH",
    "outputId": "15957aa6-bf79-4cb0-a7ce-0e3af07b2b2c"
   },
   "outputs": [
    {
     "data": {
      "image/png": "[encoded data removed]",
      "text/plain": [
       "<Figure size 1440x1080 with 21 Axes>"
      ]
     },
     "metadata": {
      "needs_background": "light"
     },
     "output_type": "display_data"
    }
   ],
   "source": [
    "plt.figure(figsize=(20, 15))\n",
    "\n",
    "for i in range(0,len(nn.columns)-1):\n",
    "  plt.title(nn.columns[i])\n",
    "  plt.subplot(5,5,i+1)\n",
    "  plt.boxplot(x= nn[nn.columns[i]]);\n",
    "\n",
    "plt.subplots_adjust(wspace=0.4, hspace=0.4)"
   ]
  },
  {
   "cell_type": "code",
   "execution_count": 28,
   "metadata": {
    "colab": {
     "base_uri": "https://localhost:8080/"
    },
    "id": "zShtGeOqpCJy",
    "outputId": "f785e472-a70b-4cf0-cb78-f259da14db5a"
   },
   "outputs": [
    {
     "name": "stderr",
     "output_type": "stream",
     "text": [
      "C:\\Users\\bujji\\anaconda3\\lib\\site-packages\\ipykernel_launcher.py:2: SettingWithCopyWarning: \n",
      "A value is trying to be set on a copy of a slice from a DataFrame.\n",
      "Try using .loc[row_indexer,col_indexer] = value instead\n",
      "\n",
      "See the caveats in the documentation: https://pandas.pydata.org/pandas-docs/stable/user_guide/indexing.html#returning-a-view-versus-a-copy\n",
      "  \n"
     ]
    }
   ],
   "source": [
    "index = range(0, len(nn), 1)\n",
    "nn['index'] = index\n",
    "nn.set_index('index')\n",
    "\n",
    "Y = nn[['Class']]\n",
    "X = nn.drop(['Class'], axis=1)"
   ]
  },
  {
   "cell_type": "code",
   "execution_count": 29,
   "metadata": {
    "id": "38lN_1fYpXLr"
   },
   "outputs": [],
   "source": [
    "Xmean = np.mean(X)\n",
    "Xmin = np.min(X)\n",
    "Xmax = np.max(X)\n",
    "Xscaled = (X-Xmin)/(Xmax-Xmin) #normalizing"
   ]
  },
  {
   "cell_type": "code",
   "execution_count": 30,
   "metadata": {
    "colab": {
     "base_uri": "https://localhost:8080/"
    },
    "id": "ydPp9rSO1OtS",
    "outputId": "7ecfba48-4a0f-4892-97e3-4e95c1650ffc"
   },
   "outputs": [
    {
     "data": {
      "text/plain": [
       "(501291, 22)"
      ]
     },
     "execution_count": 30,
     "metadata": {},
     "output_type": "execute_result"
    }
   ],
   "source": [
    "Xscaled.shape"
   ]
  },
  {
   "cell_type": "code",
   "execution_count": 31,
   "metadata": {
    "colab": {
     "base_uri": "https://localhost:8080/"
    },
    "id": "7Z2bUygL2Ry9",
    "outputId": "f6d481d0-9db9-4e4c-dbbe-a0f1c97f500d"
   },
   "outputs": [
    {
     "data": {
      "text/plain": [
       "['V3', 'V4', 'V7', 'V10', 'V11', 'V12', 'V14', 'V16', 'V17', 'V18']"
      ]
     },
     "execution_count": 31,
     "metadata": {},
     "output_type": "execute_result"
    }
   ],
   "source": [
    "# Remove Highly correlated columns\n",
    "corr_matrix = Xscaled.corr().abs()\n",
    "\n",
    "# Select upper triangle of correlation matrix\n",
    "upper = corr_matrix.where(np.triu(np.ones(corr_matrix.shape), k=1).astype(np.bool)) #tril --lower triangular \n",
    "\n",
    "highly_correlated = [column for column in upper.columns if any(upper[column]>0.7)]\n",
    "highly_correlated"
   ]
  },
  {
   "cell_type": "code",
   "execution_count": 32,
   "metadata": {
    "id": "TnUQB3cTP-Qm"
   },
   "outputs": [],
   "source": [
    "s = set(Xscaled.columns)- set(highly_correlated)\n",
    "log_df = Xscaled[list(s)]\n",
    "# log_df\n",
    "xtrain, xtest, ytrain, ytest = train_test_split(log_df, Y, test_size = 0.25, random_state = 0) "
   ]
  },
  {
   "cell_type": "code",
   "execution_count": 33,
   "metadata": {
    "colab": {
     "base_uri": "https://localhost:8080/"
    },
    "id": "uX_b2kZgVEzs",
    "outputId": "0119d4bd-7a3b-44f3-a69d-a71fa00e4c16"
   },
   "outputs": [
    {
     "data": {
      "text/plain": [
       "LogisticRegression(random_state=0)"
      ]
     },
     "execution_count": 33,
     "metadata": {},
     "output_type": "execute_result"
    }
   ],
   "source": [
    "classifier = LogisticRegression(random_state = 0) \n",
    "classifier.fit(xtrain, ytrain['Class'].ravel()) "
   ]
  },
  {
   "cell_type": "code",
   "execution_count": 34,
   "metadata": {
    "id": "OSVMxypHVPeN"
   },
   "outputs": [],
   "source": [
    "y_pred = classifier.predict(xtest) "
   ]
  },
  {
   "cell_type": "code",
   "execution_count": 35,
   "metadata": {
    "colab": {
     "base_uri": "https://localhost:8080/"
    },
    "id": "eO_hnyuSVT_7",
    "outputId": "75a4e15b-4f78-4182-c9e5-23c0c100c6ab"
   },
   "outputs": [
    {
     "name": "stdout",
     "output_type": "stream",
     "text": [
      "Confusion Matrix : \n",
      " [[69855   127]\n",
      " [  243 55098]]\n",
      "\n",
      "Accuracy is  0.9970476289268531\n",
      "\n",
      "Precision is 0.9981852476351062\n",
      "\n",
      "Recall is  0.9965334246340837\n"
     ]
    }
   ],
   "source": [
    "\n",
    "cm = confusion_matrix(ytest, y_pred) \n",
    "  \n",
    "print (\"Confusion Matrix : \\n\", cm)\n",
    "print(\"\\nAccuracy is \",(cm[0][0] +cm[1][1])/(cm[0][1]+cm[1][0]+cm[0][0]+cm[1][1]))  #TRUE/ALL\n",
    "print(\"\\nPrecision is\", cm[0][0]/(cm[0][0]+cm[0][1]))  # Precision = TP/ (TP + FP)\n",
    "print(\"\\nRecall is \",cm[0][0]/(cm[0][0]+cm[1][0]) ) #RECALL = TP/(TP + FN)\n"
   ]
  },
  {
   "cell_type": "code",
   "execution_count": 37,
   "metadata": {
    "colab": {
     "base_uri": "https://localhost:8080/",
     "height": 282
    },
    "id": "CfpGvU6-hr6N",
    "outputId": "b260cc1b-b1b2-44b8-c3cc-f6814f8cf1e6"
   },
   "outputs": [
    {
     "data": {
      "image/png": "[encoded data removed]",
      "text/plain": [
       "<Figure size 432x288 with 1 Axes>"
      ]
     },
     "metadata": {
      "needs_background": "light"
     },
     "output_type": "display_data"
    }
   ],
   "source": [
    "### ROC\n",
    "fpr,tpr,threshold = roc_curve(ytest, y_pred, pos_label =1 )\n",
    "plt.plot(fpr,tpr);"
   ]
  },
  {
   "cell_type": "code",
   "execution_count": 38,
   "metadata": {
    "id": "oWfumamgjEF9"
   },
   "outputs": [],
   "source": [
    "#testing with original dataset\n",
    "Ydata = df['Class']\n",
    "df['index']=[x for x in range(len(df))]\n",
    "Xdata = df.drop(['Class'], axis=1)\n",
    "XData = Xdata[list(s)]\n",
    "\n",
    "test_pred = classifier.predict(XData)"
   ]
  },
  {
   "cell_type": "code",
   "execution_count": 39,
   "metadata": {
    "colab": {
     "base_uri": "https://localhost:8080/"
    },
    "id": "J1rHHUZ-l2kH",
    "outputId": "096c3531-ad2e-45fc-bd6b-93b20717c461"
   },
   "outputs": [
    {
     "name": "stdout",
     "output_type": "stream",
     "text": [
      "Confusion Matrix : \n",
      " [[284315      0]\n",
      " [283391      1]]\n",
      "\n",
      "Accuracy is  0.5008146808124614\n",
      "\n",
      "Precision is 1.0\n",
      "\n",
      "Recall is  0.5008138015099365\n"
     ]
    }
   ],
   "source": [
    "cm = confusion_matrix(Ydata, test_pred) \n",
    "  \n",
    "print (\"Confusion Matrix : \\n\", cm)\n",
    "print(\"\\nAccuracy is \",(cm[0][0] +cm[1][1])/(cm[0][1]+cm[1][0]+cm[0][0]+cm[1][1])) \n",
    "print(\"\\nPrecision is\", cm[0][0]/(cm[0][0]+cm[0][1]))\n",
    "print(\"\\nRecall is \",cm[0][0]/(cm[0][0]+cm[1][0]) )"
   ]
  },
  {
   "cell_type": "code",
   "execution_count": 40,
   "metadata": {
    "colab": {
     "base_uri": "https://localhost:8080/",
     "height": 312
    },
    "id": "TYsSL9A2mmk5",
    "outputId": "779c7a3b-4b81-4a2d-d58a-6339ab202dac"
   },
   "outputs": [
    {
     "data": {
      "text/plain": [
       "<matplotlib.legend.Legend at 0x2a782c4a988>"
      ]
     },
     "execution_count": 40,
     "metadata": {},
     "output_type": "execute_result"
    },
    {
     "data": {
      "image/png": "[encoded data removed]",
      "text/plain": [
       "<Figure size 432x288 with 1 Axes>"
      ]
     },
     "metadata": {
      "needs_background": "light"
     },
     "output_type": "display_data"
    }
   ],
   "source": [
    "### ROC\n",
    "plt.title(\"ROC CURVES\")\n",
    "fpr1,tpr1,threshold1 = roc_curve(Ydata, test_pred, pos_label =1 )\n",
    "plt.plot(fpr1,tpr1, color='red', label = 'entire dataset without preprocessing')\n",
    "plt.plot(fpr, tpr, color='green', label = 'preprocessed data')\n",
    "plt.xlabel(\"False Positive Rate\")  #FPR = FP/N\n",
    "plt.ylabel(\"True Positive Rate\")  #TPR = TP/P #PRECISION\n",
    "plt.legend(loc='lower right')"
   ]
  },
  {
   "cell_type": "markdown",
   "metadata": {
    "id": "CgGVnSsqoPuo"
   },
   "source": [
    "# With SMOTE - Proper way\n",
    "\n"
   ]
  },
  {
   "cell_type": "code",
   "execution_count": 41,
   "metadata": {
    "colab": {
     "base_uri": "https://localhost:8080/",
     "height": 350
    },
    "id": "kh1iWsGPoLgC",
    "outputId": "30cbdee7-1c18-4e6a-f122-2f6d5792934b"
   },
   "outputs": [
    {
     "data": {
      "text/plain": [
       "<matplotlib.axes._subplots.AxesSubplot at 0x2a7939189c8>"
      ]
     },
     "execution_count": 41,
     "metadata": {},
     "output_type": "execute_result"
    },
    {
     "data": {
      "image/png": "[encoded data removed]",
      "text/plain": [
       "<Figure size 432x288 with 1 Axes>"
      ]
     },
     "metadata": {
      "needs_background": "light"
     },
     "output_type": "display_data"
    }
   ],
   "source": [
    "df2 = pd.read_csv(\"creditcard.csv\")\n",
    "sns.countplot(df2['Class'])"
   ]
  },
  {
   "cell_type": "code",
   "execution_count": 42,
   "metadata": {
    "colab": {
     "base_uri": "https://localhost:8080/"
    },
    "id": "3aqXxg-Szi4i",
    "outputId": "7916c056-4d35-480d-c306-307b89cf60af"
   },
   "outputs": [],
   "source": [
    "from imblearn.over_sampling import SMOTE #Synthetic Minority Oversampling Technique\n",
    "from imblearn.under_sampling import RandomUnderSampler\n",
    "from imblearn.pipeline import Pipeline\n",
    "\n",
    "over = SMOTE(sampling_strategy=0.4)\n",
    "under = RandomUnderSampler(sampling_strategy=0.8)"
   ]
  },
  {
   "cell_type": "code",
   "execution_count": 43,
   "metadata": {
    "colab": {
     "base_uri": "https://localhost:8080/"
    },
    "id": "m2a7Z546zi76",
    "outputId": "e96a41ad-31e2-4329-94eb-96a455baadb1"
   },
   "outputs": [],
   "source": [
    "steps = [('o', over), ('u', under)]\n",
    "pipeline = Pipeline(steps=steps)\n",
    "X, y = pipeline.fit_resample(df2[df2.columns[:-1]], df2['Class'])"
   ]
  },
  {
   "cell_type": "code",
   "execution_count": 45,
   "metadata": {
    "colab": {
     "base_uri": "https://localhost:8080/",
     "height": 282
    },
    "id": "N0Lim6L5dC2V",
    "outputId": "849f74ac-35c3-4fc0-c023-a370845e08c4"
   },
   "outputs": [
    {
     "data": {
      "image/png": "[encoded data removed]",
      "text/plain": [
       "<Figure size 432x288 with 1 Axes>"
      ]
     },
     "metadata": {
      "needs_background": "light"
     },
     "output_type": "display_data"
    }
   ],
   "source": [
    "sns.countplot(x=y);\n"
   ]
  },
  {
   "cell_type": "code",
   "execution_count": 46,
   "metadata": {
    "id": "_psqWLENfOgf"
   },
   "outputs": [],
   "source": [
    "Xtrain, Xtest, Ytrain, Ytest = train_test_split(X, y, test_size = 0.25, random_state = 0) "
   ]
  },
  {
   "cell_type": "code",
   "execution_count": 47,
   "metadata": {
    "colab": {
     "base_uri": "https://localhost:8080/"
    },
    "id": "Uil6azipggfS",
    "outputId": "ab6d340f-65dd-4cae-c9c2-d81d792b6f4a"
   },
   "outputs": [],
   "source": [
    "classifier2 = LogisticRegression(random_state = 0) \n",
    "classifier2.fit(Xtrain, Ytrain) \n",
    "pred = classifier2.predict(Xtest)"
   ]
  },
  {
   "cell_type": "code",
   "execution_count": 48,
   "metadata": {
    "colab": {
     "base_uri": "https://localhost:8080/"
    },
    "id": "dqFypskThLkJ",
    "outputId": "d23ff0f5-2443-4c18-c99a-79fafd9720b5"
   },
   "outputs": [
    {
     "name": "stdout",
     "output_type": "stream",
     "text": [
      "Confusion Matrix : \n",
      " [[34879   638]\n",
      " [ 1118 27336]]\n",
      "\n",
      "Accuracy is  0.972550061746729\n",
      "\n",
      "Precision is 0.9820367711236873\n",
      "\n",
      "Recall is  0.9689418562657999\n"
     ]
    }
   ],
   "source": [
    "cm = confusion_matrix(Ytest, pred) \n",
    "  \n",
    "print (\"Confusion Matrix : \\n\", cm)\n",
    "print(\"\\nAccuracy is \",(cm[0][0] +cm[1][1])/(cm[0][1]+cm[1][0]+cm[0][0]+cm[1][1])) \n",
    "print(\"\\nPrecision is\", cm[0][0]/(cm[0][0]+cm[0][1]))\n",
    "print(\"\\nRecall is \",cm[0][0]/(cm[0][0]+cm[1][0]) )"
   ]
  },
  {
   "cell_type": "markdown",
   "metadata": {
    "id": "VopHktirl3Tl"
   },
   "source": [
    "Estimating for entire original dataset"
   ]
  },
  {
   "cell_type": "code",
   "execution_count": 49,
   "metadata": {
    "id": "kyN68A4QhbEY"
   },
   "outputs": [],
   "source": [
    "p=classifier2.predict(df2[df2.columns[:-1]])"
   ]
  },
  {
   "cell_type": "code",
   "execution_count": 50,
   "metadata": {
    "colab": {
     "base_uri": "https://localhost:8080/"
    },
    "id": "Lccj-c2JiEaU",
    "outputId": "13f303dd-ac54-4100-8228-2f30258e25af"
   },
   "outputs": [
    {
     "name": "stdout",
     "output_type": "stream",
     "text": [
      "Confusion Matrix : \n",
      " [[279354   4961]\n",
      " [    53    439]]\n",
      "\n",
      "Accuracy is  0.9823950956261609\n",
      "\n",
      "Precision is 0.9825510437367004\n",
      "\n",
      "Recall is  0.9998103125548036\n"
     ]
    }
   ],
   "source": [
    "cm = confusion_matrix(df2['Class'], p) \n",
    "  \n",
    "print (\"Confusion Matrix : \\n\", cm)\n",
    "print(\"\\nAccuracy is \",(cm[0][0] +cm[1][1])/(cm[0][1]+cm[1][0]+cm[0][0]+cm[1][1])) \n",
    "print(\"\\nPrecision is\", cm[0][0]/(cm[0][0]+cm[0][1]))\n",
    "print(\"\\nRecall is \",cm[0][0]/(cm[0][0]+cm[1][0]) )"
   ]
  },
  {
   "cell_type": "code",
   "execution_count": 51,
   "metadata": {
    "colab": {
     "base_uri": "https://localhost:8080/",
     "height": 312
    },
    "id": "kZxYdMorifzC",
    "outputId": "1a0b8846-03ef-4eb3-b975-1e38090f71da"
   },
   "outputs": [
    {
     "data": {
      "text/plain": [
       "<matplotlib.legend.Legend at 0x2a78c94d948>"
      ]
     },
     "execution_count": 51,
     "metadata": {},
     "output_type": "execute_result"
    },
    {
     "data": {
      "image/png": "[encoded data removed]",
      "text/plain": [
       "<Figure size 432x288 with 1 Axes>"
      ]
     },
     "metadata": {
      "needs_background": "light"
     },
     "output_type": "display_data"
    }
   ],
   "source": [
    "### ROC\n",
    "plt.title(\"ROC CURVES\")\n",
    "fpr2,tpr2,threshold2 = roc_curve(df2['Class'], p, pos_label =1 )\n",
    "fpr3, tpr3, threshold3 = roc_curve(Ytest, pred, pos_label = 1)\n",
    "plt.plot(fpr3, tpr3, color='cyan', linestyle='dashed', linewidth= 5, label = '(C2) with SMOTE on test dataset')\n",
    "plt.plot(fpr1,tpr1, color='red', label = '(C) Entire dataset without preprocessing')\n",
    "plt.plot(fpr, tpr, color='green', label = '(C) Improper oversampling')\n",
    "plt.plot(fpr2, tpr2,color ='orange',linewidth=4,linestyle='dashed',label='(C2) with SMOTE on original dataset')\n",
    "\n",
    "plt.xlabel(\"False Positive Rate\")  #FPR = FP/N\n",
    "plt.ylabel(\"True Positive Rate\")  #TPR = TP/P #PRECISION\n",
    "plt.legend(loc='lower right')"
   ]
  },
  {
   "cell_type": "markdown",
   "metadata": {
    "id": "ovpUQx4YD2rd"
   },
   "source": [
    "Dropping highly correlated columns and outliers"
   ]
  },
  {
   "cell_type": "code",
   "execution_count": 52,
   "metadata": {
    "colab": {
     "base_uri": "https://localhost:8080/"
    },
    "id": "uQnG5MqrooLo",
    "outputId": "f3ea41fa-b02a-4709-a4ad-c850e910baa3"
   },
   "outputs": [
    {
     "name": "stdout",
     "output_type": "stream",
     "text": [
      "228417\n",
      "225239\n"
     ]
    }
   ],
   "source": [
    "data = pd.DataFrame( data = X)\n",
    "data.columns = df.columns[:-2]\n",
    "data = data.drop(highly_correlated,axis=1)\n",
    "data['Class'] = y\n",
    "data0 = data[data['Class']==0]\n",
    "data1 = data[data['Class']==1]\n",
    "out0 = data0[(abs(stats.zscore(data0[data.columns[:-1]]))<3).all(axis=1)]\n",
    "out1 = data1[(abs(stats.zscore(data1[data.columns[:-1]]))<3).all(axis=1)]\n",
    "print(len(out1) + len(out0))\n",
    "no_outliers_df = data[(abs(stats.zscore(data)) < 3).all(axis=1)] \n",
    "print(len(no_outliers_df))\n",
    "\n",
    "\n",
    "class_no_noise = pd.concat([out1, out0])\n"
   ]
  },
  {
   "cell_type": "code",
   "execution_count": 54,
   "metadata": {
    "colab": {
     "base_uri": "https://localhost:8080/"
    },
    "id": "gz4mvkWR6bhC",
    "outputId": "55d6cbaa-984d-4790-bf4d-7154eb07cb29"
   },
   "outputs": [
    {
     "name": "stdout",
     "output_type": "stream",
     "text": [
      "[[28050  3976]\n",
      " [ 3336 21743]]\n",
      "\n",
      "Accuracy is  0.871955170300324\n",
      "\n",
      "Precision is 0.8758508711671766\n",
      "\n",
      "Recall is  0.8937105715924297\n"
     ]
    }
   ],
   "source": [
    "Xtrai, Xtes, Ytrai, Ytes = train_test_split(class_no_noise[class_no_noise.columns[:-1]], class_no_noise[class_no_noise.columns[-1]], test_size = 0.25, random_state = 0)\n",
    "classifier4 = LogisticRegression(random_state = 0) \n",
    "classifier4.fit(Xtrai, Ytrai) \n",
    "predi = classifier4.predict(Xtes)\n",
    "cc = confusion_matrix(Ytes, predi)\n",
    "print(cc)\n",
    "print(\"\\nAccuracy is \",(cc[0][0] +cc[1][1])/(cc[0][1]+cc[1][0]+cc[0][0]+cc[1][1])) \n",
    "print(\"\\nPrecision is\", cc[0][0]/(cc[0][0]+cc[0][1]))\n",
    "print(\"\\nRecall is \",cc[0][0]/(cc[0][0]+cc[1][0]) )\n",
    "\n",
    "fpr6, tpr6, threshold6 = roc_curve(Ytes, predi, pos_label = 1)\n"
   ]
  },
  {
   "cell_type": "code",
   "execution_count": 55,
   "metadata": {
    "id": "HOUg03Eron7A"
   },
   "outputs": [],
   "source": [
    "Xtrain, Xtest, Ytrain, Ytest = train_test_split(no_outliers_df[no_outliers_df.columns[:-1]], no_outliers_df[no_outliers_df.columns[-1]], test_size = 0.25, random_state = 0)\n",
    "classifier3 = LogisticRegression(random_state = 0) \n",
    "classifier3.fit(Xtrain, Ytrain) \n",
    "pred = classifier3.predict(Xtest)"
   ]
  },
  {
   "cell_type": "code",
   "execution_count": 56,
   "metadata": {
    "colab": {
     "base_uri": "https://localhost:8080/"
    },
    "id": "BDhYCKc4_b-R",
    "outputId": "ee545b53-da48-419f-db8b-d04c66ebfc6e"
   },
   "outputs": [
    {
     "name": "stdout",
     "output_type": "stream",
     "text": [
      "[[27795  5575]\n",
      " [ 5094 17846]]\n",
      "\n",
      "Accuracy is  0.8105309891671106\n",
      "\n",
      "Precision is 0.8329337728498651\n",
      "\n",
      "Recall is  0.8451153881236888\n"
     ]
    }
   ],
   "source": [
    "CM = confusion_matrix(Ytest,pred)\n",
    "print(CM)\n",
    "print(\"\\nAccuracy is \",(CM[0][0] +CM[1][1])/(CM[0][1]+CM[1][0]+CM[0][0]+CM[1][1])) \n",
    "print(\"\\nPrecision is\", CM[0][0]/(CM[0][0]+CM[0][1]))\n",
    "print(\"\\nRecall is \",CM[0][0]/(CM[0][0]+CM[1][0]) )"
   ]
  },
  {
   "cell_type": "code",
   "execution_count": 57,
   "metadata": {
    "colab": {
     "base_uri": "https://localhost:8080/"
    },
    "id": "SmdcICBQAGpP",
    "outputId": "793523ef-30a6-472b-d5f5-b6286f17af39"
   },
   "outputs": [
    {
     "name": "stdout",
     "output_type": "stream",
     "text": [
      "[[84184 16197]\n",
      " [15319 53229]]\n",
      "\n",
      "Accuracy is  0.8134364141148056\n",
      "\n",
      "Precision is 0.8386447634512507\n",
      "\n",
      "Recall is  0.8460448428690592\n"
     ]
    }
   ],
   "source": [
    "train_pred = classifier3.predict(Xtrain)\n",
    "CM = confusion_matrix(Ytrain,train_pred)\n",
    "print(CM)\n",
    "print(\"\\nAccuracy is \",(CM[0][0] +CM[1][1])/(CM[0][1]+CM[1][0]+CM[0][0]+CM[1][1])) \n",
    "print(\"\\nPrecision is\", CM[0][0]/(CM[0][0]+CM[0][1]))\n",
    "print(\"\\nRecall is \",CM[0][0]/(CM[0][0]+CM[1][0]) )"
   ]
  },
  {
   "cell_type": "code",
   "execution_count": 60,
   "metadata": {
    "colab": {
     "base_uri": "https://localhost:8080/",
     "height": 530
    },
    "id": "Ga-eNnfMAgrN",
    "outputId": "293417f1-43e6-4613-8096-e92a770d05d0"
   },
   "outputs": [
    {
     "data": {
      "image/png": "[encoded data removed]",
      "text/plain": [
       "<Figure size 504x576 with 1 Axes>"
      ]
     },
     "metadata": {
      "needs_background": "light"
     },
     "output_type": "display_data"
    }
   ],
   "source": [
    "plt.figure(figsize=(7,8))\n",
    "plt.title(\"ROC CURVES with SMOTE\")\n",
    "\n",
    "fpr4, tpr4, threshold4 = roc_curve(Ytrain, train_pred, pos_label = 1)\n",
    "fpr5, tpr5, threshold5 = roc_curve(Ytest, pred, pos_label = 1)\n",
    "plt.plot(fpr3, tpr3, color='cyan', linestyle='dashed', linewidth= 5, label = '(C2) with SMOTE on test dataset')\n",
    "plt.plot(fpr1,tpr1, color='red', label = '(C) Entire dataset without preprocessing')\n",
    "plt.plot(fpr, tpr, color='green', label = '(C) Improper oversampling')\n",
    "plt.plot(fpr2, tpr2,color ='orange',linewidth=4,linestyle='dashed',label='(C2) with SMOTE on original dataset')\n",
    "plt.plot(fpr4, tpr4,color='purple',linewidth=3, label=\"(C3) train dataset with no outlier & no highly corr\" )\n",
    "plt.plot(fpr5, tpr5, color='green',label=\"(C3) test dataset with no outlier & no highly corr\")\n",
    "plt.plot(fpr6, tpr6, color= 'yellow', label='(c4) on test data for outliers based on cls labels' )\n",
    "\n",
    "plt.xlabel(\"False Positive Rate\")  #FPR = FP/N\n",
    "plt.ylabel(\"True Positive Rate\")  #TPR = TP/P #PRECISION\n",
    "plt.legend(loc='lower right');"
   ]
  }
 ],
 "metadata": {
  "colab": {
   "collapsed_sections": [],
   "name": "Logistic Regression.ipynb",
   "provenance": []
  },
  "kernelspec": {
   "display_name": "Python 3",
   "language": "python",
   "name": "python3"
  },
  "language_info": {
   "codemirror_mode": {
    "name": "ipython",
    "version": 3
   },
   "file_extension": ".py",
   "mimetype": "text/x-python",
   "name": "python",
   "nbconvert_exporter": "python",
   "pygments_lexer": "ipython3",
   "version": "3.7.6"
  }
 },
 "nbformat": 4,
 "nbformat_minor": 1
}
